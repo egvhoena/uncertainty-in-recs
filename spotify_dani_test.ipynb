{
  "cells": [
    {
      "cell_type": "code",
      "execution_count": 108,
      "metadata": {
        "id": "CdEanY1byHFT"
      },
      "outputs": [],
      "source": [
        "import json\n",
        "import keras\n",
        "import tensorflow_probability as tfp\n",
        "import tensorflow as tf\n",
        "from sklearn.model_selection import train_test_split\n",
        "import pandas as pd\n",
        "import numpy as np\n",
        "import matplotlib.pyplot as plt\n",
        "import scipy\n",
        "from scipy import sparse\n",
        "from keras import callbacks\n",
        "import pickle\n",
        "import glob\n",
        "import math\n",
        "import random"
      ]
    },
    {
      "cell_type": "markdown",
      "metadata": {
        "id": "alUOV36-jQFh"
      },
      "source": [
        "# Popularity bias"
      ]
    },
    {
      "cell_type": "code",
      "execution_count": 109,
      "metadata": {},
      "outputs": [],
      "source": [
        "def plot_playists_popularity(playists): #FUNCTION THAT PLOTS AL THE SONGS APPEARANCES OF ALL PLAYLISTS\n",
        "    #playlists is a list of lists\n",
        "\n",
        "    num_appearances = {} #Dictionary to store the number of times a song is in a playlist\n",
        "\n",
        "    for playlist in playists:\n",
        "        for song in playlist:\n",
        "            if song in num_appearances.keys():\n",
        "                num_appearances[song] += 1\n",
        "            else:\n",
        "                num_appearances[song] = 1\n",
        "\n",
        "    id, counts = zip(*num_appearances.items())\n",
        "    plt.scatter(id, counts)\n",
        "    plt.xlabel(\"Song number\")\n",
        "    plt.ylabel(\"Number of appearances\")\n",
        "    plt.show() #BREAK POINT HERE TO SEE THE PLOT\n",
        "    return num_appearances"
      ]
    },
    {
      "cell_type": "code",
      "execution_count": 110,
      "metadata": {},
      "outputs": [],
      "source": [
        "def order_playists(playlists):\n",
        "    for playlist in playlists:\n",
        "        playlist.sort()\n",
        "    return playlists"
      ]
    },
    {
      "cell_type": "code",
      "execution_count": 111,
      "metadata": {},
      "outputs": [],
      "source": [
        "def create_pairs(playlists, size): #playlists should be a list of lists, ordered\n",
        "    pairs = np.zeros((size,size))\n",
        "    for playlist in playlists:\n",
        "        p_size = len(playlist)\n",
        "        for i in range(p_size-1):\n",
        "            pairs[playlist[i]][playlist[i+1]] += 1\n",
        "        #pairs[playlist[p_size - 1]][playlist[p_size - 1]+1] += 1\n",
        "    return pairs"
      ]
    },
    {
      "cell_type": "code",
      "execution_count": 112,
      "metadata": {},
      "outputs": [],
      "source": [
        "def create_training_data(pairs):\n",
        "    songs = []\n",
        "    next = []\n",
        "    for i in range(len(pairs)):\n",
        "        songs.append(i)\n",
        "        pred_song = np.argmax(pairs[i])\n",
        "        if i > 0 and pred_song == 0:\n",
        "            num = random.randint(i+1, len(pairs))\n",
        "            next.append(num)\n",
        "        else: next.append(pred_song)\n",
        "        #next.append(pred_song)\n",
        "    d = {\"Song\":songs, \"Next\":next}\n",
        "    df = pd.DataFrame(d)\n",
        "    return df"
      ]
    },
    {
      "cell_type": "code",
      "execution_count": 113,
      "metadata": {
        "id": "v77zw5TujPa_"
      },
      "outputs": [
        {
          "name": "stdout",
          "output_type": "stream",
          "text": [
            "mpd.slice.16000-16999.json\n",
            "mpd.slice.17000-17999.json\n"
          ]
        }
      ],
      "source": [
        "playlists = []\n",
        "total_number_of_songs = 0\n",
        "\n",
        "for f in glob.glob('*.json'):\n",
        "    print(f)\n",
        "    file = json.load(open(f))\n",
        "    for p in file['playlists']:\n",
        "        playlist = []\n",
        "        for track in p['tracks']:\n",
        "            playlist.append(track['artist_name'] + \" - \" + track['track_name'])\n",
        "            total_number_of_songs += 1\n",
        "        playlists.append(playlist)"
      ]
    },
    {
      "cell_type": "code",
      "execution_count": 114,
      "metadata": {
        "id": "cW10zOGWjXuR"
      },
      "outputs": [],
      "source": [
        "freq_dict = {}\n",
        "for p in playlists:\n",
        "  for t in p:\n",
        "    if t in freq_dict.keys():\n",
        "      freq_dict[t] +=1\n",
        "    else:\n",
        "      freq_dict[t] = 1"
      ]
    },
    {
      "cell_type": "code",
      "execution_count": 115,
      "metadata": {
        "id": "fSofBIFxntTJ"
      },
      "outputs": [],
      "source": [
        "popularity_dict = {}\n",
        "for t in freq_dict.keys():\n",
        "  popularity_dict[t] = freq_dict[t] / total_number_of_songs"
      ]
    },
    {
      "cell_type": "code",
      "execution_count": 116,
      "metadata": {
        "id": "0otSvLNeHTzZ"
      },
      "outputs": [],
      "source": [
        "sorted_dict = sorted(popularity_dict.items(), key=lambda item: item[1], reverse=True)"
      ]
    },
    {
      "cell_type": "code",
      "execution_count": 117,
      "metadata": {
        "id": "dwF3TtIrpTkU"
      },
      "outputs": [],
      "source": [
        "i = 0\n",
        "tokenized_sorted = {}\n",
        "for t in sorted_dict:\n",
        "  if t[0] not in tokenized_sorted.keys():\n",
        "    tokenized_sorted[t[0]] = i\n",
        "    i += 1"
      ]
    },
    {
      "cell_type": "code",
      "execution_count": 118,
      "metadata": {
        "id": "0h0LH64zJzDR"
      },
      "outputs": [],
      "source": [
        "playlists_tokenized = []\n",
        "\n",
        "for p in playlists:\n",
        "  playlist = []\n",
        "  for t in p:\n",
        "    playlist.append(tokenized_sorted[t])\n",
        "  #sort playlist\n",
        "  playlists_tokenized.append(sorted(playlist))"
      ]
    },
    {
      "cell_type": "code",
      "execution_count": 119,
      "metadata": {},
      "outputs": [],
      "source": [
        "def create_df(playlists, size):\n",
        "\tsongs = []\n",
        "\tnext = []\n",
        "\ti = 0\n",
        "\tsong = 0\n",
        "\t\n",
        "\twhile song < size:\n",
        "\t\tpairs = np.zeros(size)\n",
        "\t\tsongs.append(song)\n",
        "\t\tfor playlist in playlists:\n",
        "\t\t\twhile playlist[i] < song and i < len(playlist) - 1:\n",
        "\t\t\t\ti += 1\n",
        "\t\t\tif i < len(playlist) - 1 and playlist[i] == song:\n",
        "\t\t\t\tpairs[playlist[i+1]] += 1\n",
        "\t\t\ti = 0\n",
        "\t\tnext.append(np.argmax(pairs))\n",
        "\t\tsong += 1\n",
        "\td = {\"Song\":songs, \"Next\":next}\n",
        "\tdf = pd.DataFrame(d)\n",
        "\treturn df"
      ]
    },
    {
      "cell_type": "code",
      "execution_count": 120,
      "metadata": {},
      "outputs": [
        {
          "data": {
            "image/png": "[encoded data removed]",
            "text/plain": [
              "<Figure size 432x288 with 1 Axes>"
            ]
          },
          "metadata": {
            "needs_background": "light"
          },
          "output_type": "display_data"
        }
      ],
      "source": [
        "popularity = plot_playists_popularity(playlists_tokenized)\n",
        "#playlists_ordered = order_playists(playlists_tokenized)\n",
        "pairs = create_pairs(playlists_tokenized, len(popularity))\n",
        "df = create_training_data(pairs)\n",
        "#df2 = create_df(playlists_tokenized, len(popularity))"
      ]
    },
    {
      "cell_type": "code",
      "execution_count": 121,
      "metadata": {},
      "outputs": [
        {
          "data": {
            "text/html": [
              "<div>\n",
              "<style scoped>\n",
              "    .dataframe tbody tr th:only-of-type {\n",
              "        vertical-align: middle;\n",
              "    }\n",
              "\n",
              "    .dataframe tbody tr th {\n",
              "        vertical-align: top;\n",
              "    }\n",
              "\n",
              "    .dataframe thead th {\n",
              "        text-align: right;\n",
              "    }\n",
              "</style>\n",
              "<table border=\"1\" class=\"dataframe\">\n",
              "  <thead>\n",
              "    <tr style=\"text-align: right;\">\n",
              "      <th></th>\n",
              "      <th>Song</th>\n",
              "      <th>Next</th>\n",
              "    </tr>\n",
              "  </thead>\n",
              "  <tbody>\n",
              "    <tr>\n",
              "      <th>0</th>\n",
              "      <td>0</td>\n",
              "      <td>9</td>\n",
              "    </tr>\n",
              "    <tr>\n",
              "      <th>1</th>\n",
              "      <td>1</td>\n",
              "      <td>2</td>\n",
              "    </tr>\n",
              "    <tr>\n",
              "      <th>2</th>\n",
              "      <td>2</td>\n",
              "      <td>6</td>\n",
              "    </tr>\n",
              "    <tr>\n",
              "      <th>3</th>\n",
              "      <td>3</td>\n",
              "      <td>5</td>\n",
              "    </tr>\n",
              "    <tr>\n",
              "      <th>4</th>\n",
              "      <td>4</td>\n",
              "      <td>7</td>\n",
              "    </tr>\n",
              "    <tr>\n",
              "      <th>...</th>\n",
              "      <td>...</td>\n",
              "      <td>...</td>\n",
              "    </tr>\n",
              "    <tr>\n",
              "      <th>58285</th>\n",
              "      <td>58285</td>\n",
              "      <td>58286</td>\n",
              "    </tr>\n",
              "    <tr>\n",
              "      <th>58286</th>\n",
              "      <td>58286</td>\n",
              "      <td>58287</td>\n",
              "    </tr>\n",
              "    <tr>\n",
              "      <th>58287</th>\n",
              "      <td>58287</td>\n",
              "      <td>58288</td>\n",
              "    </tr>\n",
              "    <tr>\n",
              "      <th>58288</th>\n",
              "      <td>58288</td>\n",
              "      <td>58289</td>\n",
              "    </tr>\n",
              "    <tr>\n",
              "      <th>58289</th>\n",
              "      <td>58289</td>\n",
              "      <td>58290</td>\n",
              "    </tr>\n",
              "  </tbody>\n",
              "</table>\n",
              "<p>58290 rows × 2 columns</p>\n",
              "</div>"
            ],
            "text/plain": [
              "        Song   Next\n",
              "0          0      9\n",
              "1          1      2\n",
              "2          2      6\n",
              "3          3      5\n",
              "4          4      7\n",
              "...      ...    ...\n",
              "58285  58285  58286\n",
              "58286  58286  58287\n",
              "58287  58287  58288\n",
              "58288  58288  58289\n",
              "58289  58289  58290\n",
              "\n",
              "[58290 rows x 2 columns]"
            ]
          },
          "execution_count": 121,
          "metadata": {},
          "output_type": "execute_result"
        }
      ],
      "source": [
        "df"
      ]
    },
    {
      "cell_type": "code",
      "execution_count": 122,
      "metadata": {},
      "outputs": [],
      "source": [
        "#df2['Next'][168068] = 168067\n",
        "#df2"
      ]
    },
    {
      "cell_type": "code",
      "execution_count": 123,
      "metadata": {},
      "outputs": [],
      "source": [
        "#with open('dataframe_spotify.pickle', 'wb') as f:\n",
        "    #pickle.dump(df2, f)"
      ]
    },
    {
      "cell_type": "code",
      "execution_count": 124,
      "metadata": {},
      "outputs": [],
      "source": [
        "#with open('dataframe_spotify.pickle') as f:\n",
        " #   df2 = pickle.load(f)"
      ]
    },
    {
      "cell_type": "code",
      "execution_count": 125,
      "metadata": {
        "id": "rSxCitwfLWeL"
      },
      "outputs": [],
      "source": [
        "n_steps = 1\n",
        "n_features = 1"
      ]
    },
    {
      "cell_type": "code",
      "execution_count": 126,
      "metadata": {},
      "outputs": [],
      "source": [
        "test = {}\n",
        "for t in freq_dict:\n",
        "    test[tokenized_sorted[t]] = freq_dict[t]"
      ]
    },
    {
      "cell_type": "code",
      "execution_count": 127,
      "metadata": {},
      "outputs": [
        {
          "data": {
            "image/png": "[encoded data removed]",
            "text/plain": [
              "<Figure size 432x288 with 1 Axes>"
            ]
          },
          "metadata": {
            "needs_background": "light"
          },
          "output_type": "display_data"
        }
      ],
      "source": [
        "lists = sorted(test.items())\n",
        "x, y = zip(*lists)\n",
        "plt.plot(x, y)\n",
        "plt.ylabel('Number of occurrences')\n",
        "plt.xlabel('Song number')\n",
        "plt.show()"
      ]
    },
    {
      "cell_type": "code",
      "execution_count": 128,
      "metadata": {},
      "outputs": [
        {
          "data": {
            "image/png": "[encoded data removed]",
            "text/plain": [
              "<Figure size 432x288 with 1 Axes>"
            ]
          },
          "metadata": {
            "needs_background": "light"
          },
          "output_type": "display_data"
        }
      ],
      "source": [
        "lists = sorted(test.items())[:5000]\n",
        "x, y = zip(*lists)\n",
        "plt.plot(x, y)\n",
        "plt.ylabel('Number of occurrences')\n",
        "plt.xlabel('Song number')\n",
        "plt.show()"
      ]
    },
    {
      "cell_type": "code",
      "execution_count": 129,
      "metadata": {},
      "outputs": [],
      "source": [
        "def remove_zeros(df):\n",
        "    df_size = len(df)\n",
        "    for i in range(df_size):\n",
        "        if df['Song'][i] > 0 and df['Next'][i] < df['Song'][i]:\n",
        "            next_song = random.randint(df['Song'][i], df_size - 1)\n",
        "            df['Next'][i] = next_song\n",
        "    return df\n"
      ]
    },
    {
      "cell_type": "code",
      "execution_count": 130,
      "metadata": {},
      "outputs": [],
      "source": [
        "#df3 = remove_zeros(df2)"
      ]
    },
    {
      "cell_type": "code",
      "execution_count": 131,
      "metadata": {},
      "outputs": [
        {
          "data": {
            "text/plain": [
              "array([    9,     2,     6, ..., 58288, 58289, 58290], dtype=int64)"
            ]
          },
          "execution_count": 131,
          "metadata": {},
          "output_type": "execute_result"
        }
      ],
      "source": [
        "X = df['Song'].to_numpy()\n",
        "y = df['Next'].to_numpy()\n",
        "y"
      ]
    },
    {
      "cell_type": "code",
      "execution_count": 132,
      "metadata": {},
      "outputs": [],
      "source": [
        "everything = list(zip(X, y))\n",
        "\n",
        "random.shuffle(everything)\n",
        "\n",
        "X_list, y_list = zip(*everything)\n",
        "\n",
        "X_list = np.array(X_list)\n",
        "y_list = np.array(y_list)"
      ]
    },
    {
      "cell_type": "code",
      "execution_count": 133,
      "metadata": {},
      "outputs": [
        {
          "data": {
            "text/plain": [
              "array([24432, 41662, 13428, ..., 31171, 44060, 20417], dtype=int64)"
            ]
          },
          "execution_count": 133,
          "metadata": {},
          "output_type": "execute_result"
        }
      ],
      "source": [
        "y_list"
      ]
    },
    {
      "cell_type": "code",
      "execution_count": 134,
      "metadata": {},
      "outputs": [],
      "source": [
        "for i in range(9000, 11000):\n",
        "    #print(y[i])\n",
        "    if y[i] < 9000:\n",
        "        print(i, \" \", y[i])"
      ]
    },
    {
      "cell_type": "code",
      "execution_count": 135,
      "metadata": {},
      "outputs": [
        {
          "data": {
            "image/png": "[encoded data removed]",
            "text/plain": [
              "<Figure size 432x288 with 1 Axes>"
            ]
          },
          "metadata": {
            "needs_background": "light"
          },
          "output_type": "display_data"
        }
      ],
      "source": [
        "plt.plot(y)\n",
        "#plt.plot(X)\n",
        "plt.show()"
      ]
    },
    {
      "cell_type": "code",
      "execution_count": 136,
      "metadata": {
        "id": "1vbFGINzLbJ1"
      },
      "outputs": [],
      "source": [
        "X_train, X_test, y_train, y_test = train_test_split(X, y, test_size=0.2, shuffle=True)\n",
        "#X_train, X_test, y_train, y_test = train_test_split(df[\"Song\"], df[\"Next\"], test_size=0.20, random_state=42)"
      ]
    },
    {
      "cell_type": "code",
      "execution_count": 137,
      "metadata": {
        "id": "pTY8UskPNWw7"
      },
      "outputs": [],
      "source": [
        "mean = df['Next'].mean()\n",
        "std = df['Next'].std()"
      ]
    },
    {
      "cell_type": "code",
      "execution_count": 138,
      "metadata": {
        "id": "YQPJqotQNZGu"
      },
      "outputs": [],
      "source": [
        "def make_model(input_fts):\n",
        "    model = tf.keras.Sequential()\n",
        "    model.add(keras.layers.Dense(2, input_dim=input_fts))\n",
        "    #model.add(keras.layers.Dense(8, input_dim = input_fts))\n",
        "    #model.add(keras.layers.Dense(2, input_dim = 8))\n",
        "    return model"
      ]
    },
    {
      "cell_type": "code",
      "execution_count": 139,
      "metadata": {
        "id": "H_hN2eFPNdTa"
      },
      "outputs": [],
      "source": [
        "def train_model(X, y):\n",
        "    \"\"\"Builds the model, trains it on the given data, and returns the trained model and history.\"\"\"\n",
        "    \n",
        "    # Normalize y to have zero mean and unit variance\n",
        "    y = y - mean\n",
        "    y = y / std\n",
        "    \n",
        "    num_features = 1\n",
        "    model = make_model(num_features)\n",
        "    \n",
        "    optimizer = tf.keras.optimizers.Adam(learning_rate=1e-2,\n",
        "                                         clipvalue=1,\n",
        "                                         decay=1e-3)\n",
        "    model.compile(optimizer=optimizer,\n",
        "                  loss='mse',\n",
        "                  metrics = [keras.metrics.RootMeanSquaredError(),\n",
        "                            keras.metrics.MeanAbsoluteError(),\n",
        "                            keras.metrics.MeanAbsolutePercentageError(),\n",
        "                            keras.metrics.MeanSquaredLogarithmicError(),\n",
        "                            keras.metrics.CosineSimilarity(),\n",
        "                            keras.metrics.LogCoshError()])\n",
        "\n",
        "    callback = tf.keras.callbacks.EarlyStopping(monitor='val_loss', patience=10)\n",
        "\n",
        "    history = model.fit(X, y,\n",
        "                        epochs=100,\n",
        "                        validation_split=0.2,\n",
        "                        verbose=False,\n",
        "                        #batch_size=100,\n",
        "                        #validation_data=(x_test, Y_test),\n",
        "                        callbacks=[callback])\n",
        "    \n",
        "    return model, history"
      ]
    },
    {
      "cell_type": "code",
      "execution_count": 140,
      "metadata": {
        "id": "39YKV_k9NgyR"
      },
      "outputs": [],
      "source": [
        "def predict(model, X):\n",
        "    \n",
        "    predictions = model.predict(X)\n",
        "    \n",
        "    # Scale up means\n",
        "    means = predictions[:, 0] * std + mean\n",
        "    # Exponentiate and scale up log standard deviation\n",
        "    stds = np.exp(predictions[:, 1]) * std\n",
        "    \n",
        "    return means, stds"
      ]
    },
    {
      "cell_type": "code",
      "execution_count": 141,
      "metadata": {
        "colab": {
          "base_uri": "https://localhost:8080/"
        },
        "id": "45njAI6UNjBF",
        "outputId": "7291ae3f-6af5-440a-d05f-ca79a53acded"
      },
      "outputs": [],
      "source": [
        "reg_model, hist = train_model(X_list, y_list)"
      ]
    },
    {
      "cell_type": "code",
      "execution_count": 142,
      "metadata": {
        "colab": {
          "base_uri": "https://localhost:8080/"
        },
        "id": "CmqwnuzsTXiu",
        "outputId": "63c9a47e-563e-49e6-9510-52d8fef3ea4d"
      },
      "outputs": [],
      "source": [
        "#pickle.dump(reg_model, open('model.pkl', 'wb'))"
      ]
    },
    {
      "cell_type": "code",
      "execution_count": 143,
      "metadata": {},
      "outputs": [],
      "source": [
        "total = len(hist.history['loss'])\n",
        "total -= 1"
      ]
    },
    {
      "cell_type": "code",
      "execution_count": 144,
      "metadata": {},
      "outputs": [
        {
          "name": "stdout",
          "output_type": "stream",
          "text": [
            "1.6814463138580322\n",
            "1.296705961227417\n",
            "0.9991949796676636\n",
            "840.6807250976562\n",
            "0.18121516704559326\n",
            "0.5898233652114868\n",
            "0.5468829870223999\n"
          ]
        }
      ],
      "source": [
        "print(hist.history['loss'][total])\n",
        "print(hist.history['root_mean_squared_error'][total])\n",
        "print(hist.history['mean_absolute_error'][total])\n",
        "print(hist.history['mean_absolute_percentage_error'][total])\n",
        "print(hist.history['mean_squared_logarithmic_error'][total])\n",
        "print(hist.history['cosine_similarity'][total])\n",
        "print(hist.history['logcosh'][total])"
      ]
    },
    {
      "cell_type": "code",
      "execution_count": 145,
      "metadata": {},
      "outputs": [
        {
          "name": "stdout",
          "output_type": "stream",
          "text": [
            "0.35130175948143005\n",
            "0.5927071571350098\n",
            "0.49825525283813477\n",
            "284.8175964355469\n",
            "0.0390850231051445\n",
            "0.9630483388900757\n",
            "0.15477322041988373\n"
          ]
        }
      ],
      "source": [
        "print(hist.history['val_loss'][total])\n",
        "print(hist.history['val_root_mean_squared_error'][total])\n",
        "print(hist.history['val_mean_absolute_error'][total])\n",
        "print(hist.history['val_mean_absolute_percentage_error'][total])\n",
        "print(hist.history['val_mean_squared_logarithmic_error'][total])\n",
        "print(hist.history['val_cosine_similarity'][total])\n",
        "print(hist.history['val_logcosh'][total])"
      ]
    },
    {
      "cell_type": "code",
      "execution_count": 146,
      "metadata": {
        "colab": {
          "base_uri": "https://localhost:8080/",
          "height": 318
        },
        "id": "yikCzaBdNk4B",
        "outputId": "24126fc7-01c7-4436-98d0-682e244ad62c"
      },
      "outputs": [
        {
          "name": "stdout",
          "output_type": "stream",
          "text": [
            "Final train loss: 1.6814463138580322\n"
          ]
        },
        {
          "data": {
            "image/png": "[encoded data removed]",
            "text/plain": [
              "<Figure size 432x288 with 1 Axes>"
            ]
          },
          "metadata": {
            "needs_background": "light"
          },
          "output_type": "display_data"
        }
      ],
      "source": [
        "print(\"Final train loss:\", hist.history[\"loss\"][-1])\n",
        "plt.plot(hist.history['loss'])\n",
        "plt.plot(hist.history['val_loss'])\n",
        "plt.title('Mean squared error')\n",
        "plt.ylabel('MSE')\n",
        "plt.xlabel('Epoch')\n",
        "plt.legend(['Training set', 'Validation set'], loc='upper left')\n",
        "plt.show()"
      ]
    },
    {
      "cell_type": "code",
      "execution_count": 147,
      "metadata": {
        "colab": {
          "base_uri": "https://localhost:8080/",
          "height": 299
        },
        "id": "_0G68KC6Nnos",
        "outputId": "c013b031-c5bc-4047-c52a-2dec3b8ed4cf"
      },
      "outputs": [
        {
          "data": {
            "image/png": "[encoded data removed]",
            "text/plain": [
              "<Figure size 432x288 with 1 Axes>"
            ]
          },
          "metadata": {
            "needs_background": "light"
          },
          "output_type": "display_data"
        }
      ],
      "source": [
        "plt.plot(hist.history['root_mean_squared_error'])\n",
        "plt.plot(hist.history['val_root_mean_squared_error'])\n",
        "plt.title('Root mean squared error')\n",
        "plt.ylabel('RMSE')\n",
        "plt.xlabel('Epoch')\n",
        "plt.legend(['Training set', 'Validation set'], loc='upper left')\n",
        "plt.show()"
      ]
    },
    {
      "cell_type": "code",
      "execution_count": 148,
      "metadata": {
        "colab": {
          "base_uri": "https://localhost:8080/",
          "height": 299
        },
        "id": "lZotfsGZNoX0",
        "outputId": "057efd3a-9378-46f5-e8ab-47b38d6b1f8f"
      },
      "outputs": [
        {
          "data": {
            "image/png": "[encoded data removed]",
            "text/plain": [
              "<Figure size 432x288 with 1 Axes>"
            ]
          },
          "metadata": {
            "needs_background": "light"
          },
          "output_type": "display_data"
        }
      ],
      "source": [
        "plt.plot(hist.history['mean_absolute_error'])\n",
        "plt.plot(hist.history['val_mean_absolute_error'])\n",
        "plt.title('Mean absolute error')\n",
        "plt.ylabel('MAE')\n",
        "plt.xlabel('Epoch')\n",
        "plt.legend(['Training set', 'Validation set'], loc='upper left')\n",
        "plt.show()"
      ]
    },
    {
      "cell_type": "code",
      "execution_count": 149,
      "metadata": {
        "colab": {
          "base_uri": "https://localhost:8080/",
          "height": 299
        },
        "id": "3EU27OTqNo_j",
        "outputId": "84d9568e-e35c-4614-afa0-0e105c9e58b5"
      },
      "outputs": [
        {
          "data": {
            "image/png": "[encoded data removed]",
            "text/plain": [
              "<Figure size 432x288 with 1 Axes>"
            ]
          },
          "metadata": {
            "needs_background": "light"
          },
          "output_type": "display_data"
        }
      ],
      "source": [
        "plt.plot(hist.history['mean_absolute_percentage_error'])\n",
        "plt.plot(hist.history['val_mean_absolute_percentage_error'])\n",
        "plt.title('Mean absolute percentage error')\n",
        "plt.ylabel('MAPE')\n",
        "plt.xlabel('Epoch')\n",
        "plt.legend(['Training set', 'Validation set'], loc='upper left')\n",
        "plt.show()"
      ]
    },
    {
      "cell_type": "code",
      "execution_count": 150,
      "metadata": {
        "colab": {
          "base_uri": "https://localhost:8080/",
          "height": 299
        },
        "id": "KBm8nsbMNtz_",
        "outputId": "2059ea33-a42c-44e6-841c-f17c84aa1538"
      },
      "outputs": [
        {
          "data": {
            "image/png": "[encoded data removed]",
            "text/plain": [
              "<Figure size 432x288 with 1 Axes>"
            ]
          },
          "metadata": {
            "needs_background": "light"
          },
          "output_type": "display_data"
        }
      ],
      "source": [
        "plt.plot(hist.history['mean_squared_logarithmic_error'])\n",
        "plt.plot(hist.history['val_mean_squared_logarithmic_error'])\n",
        "plt.title('Mean squared logarithmic error')\n",
        "plt.ylabel('MSLE')\n",
        "plt.xlabel('Epoch')\n",
        "plt.legend(['Training set', 'Validation set'], loc='upper left')\n",
        "plt.show()"
      ]
    },
    {
      "cell_type": "code",
      "execution_count": 151,
      "metadata": {
        "colab": {
          "base_uri": "https://localhost:8080/",
          "height": 299
        },
        "id": "5yP_1fg3Nu6n",
        "outputId": "cdcf402e-4cc6-43a7-c336-2e5c0550a1de"
      },
      "outputs": [
        {
          "data": {
            "image/png": "[encoded data removed]",
            "text/plain": [
              "<Figure size 432x288 with 1 Axes>"
            ]
          },
          "metadata": {
            "needs_background": "light"
          },
          "output_type": "display_data"
        }
      ],
      "source": [
        "plt.plot(hist.history['cosine_similarity'])\n",
        "plt.plot(hist.history['val_cosine_similarity'])\n",
        "plt.title('Cosine similarity')\n",
        "plt.ylabel('CS')\n",
        "plt.xlabel('Epoch')\n",
        "plt.legend(['Training set', 'Validation set'], loc='upper left')\n",
        "plt.show()"
      ]
    },
    {
      "cell_type": "code",
      "execution_count": 152,
      "metadata": {
        "colab": {
          "base_uri": "https://localhost:8080/",
          "height": 299
        },
        "id": "cjn0u0LLNxPP",
        "outputId": "84c32148-a0ac-464f-9500-d988991f7733"
      },
      "outputs": [
        {
          "data": {
            "image/png": "[encoded data removed]",
            "text/plain": [
              "<Figure size 432x288 with 1 Axes>"
            ]
          },
          "metadata": {
            "needs_background": "light"
          },
          "output_type": "display_data"
        }
      ],
      "source": [
        "plt.plot(hist.history['logcosh'])\n",
        "plt.plot(hist.history['val_logcosh'])\n",
        "plt.title('Hyperbolic cosine logarithm error')\n",
        "plt.ylabel('Hyperbolic cosine logarithm error')\n",
        "plt.xlabel('Epoch')\n",
        "plt.legend(['Training set', 'Validation set'], loc='upper left')\n",
        "plt.show()"
      ]
    },
    {
      "cell_type": "code",
      "execution_count": 153,
      "metadata": {
        "id": "VrIfJT4_Ny29"
      },
      "outputs": [],
      "source": [
        "def visualize_prediction(prediction, actual, filename=None, bgcolor=\"#ffffff\"):\n",
        "    \n",
        "    figure = plt.figure(figsize=(1000,1000))\n",
        "    \n",
        "    means, stds = prediction\n",
        "    prediction_data = pd.DataFrame({\"predicted\": means,\n",
        "                                    \"actual\": actual,\n",
        "                                    \"min\": means - stds,\n",
        "                                    \"max\": means + stds})\n",
        "    \n",
        "    plot = prediction_data[[\"predicted\", \"actual\"]].plot()\n",
        "    \n",
        "    plot.set_facecolor(bgcolor)\n",
        "\n",
        "    \"\"\"plot.fill_between(prediction_data.index,\n",
        "                       prediction_data[\"min\"],\n",
        "                       prediction_data[\"max\"],\n",
        "                       alpha=0.2, color='k')\"\"\"\n",
        "    \n",
        "    if filename is not None:\n",
        "        plt.savefig(filename, bbox_inches=\"tight\", dpi=200)\n",
        "    \n",
        "    return figure, plot"
      ]
    },
    {
      "cell_type": "code",
      "execution_count": 154,
      "metadata": {
        "colab": {
          "base_uri": "https://localhost:8080/",
          "height": 344
        },
        "id": "MwAt-GNDN04J",
        "outputId": "2cf8d027-e572-4f5d-f943-b8c9d28eb80f"
      },
      "outputs": [
        {
          "data": {
            "text/plain": [
              "(<Figure size 72000x72000 with 0 Axes>, <AxesSubplot:>)"
            ]
          },
          "execution_count": 154,
          "metadata": {},
          "output_type": "execute_result"
        },
        {
          "data": {
            "text/plain": [
              "<Figure size 72000x72000 with 0 Axes>"
            ]
          },
          "metadata": {},
          "output_type": "display_data"
        },
        {
          "data": {
            "image/png": "[encoded data removed]",
            "text/plain": [
              "<Figure size 432x288 with 1 Axes>"
            ]
          },
          "metadata": {
            "needs_background": "light"
          },
          "output_type": "display_data"
        }
      ],
      "source": [
        "visualize_prediction(predict(reg_model, X), y, \"song_prediction.svg\")"
      ]
    },
    {
      "cell_type": "code",
      "execution_count": 155,
      "metadata": {
        "id": "rsTrVmm8N_Tx"
      },
      "outputs": [],
      "source": [
        "def normpdf(x, mean, sd): #true_y, pred_y (mean), std\n",
        "    var = float(sd)**2\n",
        "    denom = (2*math.pi*var)**.5\n",
        "    num = math.exp(-(float(x)-float(mean))**2/(2*var))\n",
        "    return num/denom"
      ]
    },
    {
      "cell_type": "code",
      "execution_count": 156,
      "metadata": {},
      "outputs": [
        {
          "data": {
            "text/plain": [
              "58290"
            ]
          },
          "execution_count": 156,
          "metadata": {},
          "output_type": "execute_result"
        }
      ],
      "source": [
        "len(df)"
      ]
    },
    {
      "cell_type": "code",
      "execution_count": 157,
      "metadata": {
        "colab": {
          "base_uri": "https://localhost:8080/",
          "height": 437
        },
        "id": "0ffkYeSQN7_o",
        "outputId": "55db32a9-def8-48ac-aa24-cdbcdac73a73"
      },
      "outputs": [
        {
          "data": {
            "image/png": "[encoded data removed]",
            "text/plain": [
              "<Figure size 432x288 with 1 Axes>"
            ]
          },
          "metadata": {
            "needs_background": "light"
          },
          "output_type": "display_data"
        }
      ],
      "source": [
        "reg_y_test = np.array(list(range(len(df))))\n",
        "means, stds = predict(reg_model, reg_y_test)\n",
        "unc = []\n",
        "for i in range(len(means)):\n",
        "    p = normpdf(df['Song'][i], means[i], stds[i]) \n",
        "    nll = -np.log(p)\n",
        "    unc.append(nll)\n",
        "plt.plot(unc)\n",
        "plt.xlabel('Song number')\n",
        "plt.ylabel('Uncertainty')\n",
        "plt.show()"
      ]
    },
    {
      "cell_type": "code",
      "execution_count": 158,
      "metadata": {},
      "outputs": [
        {
          "data": {
            "text/plain": [
              "-3705.3535"
            ]
          },
          "execution_count": 158,
          "metadata": {},
          "output_type": "execute_result"
        }
      ],
      "source": [
        "means[0]"
      ]
    },
    {
      "cell_type": "code",
      "execution_count": 159,
      "metadata": {
        "id": "yX9Mb0Q8OJ3x"
      },
      "outputs": [],
      "source": [
        "def plot_uncertainty_pop(popuarity, uncertainty):\n",
        "    id, counts = zip(*popuarity.items())\n",
        "    plot_dict = {}\n",
        "    i = 0\n",
        "    for num in counts:\n",
        "        #what if its already a number\n",
        "        plot_dict[num] = uncertainty[i]\n",
        "        i += 1\n",
        "    pop, unc = zip(*plot_dict.items())\n",
        "    print(scipy.stats.pearsonr(pop, unc))\n",
        "    print(scipy.stats.spearmanr(pop, unc))\n",
        "    print(scipy.stats.kendalltau(pop, unc))\n",
        "    plt.scatter(pop, unc)\n",
        "    plt.xlabel(\"Popuarity\")\n",
        "    plt.ylabel(\"Uncertainty\")\n",
        "    plt.show() #BREAK POINT HERE TO SEE THE PLOT"
      ]
    },
    {
      "cell_type": "code",
      "execution_count": 160,
      "metadata": {
        "id": "c9BjcNIFOExL"
      },
      "outputs": [
        {
          "name": "stdout",
          "output_type": "stream",
          "text": [
            "(-0.8664628417622384, 2.7805736136948704e-21)\n",
            "SpearmanrResult(correlation=-0.9702290685609388, pvalue=9.475082899961116e-42)\n",
            "KendalltauResult(correlation=-0.8606965174129355, pvalue=7.184603488205046e-25)\n"
          ]
        },
        {
          "data": {
            "image/png": "[encoded data removed]",
            "text/plain": [
              "<Figure size 432x288 with 1 Axes>"
            ]
          },
          "metadata": {
            "needs_background": "light"
          },
          "output_type": "display_data"
        }
      ],
      "source": [
        "plot_uncertainty_pop(popularity, unc)"
      ]
    }
  ],
  "metadata": {
    "colab": {
      "collapsed_sections": [],
      "name": "spotify.ipynb",
      "provenance": []
    },
    "interpreter": {
      "hash": "0f2f6c680cf484319d387fabac80ca4ff4fc33965036e02100b3fe02600f1423"
    },
    "kernelspec": {
      "display_name": "Python 3.10.2 64-bit",
      "language": "python",
      "name": "python3"
    },
    "language_info": {
      "codemirror_mode": {
        "name": "ipython",
        "version": 3
      },
      "file_extension": ".py",
      "mimetype": "text/x-python",
      "name": "python",
      "nbconvert_exporter": "python",
      "pygments_lexer": "ipython3",
      "version": "3.10.2"
    }
  },
  "nbformat": 4,
  "nbformat_minor": 0
}
