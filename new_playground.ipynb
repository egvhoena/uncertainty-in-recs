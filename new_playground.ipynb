{
 "cells": [
  {
   "cell_type": "code",
   "execution_count": 33,
   "metadata": {},
   "outputs": [],
   "source": [
    "from cgi import test\n",
    "import matplotlib.pyplot as plt\n",
    "import numpy as np\n",
    "import pandas as pd\n",
    "import random\n",
    "import copy\n",
    "from sklearn.model_selection import train_test_split\n",
    "from scipy.stats import halfnorm, expon, uniform, chi, norm\n",
    "import keras\n",
    "from keras import callbacks\n",
    "from keras.layers import Dense, Input, Conv2D, MaxPool2D, LSTM, add\n",
    "from keras.layers import Activation, Dropout, Flatten, Embedding\n",
    "from keras.models import Model, Sequential\n",
    "import tensorflow as tf\n",
    "import tensorflow_probability as tfp\n",
    "import scipy.stats\n",
    "from IPython.display import display"
   ]
  },
  {
   "cell_type": "markdown",
   "metadata": {},
   "source": [
    "### Exponential distribution generators"
   ]
  },
  {
   "cell_type": "code",
   "execution_count": 2,
   "metadata": {},
   "outputs": [],
   "source": [
    "def generate_exponential(amount): #Generates a popular playlist\n",
    "    data = {}\n",
    "    for i in range(amount):\n",
    "        data[i] = expon.pdf(i, scale=(amount/7)) \n",
    "    return data  "
   ]
  },
  {
   "cell_type": "code",
   "execution_count": 3,
   "metadata": {},
   "outputs": [],
   "source": [
    "def generate_exponential_inv(amount): #Generates a \"niche\" (unpopuar) playlist \n",
    "    data = {}\n",
    "    for i in range(amount):\n",
    "        data[amount - 1 - i] = expon.pdf(i, scale=(amount/7)) \n",
    "    return data"
   ]
  },
  {
   "cell_type": "markdown",
   "metadata": {},
   "source": [
    "### Uniform distribution generator"
   ]
  },
  {
   "cell_type": "code",
   "execution_count": 4,
   "metadata": {},
   "outputs": [],
   "source": [
    "def generate_uniform(amount): #Generates an uniform distribution among the items\n",
    "    data = {}\n",
    "    for i in range(amount):\n",
    "        data[i] = uniform.pdf(i, scale=amount) \n",
    "    return data"
   ]
  },
  {
   "cell_type": "markdown",
   "metadata": {},
   "source": [
    "### Aux functions"
   ]
  },
  {
   "cell_type": "markdown",
   "metadata": {},
   "source": [
    "get_cumulative_prob() GETS THE CUMULATIVE PROBABIITIES OF ITEMS (for later selection)"
   ]
  },
  {
   "cell_type": "code",
   "execution_count": 5,
   "metadata": {},
   "outputs": [],
   "source": [
    "def get_cumulative_prob(y): \n",
    "\n",
    "    cum_prob = {}\n",
    "    cum_prob[0] = y[0]\n",
    "\n",
    "    for i in range(1, 300):\n",
    "        cum_prob[i] = cum_prob[i-1] + y[i]\n",
    "    return cum_prob"
   ]
  },
  {
   "cell_type": "markdown",
   "metadata": {},
   "source": [
    "get_playlist() generates a playlist based on the cumulative probabilities its given (for popualar, normal, and rare)"
   ]
  },
  {
   "cell_type": "code",
   "execution_count": 6,
   "metadata": {},
   "outputs": [],
   "source": [
    "def get_playlists(cum_prob): #CREATES A RANDOM PLAYLLIST\n",
    "\n",
    "    playlist = [] #empty toy playlist\n",
    "\n",
    "    #create random playlist (like this bc they dont add to 1)\n",
    "    while len(playlist) < 20:\n",
    "\n",
    "        prob = np.random.random()\n",
    "        #print(prob)\n",
    "        finished = False\n",
    "        i = 0\n",
    "        while i < 300 and finished == False:\n",
    "            if prob < cum_prob[i] and i not in playlist:\n",
    "                playlist.append(i)\n",
    "                finished = True\n",
    "            i += 1\n",
    "\n",
    "    playlist.sort()\n",
    "    return playlist"
   ]
  },
  {
   "cell_type": "code",
   "execution_count": 7,
   "metadata": {},
   "outputs": [],
   "source": [
    "def get_songs_ordered(songs): #RETURNS A LIST OF SONGS ORDERED BY POPULARITY (AMONG ALL THE PLAYLISTS)\n",
    "    ordered_songs = []\n",
    "    songs_copy = copy.deepcopy(songs)\n",
    "\n",
    "    while songs_copy: \n",
    "        max_value = max(songs_copy, key=songs_copy.get)\n",
    "        ordered_songs.append(max_value)\n",
    "        songs_copy.pop(max_value)\n",
    "    #print(\"Highest used song: \", max_value, \" with \", songs_copy[max_value], \" instances\")\n",
    "    return ordered_songs"
   ]
  },
  {
   "cell_type": "code",
   "execution_count": 8,
   "metadata": {},
   "outputs": [],
   "source": [
    "def create_dataframe(list): \n",
    "    elems = []\n",
    "    pred = []\n",
    "    size = len(list)\n",
    "    for i in range(size - 1):\n",
    "        elems.append(list[i])\n",
    "        pred.append(list[i + 1])\n",
    "    d = {'Song':elems, 'Next':pred}\n",
    "    df = pd.DataFrame(d)\n",
    "    return df"
   ]
  },
  {
   "cell_type": "code",
   "execution_count": 9,
   "metadata": {},
   "outputs": [],
   "source": [
    "def get_prob_dataframe(probs):\n",
    "    songs = []\n",
    "    next = []\n",
    "    for i in range(len(probs)):\n",
    "        songs.append(i)\n",
    "        next.append(probs[i])\n",
    "    for i in range(len(next[299])):\n",
    "        next[299][i] = 0\n",
    "    next[299][298] = 1\n",
    "    dataframe_next = pd.DataFrame(next)\n",
    "    d = {'Song': songs}\n",
    "    df = pd.DataFrame(d)\n",
    "    result = pd.concat([df, dataframe_next], axis=1, join='inner')\n",
    "    return result"
   ]
  },
  {
   "cell_type": "markdown",
   "metadata": {},
   "source": [
    "In case we stop using probabilities use this function not create_dataframe()"
   ]
  },
  {
   "cell_type": "code",
   "execution_count": 10,
   "metadata": {},
   "outputs": [],
   "source": [
    "def create_training_data(pairs):\n",
    "    songs = []\n",
    "    next = []\n",
    "    for i in range(len(pairs)):\n",
    "        #max_num = 0\n",
    "        songs.append(i)\n",
    "        #max_num = max(pairs[i])\n",
    "        pred_song = np.argmax(pairs[i])\n",
    "        next.append(pred_song)\n",
    "    d = {\"Song\":songs, \"Next\":next}\n",
    "    df = pd.DataFrame(d)\n",
    "    return df"
   ]
  },
  {
   "cell_type": "code",
   "execution_count": 11,
   "metadata": {},
   "outputs": [],
   "source": [
    "def split_dataset(dataframe):\n",
    "    X = dataframe['Song']\n",
    "    y = dataframe['Next']\n",
    "\n",
    "    X_train, X_test, y_train, y_test = train_test_split(X, y, test_size=0.2)\n",
    "    train = {'Song':X_train, 'Next': y_train}\n",
    "    test = {'Song':X_test, 'Next': y_test}\n",
    "    return train, test"
   ]
  },
  {
   "cell_type": "code",
   "execution_count": 12,
   "metadata": {},
   "outputs": [],
   "source": [
    "def split_dataset_prob(dataframe):\n",
    "    X = dataframe['Song']\n",
    "    dataframe = dataframe.drop('Song', axis=1)\n",
    "    y = dataframe\n",
    "\n",
    "    X_train, X_test, y_train, y_test = train_test_split(X, y, test_size=0.2)\n",
    "    X_train = X\n",
    "    y_train = y\n",
    "    return X_train, X_test, y_train, y_test"
   ]
  },
  {
   "cell_type": "code",
   "execution_count": 13,
   "metadata": {},
   "outputs": [],
   "source": [
    "def norm_data(data, mean, std):\n",
    "    songs_norm = (data['Song'] - mean) / std\n",
    "    data['Song'] = songs_norm\n",
    "    return data"
   ]
  },
  {
   "cell_type": "markdown",
   "metadata": {},
   "source": [
    "In case we need tensorflow Datasets"
   ]
  },
  {
   "cell_type": "code",
   "execution_count": 14,
   "metadata": {},
   "outputs": [],
   "source": [
    "def get_tf_dataset(train, test):\n",
    "    train_X = tf.data.Dataset.from_tensor_slices(train['Song'])\n",
    "    train_Y = tf.data.Dataset.from_tensor_slices(train['Next'])\n",
    "\n",
    "    train_dataset = tf.data.Dataset.zip((train_X, train_Y))\n",
    "    train_dataset = train_dataset.shuffle(1000).batch(64)\n",
    "    train_dataset = train_dataset.prefetch(buffer_size=tf.data.AUTOTUNE)\n",
    "\n",
    "    test_X = tf.data.Dataset.from_tensor_slices(test['Song'])\n",
    "    test_Y = tf.data.Dataset.from_tensor_slices(test['Next'])\n",
    "\n",
    "    test_dataset = tf.data.Dataset.zip((test_X, test_Y))\n",
    "    test_dataset = test_dataset.shuffle(1000).batch(64)\n",
    "    test_dataset = test_dataset.prefetch(buffer_size=tf.data.AUTOTUNE)\n",
    "\n",
    "    return train_dataset, test_dataset"
   ]
  },
  {
   "cell_type": "markdown",
   "metadata": {},
   "source": [
    "create_pairs() creates pairs of numbers, indicating the number of times one appears after the other in the playlists"
   ]
  },
  {
   "cell_type": "code",
   "execution_count": 15,
   "metadata": {},
   "outputs": [],
   "source": [
    "def create_pairs(playlists): #playlists should be a list of lists, ordered\n",
    "    pairs = np.zeros((300,300))\n",
    "    for playlist in playlists:\n",
    "        for i in range(len(playlist)-1):\n",
    "            pairs[playlist[i]][playlist[i+1]] += 1\n",
    "    return pairs"
   ]
  },
  {
   "cell_type": "code",
   "execution_count": 16,
   "metadata": {},
   "outputs": [],
   "source": [
    "def order_playists(playlists):\n",
    "    for playlist in playlists:\n",
    "        playlist.sort()\n",
    "    return playlists"
   ]
  },
  {
   "cell_type": "code",
   "execution_count": 17,
   "metadata": {},
   "outputs": [],
   "source": [
    "def get_probabilities(pairs): #Gets the probabilities associated to each pair of numbers, which song is more likely\n",
    "    for num in range(len(pairs)): #to go after the other\n",
    "        total = sum(pairs[num])\n",
    "        pairs[num] /= total\n",
    "    return pairs"
   ]
  },
  {
   "cell_type": "code",
   "execution_count": 18,
   "metadata": {},
   "outputs": [],
   "source": [
    "def get_nll(true_song, probs): #true_song has to be in [0,0,0...1,0] format, being the 1 in the correct song index\n",
    "    nll = 0                     #probs is the output of the nn\n",
    "    for i in range(len(true_song)):\n",
    "        nll += true_song[i] * probs[i]\n",
    "    nll = -np.log(nll)\n",
    "    return nll"
   ]
  },
  {
   "cell_type": "code",
   "execution_count": 19,
   "metadata": {},
   "outputs": [],
   "source": [
    "def get_nll_list(expected, idx, predictions): #Returns a list of uncertainties for each prediction\n",
    "    nll_list = []\n",
    "    j = 0\n",
    "    for i in idx:\n",
    "        true_song = get_true_song(expected[i])\n",
    "        nll_list.append(get_nll(true_song, predictions[j]))\n",
    "        j += 1\n",
    "    return nll_list"
   ]
  },
  {
   "cell_type": "code",
   "execution_count": 20,
   "metadata": {},
   "outputs": [],
   "source": [
    "def get_true_song(next_songs): #returns expected song, represented as one_hot\n",
    "    true_song = []\n",
    "    item = np.argmax(next_songs)\n",
    "    for i in range(len(next_songs)):\n",
    "        if i == item:\n",
    "            true_song.append(1)\n",
    "            #print(\"Predicted song: \", item)\n",
    "        else:\n",
    "            true_song.append(0)\n",
    "    return true_song"
   ]
  },
  {
   "cell_type": "code",
   "execution_count": 21,
   "metadata": {},
   "outputs": [],
   "source": [
    "def transform_predictions(pred): #Transforms the predictions into a one_hot of the most likely song\n",
    "    max_index = np.argmax(pred)\n",
    "    new_pred = np.zeros(len(pred))\n",
    "    new_pred[max_index] = 1\n",
    "    return new_pred"
   ]
  },
  {
   "cell_type": "code",
   "execution_count": 22,
   "metadata": {},
   "outputs": [],
   "source": [
    "def get_accuracy(pred, truth):\n",
    "    count = 0\n",
    "    size = len(pred)\n",
    "    for i in range(size):\n",
    "        cont = True\n",
    "        j = 0\n",
    "        while cont and j < size:\n",
    "            if pred[i][j] != truth[i][j]:\n",
    "                cont = False\n",
    "            j += 1\n",
    "        if cont:\n",
    "            count += 1\n",
    "    return count / size"
   ]
  },
  {
   "cell_type": "markdown",
   "metadata": {},
   "source": [
    "### Model creation"
   ]
  },
  {
   "cell_type": "code",
   "execution_count": 23,
   "metadata": {},
   "outputs": [],
   "source": [
    "def create_model():\n",
    "    model = Sequential()\n",
    "    input = Input(shape=(1,))\n",
    "    model.add(input)\n",
    "    model.add(Dense(10, activation='tanh'))\n",
    "    model.add(Dense(20, activation='tanh'))\n",
    "    model.add(Dense(30, activation='tanh'))\n",
    "    model.add(Dense(40, activation='tanh'))\n",
    "    model.add(Dense(50, activation='tanh'))\n",
    "    model.add(Dense(60, activation='tanh'))\n",
    "    model.add(Dense(40, activation='tanh'))\n",
    "    model.add(Dense(70, activation='tanh'))\n",
    "    model.add(Dense(300, activation='sigmoid')) #model.add(Dense(1))\n",
    "    return model"
   ]
  },
  {
   "cell_type": "markdown",
   "metadata": {},
   "source": [
    "### Visualization functions"
   ]
  },
  {
   "cell_type": "code",
   "execution_count": 24,
   "metadata": {},
   "outputs": [],
   "source": [
    "def plot_playists_popularity(playists): #FUNCTION THAT PLOTS AL THE SONGS APPEARANCES OF ALL PLAYLISTS\n",
    "    #playlists is a list of lists\n",
    "\n",
    "    num_appearances = {} #Dictionary to store the number of times a song is in a playlist\n",
    "\n",
    "    for playlist in playists:\n",
    "        for song in playlist:\n",
    "            if song in num_appearances.keys():\n",
    "                num_appearances[song] += 1\n",
    "            else:\n",
    "                num_appearances[song] = 1\n",
    "\n",
    "    id, counts = zip(*num_appearances.items())\n",
    "    plt.scatter(id, counts)\n",
    "    plt.xlabel(\"Song number\")\n",
    "    plt.ylabel(\"Number of appearances\")\n",
    "    plt.show() #BREAK POINT HERE TO SEE THE PLOT\n",
    "    return num_appearances"
   ]
  },
  {
   "cell_type": "code",
   "execution_count": 25,
   "metadata": {},
   "outputs": [],
   "source": [
    "def plot_uncertainty_pop(popuarity, uncertainty):\n",
    "    id, counts = zip(*popuarity.items())\n",
    "    plot_dict = {}\n",
    "    i = 0\n",
    "    for num in counts:\n",
    "        #what if its already a number\n",
    "        plot_dict[num] = uncertainty[i]\n",
    "        i += 1\n",
    "    pop, unc = zip(*plot_dict.items())\n",
    "    print(scipy.stats.pearsonr(pop, unc))\n",
    "    print(scipy.stats.spearmanr(pop, unc))\n",
    "    print(scipy.stats.kendalltau(pop, unc))\n",
    "    plt.scatter(pop, unc)\n",
    "    plt.xlabel(\"Popuarity\")\n",
    "    plt.ylabel(\"Uncertainty\")\n",
    "    plt.show() #BREAK POINT HERE TO SEE THE PLOT"
   ]
  },
  {
   "cell_type": "markdown",
   "metadata": {},
   "source": [
    "## Here it begins"
   ]
  },
  {
   "cell_type": "code",
   "execution_count": 26,
   "metadata": {},
   "outputs": [
    {
     "data": {
      "image/png": "[encoded data removed]",
      "text/plain": [
       "<Figure size 432x288 with 1 Axes>"
      ]
     },
     "metadata": {
      "needs_background": "light"
     },
     "output_type": "display_data"
    }
   ],
   "source": [
    "data = generate_exponential(300)\n",
    "#data = generate_exponential_inv(300)\n",
    "#data = generate_uniform(300)\n",
    "lists = sorted(data.items())\n",
    "x, y = zip(*lists)\n",
    "cum_prob = get_cumulative_prob(y)\n",
    "playlist = get_playlists(cum_prob)\n",
    "plt.plot(x, y)\n",
    "plt.show() "
   ]
  },
  {
   "cell_type": "code",
   "execution_count": 27,
   "metadata": {},
   "outputs": [],
   "source": [
    "random.seed(1234)\n",
    "playlist_list = []\n",
    "data_exp = generate_exponential(300)\n",
    "data_exp_inv = generate_exponential_inv(300)\n",
    "data_uniform = generate_uniform(300)\n",
    "\n",
    "data_exp = sorted(data_exp.items())\n",
    "_, y_exp = zip(*data_exp)\n",
    "\n",
    "data_exp_inv = sorted(data_exp_inv.items())\n",
    "_, y_exp_inv = zip(*data_exp_inv)\n",
    "\n",
    "data_uniform = sorted(data_uniform.items())\n",
    "_, y_uni = zip(*data_uniform)"
   ]
  },
  {
   "cell_type": "code",
   "execution_count": 28,
   "metadata": {},
   "outputs": [],
   "source": [
    "type = random.choices(population=[0,1,2], weights=[0.2307,0.6923,0.077], k=3000) #returns a list of choices\n",
    "\n",
    "cum_prob_exp = get_cumulative_prob(y_exp) #GETS DIFFERENT PROBABIITIES\n",
    "cum_prob_inv = get_cumulative_prob(y_exp_inv)\n",
    "cum_prob_uni = get_cumulative_prob(y_uni)\n",
    "\n",
    "for i in type: #GET A RANDOM PLAYLIST OF A SPECIFIC TYPE\n",
    "    if i == 1:\n",
    "        pl = get_playlists(cum_prob_exp)\n",
    "    elif i == 2:\n",
    "        pl = get_playlists(cum_prob_inv)\n",
    "    else:\n",
    "        pl = get_playlists(cum_prob_uni)\n",
    "    playlist_list.append(pl)"
   ]
  },
  {
   "cell_type": "code",
   "execution_count": 29,
   "metadata": {},
   "outputs": [
    {
     "data": {
      "image/png": "[encoded data removed]",
      "text/plain": [
       "<Figure size 432x288 with 1 Axes>"
      ]
     },
     "metadata": {
      "needs_background": "light"
     },
     "output_type": "display_data"
    },
    {
     "name": "stderr",
     "output_type": "stream",
     "text": [
      "C:\\Users\\danie\\AppData\\Local\\Temp\\ipykernel_18756\\4282934075.py:4: RuntimeWarning: invalid value encountered in true_divide\n",
      "  pairs[num] /= total\n"
     ]
    }
   ],
   "source": [
    "popuarity = plot_playists_popularity(playlist_list) #returns the number of appearances of each song\n",
    "playlists_ordered = order_playists(playlist_list)\n",
    "pairs = create_pairs(playlist_list) #playlists_ordered\n",
    "pairs2 = get_probabilities(pairs)\n",
    "df2 = get_prob_dataframe(pairs2)\n",
    "#df = create_training_data(pairs)"
   ]
  },
  {
   "cell_type": "code",
   "execution_count": 30,
   "metadata": {},
   "outputs": [],
   "source": [
    "#train_data, test_data= split_dataset(df)\n",
    "X_train, X_test, y_train, y_test = split_dataset_prob(df2)\n",
    "#train_dataset, test_dataset = get_tf_dataset(train_data, test_data)"
   ]
  },
  {
   "cell_type": "code",
   "execution_count": 31,
   "metadata": {},
   "outputs": [
    {
     "name": "stdout",
     "output_type": "stream",
     "text": [
      "Epoch 1/200\n",
      "300/300 [==============================] - 1s 1ms/step - loss: 5.5874 - accuracy: 0.0067 - val_loss: 5.2727 - val_accuracy: 0.0000e+00\n",
      "Epoch 2/200\n",
      "300/300 [==============================] - 0s 780us/step - loss: 5.2866 - accuracy: 0.0000e+00 - val_loss: 5.2790 - val_accuracy: 0.0000e+00\n",
      "Epoch 3/200\n",
      "300/300 [==============================] - 0s 780us/step - loss: 5.0882 - accuracy: 0.0033 - val_loss: 5.0224 - val_accuracy: 0.0000e+00\n",
      "Epoch 4/200\n",
      "300/300 [==============================] - 0s 773us/step - loss: 5.1346 - accuracy: 0.0067 - val_loss: 4.7684 - val_accuracy: 0.0167\n",
      "Epoch 5/200\n",
      "300/300 [==============================] - 0s 783us/step - loss: 5.0162 - accuracy: 0.0067 - val_loss: 4.9438 - val_accuracy: 0.0333\n",
      "Epoch 6/200\n",
      "300/300 [==============================] - 0s 787us/step - loss: 4.8541 - accuracy: 0.0100 - val_loss: 4.7884 - val_accuracy: 0.0167\n",
      "Epoch 7/200\n",
      "300/300 [==============================] - 0s 790us/step - loss: 4.7631 - accuracy: 0.0067 - val_loss: 4.6167 - val_accuracy: 0.0000e+00\n",
      "Epoch 8/200\n",
      "300/300 [==============================] - 0s 787us/step - loss: 4.7056 - accuracy: 0.0033 - val_loss: 4.4243 - val_accuracy: 0.0167\n",
      "Epoch 9/200\n",
      "300/300 [==============================] - 0s 777us/step - loss: 4.7106 - accuracy: 0.0133 - val_loss: 4.6792 - val_accuracy: 0.0333\n",
      "Epoch 10/200\n",
      "300/300 [==============================] - 0s 770us/step - loss: 4.5330 - accuracy: 0.0133 - val_loss: 4.3454 - val_accuracy: 0.1167\n",
      "Epoch 11/200\n",
      "300/300 [==============================] - 0s 780us/step - loss: 4.5835 - accuracy: 0.0067 - val_loss: 4.4059 - val_accuracy: 0.0333\n",
      "Epoch 12/200\n",
      "300/300 [==============================] - 0s 827us/step - loss: 4.7632 - accuracy: 0.0067 - val_loss: 5.1376 - val_accuracy: 0.0000e+00\n",
      "Epoch 13/200\n",
      "300/300 [==============================] - 0s 810us/step - loss: 5.0489 - accuracy: 0.0033 - val_loss: 4.3559 - val_accuracy: 0.0500\n",
      "Epoch 14/200\n",
      "300/300 [==============================] - 0s 793us/step - loss: 4.4893 - accuracy: 0.0067 - val_loss: 4.3683 - val_accuracy: 0.0500\n",
      "Epoch 15/200\n",
      "300/300 [==============================] - 0s 790us/step - loss: 4.5931 - accuracy: 0.0100 - val_loss: 5.2711 - val_accuracy: 0.0000e+00\n",
      "Epoch 16/200\n",
      "300/300 [==============================] - 0s 837us/step - loss: 4.5875 - accuracy: 0.0067 - val_loss: 4.2697 - val_accuracy: 0.0333\n",
      "Epoch 17/200\n",
      "300/300 [==============================] - 0s 834us/step - loss: 4.3509 - accuracy: 0.0133 - val_loss: 4.4874 - val_accuracy: 0.0167\n",
      "Epoch 18/200\n",
      "300/300 [==============================] - 0s 830us/step - loss: 4.3875 - accuracy: 0.0100 - val_loss: 4.4253 - val_accuracy: 0.0333\n",
      "Epoch 19/200\n",
      "300/300 [==============================] - 0s 817us/step - loss: 4.5704 - accuracy: 0.0100 - val_loss: 4.3679 - val_accuracy: 0.0500\n",
      "Epoch 20/200\n",
      "300/300 [==============================] - 0s 803us/step - loss: 4.5784 - accuracy: 0.0000e+00 - val_loss: 4.2124 - val_accuracy: 0.0333\n",
      "Epoch 21/200\n",
      "300/300 [==============================] - 0s 807us/step - loss: 4.3027 - accuracy: 0.0167 - val_loss: 4.4557 - val_accuracy: 0.0167\n",
      "Epoch 22/200\n",
      "300/300 [==============================] - 0s 807us/step - loss: 4.5648 - accuracy: 0.0033 - val_loss: 4.4531 - val_accuracy: 0.0167\n",
      "Epoch 23/200\n",
      "300/300 [==============================] - 0s 840us/step - loss: 4.5323 - accuracy: 0.0133 - val_loss: 4.1247 - val_accuracy: 0.0167\n",
      "Epoch 24/200\n",
      "300/300 [==============================] - 0s 787us/step - loss: 4.3897 - accuracy: 0.0233 - val_loss: 4.0992 - val_accuracy: 0.0333\n",
      "Epoch 25/200\n",
      "300/300 [==============================] - 0s 773us/step - loss: 4.5888 - accuracy: 0.0033 - val_loss: 5.7018 - val_accuracy: 0.0167\n",
      "Epoch 26/200\n",
      "300/300 [==============================] - 0s 813us/step - loss: 4.5126 - accuracy: 0.0133 - val_loss: 4.1013 - val_accuracy: 0.0000e+00\n",
      "Epoch 27/200\n",
      "300/300 [==============================] - 0s 787us/step - loss: 4.2480 - accuracy: 0.0100 - val_loss: 4.3545 - val_accuracy: 0.0000e+00\n",
      "Epoch 28/200\n",
      "300/300 [==============================] - 0s 807us/step - loss: 4.2978 - accuracy: 0.0067 - val_loss: 4.0623 - val_accuracy: 0.0333\n",
      "Epoch 29/200\n",
      "300/300 [==============================] - 0s 777us/step - loss: 4.3350 - accuracy: 0.0033 - val_loss: 4.0463 - val_accuracy: 0.0833\n",
      "Epoch 30/200\n",
      "300/300 [==============================] - 0s 777us/step - loss: 4.4313 - accuracy: 0.0200 - val_loss: 4.2705 - val_accuracy: 0.0333\n",
      "Epoch 31/200\n",
      "300/300 [==============================] - 0s 773us/step - loss: 4.3677 - accuracy: 0.0067 - val_loss: 4.7849 - val_accuracy: 0.0000e+00\n",
      "Epoch 32/200\n",
      "300/300 [==============================] - 0s 787us/step - loss: 4.3665 - accuracy: 0.0133 - val_loss: 4.0580 - val_accuracy: 0.0167\n",
      "Epoch 33/200\n",
      "300/300 [==============================] - 0s 770us/step - loss: 4.3764 - accuracy: 0.0167 - val_loss: 4.0119 - val_accuracy: 0.0167\n",
      "Epoch 34/200\n",
      "300/300 [==============================] - 0s 783us/step - loss: 4.2643 - accuracy: 0.0033 - val_loss: 4.4977 - val_accuracy: 0.0333\n",
      "Epoch 35/200\n",
      "300/300 [==============================] - 0s 780us/step - loss: 4.3607 - accuracy: 0.0067 - val_loss: 4.6157 - val_accuracy: 0.0000e+00\n",
      "Epoch 36/200\n",
      "300/300 [==============================] - 0s 770us/step - loss: 4.5854 - accuracy: 0.0167 - val_loss: 4.3510 - val_accuracy: 0.0333\n",
      "Epoch 37/200\n",
      "300/300 [==============================] - 0s 773us/step - loss: 4.3459 - accuracy: 0.0133 - val_loss: 4.2864 - val_accuracy: 0.0333\n",
      "Epoch 38/200\n",
      "300/300 [==============================] - 0s 773us/step - loss: 4.5502 - accuracy: 0.0133 - val_loss: 4.7350 - val_accuracy: 0.0000e+00\n",
      "Epoch 39/200\n",
      "300/300 [==============================] - 0s 777us/step - loss: 4.4038 - accuracy: 0.0133 - val_loss: 4.0399 - val_accuracy: 0.0333\n",
      "Epoch 40/200\n",
      "300/300 [==============================] - 0s 790us/step - loss: 4.3447 - accuracy: 0.0133 - val_loss: 4.5009 - val_accuracy: 0.0333\n",
      "Epoch 41/200\n",
      "300/300 [==============================] - 0s 817us/step - loss: 4.5685 - accuracy: 0.0167 - val_loss: 4.3975 - val_accuracy: 0.0000e+00\n",
      "Epoch 42/200\n",
      "300/300 [==============================] - 0s 777us/step - loss: 4.3442 - accuracy: 0.0067 - val_loss: 4.7873 - val_accuracy: 0.0000e+00\n",
      "Epoch 43/200\n",
      "300/300 [==============================] - 0s 783us/step - loss: 4.3915 - accuracy: 0.0067 - val_loss: 4.0769 - val_accuracy: 0.0333\n",
      "Epoch 44/200\n",
      "300/300 [==============================] - 0s 793us/step - loss: 4.3668 - accuracy: 0.0133 - val_loss: 4.2295 - val_accuracy: 0.0167\n",
      "Epoch 45/200\n",
      "300/300 [==============================] - 0s 820us/step - loss: 4.4363 - accuracy: 0.0100 - val_loss: 4.1559 - val_accuracy: 0.0667\n",
      "Epoch 46/200\n",
      "300/300 [==============================] - 0s 807us/step - loss: 4.4785 - accuracy: 0.0033 - val_loss: 4.2646 - val_accuracy: 0.0333\n",
      "Epoch 47/200\n",
      "300/300 [==============================] - 0s 790us/step - loss: 4.4852 - accuracy: 0.0100 - val_loss: 4.0881 - val_accuracy: 0.0500\n",
      "Epoch 48/200\n",
      "300/300 [==============================] - 0s 787us/step - loss: 4.1796 - accuracy: 0.0233 - val_loss: 4.0118 - val_accuracy: 0.0000e+00\n",
      "Epoch 49/200\n",
      "300/300 [==============================] - 0s 797us/step - loss: 4.1100 - accuracy: 0.0133 - val_loss: 4.2392 - val_accuracy: 0.0833\n",
      "Epoch 50/200\n",
      "300/300 [==============================] - 0s 783us/step - loss: 4.7599 - accuracy: 0.0067 - val_loss: 4.5708 - val_accuracy: 0.0167\n",
      "Epoch 51/200\n",
      "300/300 [==============================] - 0s 783us/step - loss: 4.4874 - accuracy: 0.0000e+00 - val_loss: 4.1376 - val_accuracy: 0.0667\n",
      "Epoch 52/200\n",
      "300/300 [==============================] - 0s 780us/step - loss: 4.4785 - accuracy: 0.0167 - val_loss: 4.2454 - val_accuracy: 0.0333\n",
      "Epoch 53/200\n",
      "300/300 [==============================] - 0s 783us/step - loss: 4.2426 - accuracy: 0.0100 - val_loss: 4.0052 - val_accuracy: 0.0500\n",
      "Epoch 54/200\n",
      "300/300 [==============================] - 0s 777us/step - loss: 4.3676 - accuracy: 0.0100 - val_loss: 4.1458 - val_accuracy: 0.0500\n",
      "Epoch 55/200\n",
      "300/300 [==============================] - 0s 783us/step - loss: 4.4299 - accuracy: 0.0133 - val_loss: 4.2945 - val_accuracy: 0.0667\n",
      "Epoch 56/200\n",
      "300/300 [==============================] - 0s 793us/step - loss: 4.2938 - accuracy: 0.0067 - val_loss: 4.0876 - val_accuracy: 0.0667\n",
      "Epoch 57/200\n",
      "300/300 [==============================] - 0s 830us/step - loss: 4.3074 - accuracy: 0.0100 - val_loss: 4.3286 - val_accuracy: 0.0000e+00\n",
      "Epoch 58/200\n",
      "300/300 [==============================] - 0s 837us/step - loss: 4.6866 - accuracy: 0.0167 - val_loss: 4.3362 - val_accuracy: 0.0167\n",
      "Epoch 59/200\n",
      "300/300 [==============================] - 0s 793us/step - loss: 4.2894 - accuracy: 0.0167 - val_loss: 4.0694 - val_accuracy: 0.0500\n",
      "Epoch 60/200\n",
      "300/300 [==============================] - 0s 804us/step - loss: 4.4112 - accuracy: 0.0133 - val_loss: 4.6490 - val_accuracy: 0.0167\n",
      "Epoch 61/200\n",
      "300/300 [==============================] - 0s 847us/step - loss: 4.2442 - accuracy: 0.0133 - val_loss: 4.0569 - val_accuracy: 0.0333\n",
      "Epoch 62/200\n",
      "300/300 [==============================] - 0s 813us/step - loss: 4.1946 - accuracy: 0.0200 - val_loss: 3.9996 - val_accuracy: 0.0167\n",
      "Epoch 63/200\n",
      "300/300 [==============================] - 0s 790us/step - loss: 4.2492 - accuracy: 0.0167 - val_loss: 4.3830 - val_accuracy: 0.0667\n",
      "Epoch 64/200\n",
      "300/300 [==============================] - 0s 817us/step - loss: 4.3589 - accuracy: 0.0100 - val_loss: 4.1956 - val_accuracy: 0.0333\n",
      "Epoch 65/200\n",
      "300/300 [==============================] - 0s 813us/step - loss: 4.1244 - accuracy: 0.0133 - val_loss: 4.2256 - val_accuracy: 0.0500\n",
      "Epoch 66/200\n",
      "300/300 [==============================] - 0s 803us/step - loss: 5.9605 - accuracy: 0.0100 - val_loss: 6.1938 - val_accuracy: 0.0000e+00\n",
      "Epoch 67/200\n",
      "300/300 [==============================] - 0s 800us/step - loss: 5.5530 - accuracy: 0.0000e+00 - val_loss: 5.3715 - val_accuracy: 0.0167\n",
      "Epoch 68/200\n",
      "300/300 [==============================] - 0s 803us/step - loss: 5.2971 - accuracy: 0.0033 - val_loss: 5.1897 - val_accuracy: 0.0333\n",
      "Epoch 69/200\n",
      "300/300 [==============================] - 0s 803us/step - loss: 5.2401 - accuracy: 0.0000e+00 - val_loss: 5.0931 - val_accuracy: 0.0000e+00\n",
      "Epoch 70/200\n",
      "300/300 [==============================] - 0s 797us/step - loss: 5.1150 - accuracy: 0.0067 - val_loss: 4.9123 - val_accuracy: 0.0333\n",
      "Epoch 71/200\n",
      "300/300 [==============================] - 0s 787us/step - loss: 4.9704 - accuracy: 0.0067 - val_loss: 4.7303 - val_accuracy: 0.0000e+00\n",
      "Epoch 72/200\n",
      "300/300 [==============================] - 0s 783us/step - loss: 4.7057 - accuracy: 0.0033 - val_loss: 4.5617 - val_accuracy: 0.0333\n",
      "Epoch 73/200\n",
      "300/300 [==============================] - 0s 810us/step - loss: 4.8667 - accuracy: 0.0000e+00 - val_loss: 5.0429 - val_accuracy: 0.0000e+00\n",
      "Epoch 74/200\n",
      "300/300 [==============================] - 0s 813us/step - loss: 4.7820 - accuracy: 0.0067 - val_loss: 4.4958 - val_accuracy: 0.0333\n",
      "Epoch 75/200\n",
      "300/300 [==============================] - 0s 813us/step - loss: 4.5503 - accuracy: 0.0100 - val_loss: 4.5219 - val_accuracy: 0.0000e+00\n",
      "Epoch 76/200\n",
      "300/300 [==============================] - 0s 800us/step - loss: 4.7184 - accuracy: 0.0167 - val_loss: 4.3744 - val_accuracy: 0.0667\n",
      "Epoch 77/200\n",
      "300/300 [==============================] - 0s 773us/step - loss: 4.4567 - accuracy: 0.0100 - val_loss: 4.2735 - val_accuracy: 0.0333\n",
      "Epoch 78/200\n",
      "300/300 [==============================] - 0s 777us/step - loss: 4.3734 - accuracy: 0.0033 - val_loss: 4.8054 - val_accuracy: 0.0000e+00\n",
      "Epoch 79/200\n",
      "300/300 [==============================] - 0s 780us/step - loss: 4.5629 - accuracy: 0.0067 - val_loss: 4.4348 - val_accuracy: 0.0333\n",
      "Epoch 80/200\n",
      "300/300 [==============================] - 0s 797us/step - loss: 4.6300 - accuracy: 0.0133 - val_loss: 4.3525 - val_accuracy: 0.0167\n",
      "Epoch 81/200\n",
      "300/300 [==============================] - 0s 813us/step - loss: 4.3123 - accuracy: 0.0100 - val_loss: 4.2051 - val_accuracy: 0.0167\n",
      "Epoch 82/200\n",
      "300/300 [==============================] - 0s 790us/step - loss: 4.5429 - accuracy: 0.0167 - val_loss: 4.5824 - val_accuracy: 0.0000e+00\n",
      "Epoch 83/200\n",
      "300/300 [==============================] - 0s 810us/step - loss: 4.3825 - accuracy: 0.0100 - val_loss: 4.8225 - val_accuracy: 0.0167\n",
      "Epoch 84/200\n",
      "300/300 [==============================] - 0s 803us/step - loss: 4.3741 - accuracy: 0.0133 - val_loss: 4.4952 - val_accuracy: 0.0000e+00\n",
      "Epoch 85/200\n",
      "300/300 [==============================] - 0s 807us/step - loss: 4.3567 - accuracy: 0.0200 - val_loss: 4.5881 - val_accuracy: 0.0333\n",
      "Epoch 86/200\n",
      "300/300 [==============================] - 0s 817us/step - loss: 4.2488 - accuracy: 0.0033 - val_loss: 4.1558 - val_accuracy: 0.0833\n",
      "Epoch 87/200\n",
      "300/300 [==============================] - 0s 777us/step - loss: 4.4337 - accuracy: 0.0133 - val_loss: 4.1310 - val_accuracy: 0.0167\n",
      "Epoch 88/200\n",
      "300/300 [==============================] - 0s 820us/step - loss: 4.4107 - accuracy: 0.0033 - val_loss: 4.1736 - val_accuracy: 0.0000e+00\n",
      "Epoch 89/200\n",
      "300/300 [==============================] - 0s 807us/step - loss: 4.3886 - accuracy: 0.0100 - val_loss: 4.1810 - val_accuracy: 0.0500\n",
      "Epoch 90/200\n",
      "300/300 [==============================] - 0s 827us/step - loss: 4.3470 - accuracy: 0.0167 - val_loss: 4.3055 - val_accuracy: 0.0000e+00\n",
      "Epoch 91/200\n",
      "300/300 [==============================] - 0s 787us/step - loss: 4.2454 - accuracy: 0.0200 - val_loss: 4.7679 - val_accuracy: 0.0000e+00\n",
      "Epoch 92/200\n",
      "300/300 [==============================] - 0s 790us/step - loss: 4.2974 - accuracy: 0.0067 - val_loss: 6.3043 - val_accuracy: 0.0000e+00\n",
      "Epoch 93/200\n",
      "300/300 [==============================] - 0s 813us/step - loss: 4.6104 - accuracy: 0.0033 - val_loss: 6.4444 - val_accuracy: 0.0167\n",
      "Epoch 94/200\n",
      "300/300 [==============================] - 0s 783us/step - loss: 4.6057 - accuracy: 0.0000e+00 - val_loss: 4.1624 - val_accuracy: 0.0500\n",
      "Epoch 95/200\n",
      "300/300 [==============================] - 0s 830us/step - loss: 4.2116 - accuracy: 0.0100 - val_loss: 4.6903 - val_accuracy: 0.0167\n",
      "Epoch 96/200\n",
      "300/300 [==============================] - 0s 817us/step - loss: 4.2472 - accuracy: 0.0100 - val_loss: 4.0898 - val_accuracy: 0.0167\n",
      "Epoch 97/200\n",
      "300/300 [==============================] - 0s 787us/step - loss: 4.5225 - accuracy: 0.0133 - val_loss: 4.4839 - val_accuracy: 0.0500\n",
      "Epoch 98/200\n",
      "300/300 [==============================] - 0s 773us/step - loss: 4.2304 - accuracy: 0.0100 - val_loss: 4.1366 - val_accuracy: 0.0500\n",
      "Epoch 99/200\n",
      "300/300 [==============================] - 0s 773us/step - loss: 4.3467 - accuracy: 0.0033 - val_loss: 4.0849 - val_accuracy: 0.0167\n",
      "Epoch 100/200\n",
      "300/300 [==============================] - 0s 780us/step - loss: 4.5573 - accuracy: 0.0100 - val_loss: 4.1116 - val_accuracy: 0.0167\n",
      "Epoch 101/200\n",
      "300/300 [==============================] - 0s 783us/step - loss: 4.3103 - accuracy: 0.0133 - val_loss: 4.1656 - val_accuracy: 0.0000e+00\n",
      "Epoch 102/200\n",
      "300/300 [==============================] - 0s 803us/step - loss: 4.2847 - accuracy: 0.0100 - val_loss: 4.2028 - val_accuracy: 0.0333\n",
      "Epoch 103/200\n",
      "300/300 [==============================] - 0s 773us/step - loss: 4.2377 - accuracy: 0.0067 - val_loss: 4.6167 - val_accuracy: 0.0000e+00\n",
      "Epoch 104/200\n",
      "300/300 [==============================] - 0s 810us/step - loss: 4.2524 - accuracy: 0.0167 - val_loss: 4.0590 - val_accuracy: 0.0167\n",
      "Epoch 105/200\n",
      "300/300 [==============================] - 0s 844us/step - loss: 4.1133 - accuracy: 0.0200 - val_loss: 3.9757 - val_accuracy: 0.0167\n",
      "Epoch 106/200\n",
      "300/300 [==============================] - 0s 787us/step - loss: 4.2411 - accuracy: 0.0100 - val_loss: 4.4823 - val_accuracy: 0.0167\n",
      "Epoch 107/200\n",
      "300/300 [==============================] - 0s 767us/step - loss: 4.3180 - accuracy: 0.0233 - val_loss: 4.1778 - val_accuracy: 0.0167\n",
      "Epoch 108/200\n",
      "300/300 [==============================] - 0s 773us/step - loss: 4.1529 - accuracy: 0.0100 - val_loss: 4.2983 - val_accuracy: 0.0333\n",
      "Epoch 109/200\n",
      "300/300 [==============================] - 0s 773us/step - loss: 4.1603 - accuracy: 0.0100 - val_loss: 4.0546 - val_accuracy: 0.0000e+00\n",
      "Epoch 110/200\n",
      "300/300 [==============================] - 0s 827us/step - loss: 4.1876 - accuracy: 0.0233 - val_loss: 4.1868 - val_accuracy: 0.0167\n",
      "Epoch 111/200\n",
      "300/300 [==============================] - 0s 773us/step - loss: 4.4051 - accuracy: 0.0067 - val_loss: 4.4521 - val_accuracy: 0.0333\n",
      "Epoch 112/200\n",
      "300/300 [==============================] - 0s 773us/step - loss: 4.3932 - accuracy: 0.0100 - val_loss: 4.2125 - val_accuracy: 0.0167\n",
      "Epoch 113/200\n",
      "300/300 [==============================] - 0s 767us/step - loss: 4.2958 - accuracy: 0.0167 - val_loss: 3.9939 - val_accuracy: 0.0500\n",
      "Epoch 114/200\n",
      "300/300 [==============================] - 0s 783us/step - loss: 4.0582 - accuracy: 0.0233 - val_loss: 4.2838 - val_accuracy: 0.0167\n",
      "Epoch 115/200\n",
      "300/300 [==============================] - 0s 780us/step - loss: 4.2933 - accuracy: 0.0067 - val_loss: 4.2345 - val_accuracy: 0.0167\n",
      "Epoch 116/200\n",
      "300/300 [==============================] - 0s 780us/step - loss: 4.1278 - accuracy: 0.0033 - val_loss: 4.0016 - val_accuracy: 0.0333\n",
      "Epoch 117/200\n",
      "300/300 [==============================] - 0s 767us/step - loss: 4.2374 - accuracy: 0.0100 - val_loss: 4.0411 - val_accuracy: 0.0000e+00\n",
      "Epoch 118/200\n",
      "300/300 [==============================] - 0s 773us/step - loss: 4.2575 - accuracy: 0.0133 - val_loss: 4.0451 - val_accuracy: 0.0333\n",
      "Epoch 119/200\n",
      "300/300 [==============================] - 0s 767us/step - loss: 4.2448 - accuracy: 0.0200 - val_loss: 3.9795 - val_accuracy: 0.0333\n",
      "Epoch 120/200\n",
      "300/300 [==============================] - 0s 780us/step - loss: 4.7809 - accuracy: 0.0233 - val_loss: 4.8550 - val_accuracy: 0.0167\n",
      "Epoch 121/200\n",
      "300/300 [==============================] - 0s 787us/step - loss: 4.9261 - accuracy: 0.0000e+00 - val_loss: 4.7520 - val_accuracy: 0.0000e+00\n",
      "Epoch 122/200\n",
      "300/300 [==============================] - 0s 770us/step - loss: 4.7565 - accuracy: 0.0000e+00 - val_loss: 4.2520 - val_accuracy: 0.0333\n",
      "Epoch 123/200\n",
      "300/300 [==============================] - 0s 777us/step - loss: 4.3182 - accuracy: 0.0100 - val_loss: 4.0579 - val_accuracy: 0.0333\n",
      "Epoch 124/200\n",
      "300/300 [==============================] - 0s 787us/step - loss: 4.1905 - accuracy: 0.0067 - val_loss: 4.3188 - val_accuracy: 0.0833\n",
      "Epoch 125/200\n",
      "300/300 [==============================] - 0s 800us/step - loss: 4.3589 - accuracy: 0.0100 - val_loss: 4.5972 - val_accuracy: 0.0333\n",
      "Epoch 126/200\n",
      "300/300 [==============================] - 0s 773us/step - loss: 4.2352 - accuracy: 0.0133 - val_loss: 3.9969 - val_accuracy: 0.0333\n",
      "Epoch 127/200\n",
      "300/300 [==============================] - 0s 767us/step - loss: 4.2162 - accuracy: 0.0367 - val_loss: 4.7395 - val_accuracy: 0.0000e+00\n",
      "Epoch 128/200\n",
      "300/300 [==============================] - 0s 770us/step - loss: 4.1436 - accuracy: 0.0233 - val_loss: 3.9362 - val_accuracy: 0.0667\n",
      "Epoch 129/200\n",
      "300/300 [==============================] - 0s 777us/step - loss: 4.0892 - accuracy: 0.0033 - val_loss: 4.4905 - val_accuracy: 0.0333\n",
      "Epoch 130/200\n",
      "300/300 [==============================] - 0s 767us/step - loss: 4.2593 - accuracy: 0.0100 - val_loss: 4.1515 - val_accuracy: 0.0500\n",
      "Epoch 131/200\n",
      "300/300 [==============================] - 0s 773us/step - loss: 4.1735 - accuracy: 0.0133 - val_loss: 4.2551 - val_accuracy: 0.0000e+00\n",
      "Epoch 132/200\n",
      "300/300 [==============================] - 0s 780us/step - loss: 4.1416 - accuracy: 0.0167 - val_loss: 4.4227 - val_accuracy: 0.0000e+00\n",
      "Epoch 133/200\n",
      "300/300 [==============================] - 0s 777us/step - loss: 4.0977 - accuracy: 0.0300 - val_loss: 4.0138 - val_accuracy: 0.0167\n",
      "Epoch 134/200\n",
      "300/300 [==============================] - 0s 807us/step - loss: 4.3539 - accuracy: 0.0167 - val_loss: 4.0517 - val_accuracy: 0.0167\n",
      "Epoch 135/200\n",
      "300/300 [==============================] - 0s 770us/step - loss: 4.7169 - accuracy: 0.0100 - val_loss: 4.4678 - val_accuracy: 0.0333\n",
      "Epoch 136/200\n",
      "300/300 [==============================] - 0s 780us/step - loss: 4.4421 - accuracy: 0.0033 - val_loss: 4.3274 - val_accuracy: 0.0000e+00\n",
      "Epoch 137/200\n",
      "300/300 [==============================] - 0s 773us/step - loss: 4.3354 - accuracy: 0.0133 - val_loss: 4.1344 - val_accuracy: 0.0500\n",
      "Epoch 138/200\n",
      "300/300 [==============================] - 0s 763us/step - loss: 4.4181 - accuracy: 0.0067 - val_loss: 4.1763 - val_accuracy: 0.0667\n",
      "Epoch 139/200\n",
      "300/300 [==============================] - 0s 767us/step - loss: 4.3424 - accuracy: 0.0133 - val_loss: 4.2509 - val_accuracy: 0.0167\n",
      "Epoch 140/200\n",
      "300/300 [==============================] - 0s 773us/step - loss: 4.4116 - accuracy: 0.0033 - val_loss: 4.1924 - val_accuracy: 0.0167\n",
      "Epoch 141/200\n",
      "300/300 [==============================] - 0s 770us/step - loss: 4.1885 - accuracy: 0.0167 - val_loss: 4.0706 - val_accuracy: 0.0333\n",
      "Epoch 142/200\n",
      "300/300 [==============================] - 0s 770us/step - loss: 4.3150 - accuracy: 0.0133 - val_loss: 5.4498 - val_accuracy: 0.0167\n",
      "Epoch 143/200\n",
      "300/300 [==============================] - 0s 770us/step - loss: 4.4652 - accuracy: 0.0167 - val_loss: 4.0566 - val_accuracy: 0.0167\n",
      "Epoch 144/200\n",
      "300/300 [==============================] - 0s 767us/step - loss: 4.2926 - accuracy: 0.0133 - val_loss: 4.1341 - val_accuracy: 0.0167\n",
      "Epoch 145/200\n",
      "300/300 [==============================] - 0s 783us/step - loss: 4.5637 - accuracy: 0.0100 - val_loss: 5.1553 - val_accuracy: 0.0333\n",
      "Epoch 146/200\n",
      "300/300 [==============================] - 0s 777us/step - loss: 4.3571 - accuracy: 0.0100 - val_loss: 4.1632 - val_accuracy: 0.0333\n",
      "Epoch 147/200\n",
      "300/300 [==============================] - 0s 757us/step - loss: 4.1069 - accuracy: 0.0167 - val_loss: 4.0225 - val_accuracy: 0.0500\n",
      "Epoch 148/200\n",
      "300/300 [==============================] - 0s 770us/step - loss: 4.1957 - accuracy: 0.0233 - val_loss: 4.2013 - val_accuracy: 0.0000e+00\n",
      "Epoch 149/200\n",
      "300/300 [==============================] - 0s 777us/step - loss: 4.7285 - accuracy: 0.0067 - val_loss: 4.3690 - val_accuracy: 0.0000e+00\n",
      "Epoch 150/200\n",
      "300/300 [==============================] - 0s 773us/step - loss: 4.1898 - accuracy: 0.0167 - val_loss: 4.0701 - val_accuracy: 0.0000e+00\n",
      "Epoch 151/200\n",
      "300/300 [==============================] - 0s 773us/step - loss: 4.3695 - accuracy: 0.0100 - val_loss: 4.7877 - val_accuracy: 0.0000e+00\n",
      "Epoch 152/200\n",
      "300/300 [==============================] - 0s 763us/step - loss: 4.2550 - accuracy: 0.0133 - val_loss: 4.4669 - val_accuracy: 0.0000e+00\n",
      "Epoch 153/200\n",
      "300/300 [==============================] - 0s 770us/step - loss: 4.2900 - accuracy: 0.0167 - val_loss: 4.1974 - val_accuracy: 0.0167\n",
      "Epoch 154/200\n",
      "300/300 [==============================] - 0s 767us/step - loss: 4.4936 - accuracy: 0.0100 - val_loss: 4.9366 - val_accuracy: 0.0333\n",
      "Epoch 155/200\n",
      "300/300 [==============================] - 0s 773us/step - loss: 4.6376 - accuracy: 0.0067 - val_loss: 4.1562 - val_accuracy: 0.0167\n",
      "Epoch 156/200\n",
      "300/300 [==============================] - 0s 780us/step - loss: 4.5478 - accuracy: 0.0067 - val_loss: 4.1689 - val_accuracy: 0.0000e+00\n",
      "Epoch 157/200\n",
      "300/300 [==============================] - 0s 787us/step - loss: 4.1967 - accuracy: 0.0133 - val_loss: 4.2347 - val_accuracy: 0.0500\n",
      "Epoch 158/200\n",
      "300/300 [==============================] - 0s 850us/step - loss: 4.0954 - accuracy: 0.0167 - val_loss: 3.9673 - val_accuracy: 0.0667\n",
      "Epoch 159/200\n",
      "300/300 [==============================] - 0s 820us/step - loss: 4.2455 - accuracy: 0.0100 - val_loss: 4.5135 - val_accuracy: 0.0667\n",
      "Epoch 160/200\n",
      "300/300 [==============================] - 0s 780us/step - loss: 4.3090 - accuracy: 0.0067 - val_loss: 4.0317 - val_accuracy: 0.0333\n",
      "Epoch 161/200\n",
      "300/300 [==============================] - 0s 790us/step - loss: 4.1602 - accuracy: 0.0033 - val_loss: 4.1453 - val_accuracy: 0.0000e+00\n",
      "Epoch 162/200\n",
      "300/300 [==============================] - 0s 773us/step - loss: 4.0990 - accuracy: 0.0033 - val_loss: 3.9674 - val_accuracy: 0.0333\n",
      "Epoch 163/200\n",
      "300/300 [==============================] - 0s 763us/step - loss: 4.2605 - accuracy: 0.0233 - val_loss: 4.0143 - val_accuracy: 0.0667\n",
      "Epoch 164/200\n",
      "300/300 [==============================] - 0s 777us/step - loss: 4.2180 - accuracy: 0.0167 - val_loss: 4.2640 - val_accuracy: 0.0667\n",
      "Epoch 165/200\n",
      "300/300 [==============================] - 0s 793us/step - loss: 4.3009 - accuracy: 0.0200 - val_loss: 4.0158 - val_accuracy: 0.0500\n",
      "Epoch 166/200\n",
      "300/300 [==============================] - 0s 777us/step - loss: 4.0665 - accuracy: 0.0200 - val_loss: 4.2588 - val_accuracy: 0.0333\n",
      "Epoch 167/200\n",
      "300/300 [==============================] - 0s 777us/step - loss: 4.4559 - accuracy: 0.0100 - val_loss: 4.4862 - val_accuracy: 0.0167\n",
      "Epoch 168/200\n",
      "300/300 [==============================] - 0s 770us/step - loss: 4.2309 - accuracy: 0.0133 - val_loss: 4.0781 - val_accuracy: 0.0000e+00\n",
      "Epoch 169/200\n",
      "300/300 [==============================] - 0s 777us/step - loss: 4.0814 - accuracy: 0.0233 - val_loss: 4.0551 - val_accuracy: 0.0333\n",
      "Epoch 170/200\n",
      "300/300 [==============================] - 0s 767us/step - loss: 4.2305 - accuracy: 0.0333 - val_loss: 4.2156 - val_accuracy: 0.0833\n",
      "Epoch 171/200\n",
      "300/300 [==============================] - 0s 777us/step - loss: 4.8198 - accuracy: 0.0067 - val_loss: 4.5384 - val_accuracy: 0.0000e+00\n",
      "Epoch 172/200\n",
      "300/300 [==============================] - 0s 803us/step - loss: 4.4152 - accuracy: 0.0067 - val_loss: 4.3142 - val_accuracy: 0.0333\n",
      "Epoch 173/200\n",
      "300/300 [==============================] - 0s 767us/step - loss: 4.4176 - accuracy: 0.0200 - val_loss: 4.3473 - val_accuracy: 0.0167\n",
      "Epoch 174/200\n",
      "300/300 [==============================] - 0s 773us/step - loss: 4.0930 - accuracy: 0.0200 - val_loss: 3.9585 - val_accuracy: 0.0500\n",
      "Epoch 175/200\n",
      "300/300 [==============================] - 0s 773us/step - loss: 4.0716 - accuracy: 0.0100 - val_loss: 4.1639 - val_accuracy: 0.0167\n",
      "Epoch 176/200\n",
      "300/300 [==============================] - 0s 770us/step - loss: 4.2698 - accuracy: 0.0100 - val_loss: 4.3500 - val_accuracy: 0.0667\n",
      "Epoch 177/200\n",
      "300/300 [==============================] - 0s 777us/step - loss: 4.1244 - accuracy: 0.0133 - val_loss: 4.5355 - val_accuracy: 0.0500\n",
      "Epoch 178/200\n",
      "300/300 [==============================] - 0s 770us/step - loss: 4.1197 - accuracy: 0.0200 - val_loss: 4.3617 - val_accuracy: 0.1167\n",
      "Epoch 179/200\n",
      "300/300 [==============================] - 0s 780us/step - loss: 4.9934 - accuracy: 0.0100 - val_loss: 4.2721 - val_accuracy: 0.0000e+00\n",
      "Epoch 180/200\n",
      "300/300 [==============================] - 0s 773us/step - loss: 4.5234 - accuracy: 0.0033 - val_loss: 4.4294 - val_accuracy: 0.0000e+00\n",
      "Epoch 181/200\n",
      "300/300 [==============================] - 0s 783us/step - loss: 4.3879 - accuracy: 0.0067 - val_loss: 3.9735 - val_accuracy: 0.0833\n",
      "Epoch 182/200\n",
      "300/300 [==============================] - 0s 780us/step - loss: 4.2867 - accuracy: 0.0133 - val_loss: 4.2385 - val_accuracy: 0.0333\n",
      "Epoch 183/200\n",
      "300/300 [==============================] - 0s 790us/step - loss: 4.3819 - accuracy: 0.0100 - val_loss: 4.6338 - val_accuracy: 0.0167\n",
      "Epoch 184/200\n",
      "300/300 [==============================] - 0s 783us/step - loss: 4.2430 - accuracy: 0.0067 - val_loss: 4.1651 - val_accuracy: 0.0167\n",
      "Epoch 185/200\n",
      "300/300 [==============================] - 0s 783us/step - loss: 4.0570 - accuracy: 0.0233 - val_loss: 4.0791 - val_accuracy: 0.1167\n",
      "Epoch 186/200\n",
      "300/300 [==============================] - 0s 780us/step - loss: 4.0520 - accuracy: 0.0067 - val_loss: 4.1328 - val_accuracy: 0.0167\n",
      "Epoch 187/200\n",
      "300/300 [==============================] - 0s 790us/step - loss: 4.0608 - accuracy: 0.0100 - val_loss: 4.2536 - val_accuracy: 0.0000e+00\n",
      "Epoch 188/200\n",
      "300/300 [==============================] - 0s 783us/step - loss: 4.8399 - accuracy: 0.0033 - val_loss: 4.7231 - val_accuracy: 0.0500\n",
      "Epoch 189/200\n",
      "300/300 [==============================] - 0s 783us/step - loss: 4.6979 - accuracy: 0.0000e+00 - val_loss: 4.6092 - val_accuracy: 0.0167\n",
      "Epoch 190/200\n",
      "300/300 [==============================] - 0s 783us/step - loss: 4.5195 - accuracy: 0.0133 - val_loss: 4.2768 - val_accuracy: 0.0667\n",
      "Epoch 191/200\n",
      "300/300 [==============================] - 0s 777us/step - loss: 4.3104 - accuracy: 0.0067 - val_loss: 4.3014 - val_accuracy: 0.0167\n",
      "Epoch 192/200\n",
      "300/300 [==============================] - 0s 793us/step - loss: 4.3728 - accuracy: 0.0033 - val_loss: 4.7200 - val_accuracy: 0.0333\n",
      "Epoch 193/200\n",
      "300/300 [==============================] - 0s 783us/step - loss: 4.4554 - accuracy: 0.0100 - val_loss: 4.0768 - val_accuracy: 0.0833\n",
      "Epoch 194/200\n",
      "300/300 [==============================] - 0s 783us/step - loss: 4.3048 - accuracy: 0.0267 - val_loss: 4.0698 - val_accuracy: 0.0000e+00\n",
      "Epoch 195/200\n",
      "300/300 [==============================] - 0s 783us/step - loss: 4.3748 - accuracy: 0.0133 - val_loss: 4.5009 - val_accuracy: 0.0500\n",
      "Epoch 196/200\n",
      "300/300 [==============================] - 0s 780us/step - loss: 4.2192 - accuracy: 0.0100 - val_loss: 4.1152 - val_accuracy: 0.0167\n",
      "Epoch 197/200\n",
      "300/300 [==============================] - 0s 783us/step - loss: 4.1385 - accuracy: 0.0133 - val_loss: 4.0715 - val_accuracy: 0.0667\n",
      "Epoch 198/200\n",
      "300/300 [==============================] - 0s 780us/step - loss: 4.2562 - accuracy: 0.0100 - val_loss: 4.0835 - val_accuracy: 0.1000\n",
      "Epoch 199/200\n",
      "300/300 [==============================] - 0s 810us/step - loss: 4.3582 - accuracy: 0.0167 - val_loss: 4.1148 - val_accuracy: 0.0167\n",
      "Epoch 200/200\n",
      "300/300 [==============================] - 0s 783us/step - loss: 4.1395 - accuracy: 0.0267 - val_loss: 4.0205 - val_accuracy: 0.0500\n"
     ]
    }
   ],
   "source": [
    "model = create_model()\n",
    "callback1 = callbacks.EarlyStopping(monitor='loss', patience=5)\n",
    "model.compile(loss='categorical_crossentropy', optimizer='adam', metrics=['accuracy'])\n",
    "#history = model.fit(train_dataset, epochs=1000, validation_data=test_dataset, verbose=1)\n",
    "history = model.fit(x=X_train, y=y_train, batch_size=1, epochs=200, validation_data=(X_test,y_test))"
   ]
  },
  {
   "cell_type": "code",
   "execution_count": 32,
   "metadata": {},
   "outputs": [
    {
     "name": "stdout",
     "output_type": "stream",
     "text": [
      "0.03333333333333333\n",
      "(-0.268880513652809, 0.0002960292153534677)\n",
      "SpearmanrResult(correlation=-0.3637121067848548, pvalue=6.488429915346749e-07)\n",
      "KendalltauResult(correlation=-0.24024139702105804, pvalue=2.0611479987195184e-06)\n"
     ]
    },
    {
     "data": {
      "image/png": "[encoded data removed]",
      "text/plain": [
       "<Figure size 432x288 with 1 Axes>"
      ]
     },
     "metadata": {
      "needs_background": "light"
     },
     "output_type": "display_data"
    },
    {
     "name": "stdout",
     "output_type": "stream",
     "text": [
      "[[3.2319278e-02 9.9990082e-01 9.9993181e-01 ... 7.7100992e-03\n",
      "  4.6310127e-03 4.2291880e-03]\n",
      " [3.2171875e-02 9.9990070e-01 9.9993193e-01 ... 7.7168345e-03\n",
      "  4.6416819e-03 4.2349994e-03]\n",
      " [3.1744510e-02 9.9990070e-01 9.9993199e-01 ... 7.7357888e-03\n",
      "  4.6724379e-03 4.2514503e-03]\n",
      " ...\n",
      " [5.7705474e-05 2.3946762e-03 5.7166815e-04 ... 9.9494803e-01\n",
      "  9.9633670e-01 9.9636042e-01]\n",
      " [5.8019792e-05 2.4068952e-03 5.7539344e-04 ... 9.9501836e-01\n",
      "  9.9638271e-01 9.9640441e-01]\n",
      " [5.8315738e-05 2.4186969e-03 5.7917833e-04 ... 9.9508440e-01\n",
      "  9.9642599e-01 9.9644566e-01]]\n"
     ]
    }
   ],
   "source": [
    "nums = list(range(0,300))\n",
    "pred = model.predict(nums)\n",
    "new_pred = []\n",
    "real_values = []\n",
    "i = 0\n",
    "for item in pred:\n",
    "    new_pred.append(transform_predictions(item))\n",
    "    real_values.append(transform_predictions(y_train[i]))\n",
    "    i += 1\n",
    "print(get_accuracy(new_pred, real_values))\n",
    "uncertainty = get_nll_list(y_train, nums, pred)\n",
    "plot_uncertainty_pop(popuarity, uncertainty)\n",
    "print(pred)"
   ]
  },
  {
   "cell_type": "markdown",
   "metadata": {},
   "source": [
    "# Test on bayesian probabilistic model"
   ]
  },
  {
   "cell_type": "code",
   "execution_count": null,
   "metadata": {},
   "outputs": [],
   "source": [
    "def run_experiment(model, loss, train_dataset, test_dataset):\n",
    "\n",
    "    model.compile(\n",
    "        optimizer=keras.optimizers.RMSprop(learning_rate=0.001),\n",
    "        loss=loss,\n",
    "        metrics=[keras.metrics.RootMeanSquaredError()],\n",
    "    )\n",
    "\n",
    "    print(\"Start training the model...\")\n",
    "    model.fit(train_dataset, epochs=100, validation_data=test_dataset)\n",
    "    print(\"Model training finished.\")\n",
    "    _, rmse = model.evaluate(train_dataset, verbose=0)\n",
    "    print(f\"Train RMSE: {round(rmse, 3)}\")\n",
    "\n",
    "    print(\"Evaluating model performance...\")\n",
    "    _, rmse = model.evaluate(test_dataset, verbose=0)\n",
    "    print(f\"Test RMSE: {round(rmse, 3)}\")"
   ]
  },
  {
   "cell_type": "code",
   "execution_count": null,
   "metadata": {},
   "outputs": [],
   "source": [
    "def create_model_inputs():\n",
    "    inputs = {}\n",
    "    for feature_name in FEATURE_NAMES:\n",
    "        inputs[feature_name] = layers.Input(\n",
    "            name=feature_name, shape=(1,), dtype=tf.float32\n",
    "        )\n",
    "    return inputs"
   ]
  },
  {
   "cell_type": "code",
   "execution_count": null,
   "metadata": {},
   "outputs": [],
   "source": [
    "def create_probablistic_bnn_model(train_size):\n",
    "    inputs = create_model_inputs()\n",
    "    features = keras.layers.concatenate(list(inputs.values()))\n",
    "    features = keras.layers.BatchNormalization()(features)\n",
    "\n",
    "    # Create hidden layers with weight uncertainty using the DenseVariational layer.\n",
    "    for units in hidden_units:\n",
    "        features = tfp.layers.DenseVariational(\n",
    "            units=units,\n",
    "            make_prior_fn=prior,\n",
    "            make_posterior_fn=posterior,\n",
    "            kl_weight=1 / train_size,\n",
    "            activation=\"sigmoid\",\n",
    "        )(features)\n",
    "\n",
    "    # Create a probabilisticå output (Normal distribution), and use the `Dense` layer\n",
    "    # to produce the parameters of the distribution.\n",
    "    # We set units=2 to learn both the mean and the variance of the Normal distribution.\n",
    "    distribution_params = layers.Dense(units=2)(features)\n",
    "    outputs = tfp.layers.IndependentNormal(1)(distribution_params)\n",
    "\n",
    "    model = keras.Model(inputs=inputs, outputs=outputs)\n",
    "    return model"
   ]
  }
 ],
 "metadata": {
  "interpreter": {
   "hash": "0f2f6c680cf484319d387fabac80ca4ff4fc33965036e02100b3fe02600f1423"
  },
  "kernelspec": {
   "display_name": "Python 3.10.2 64-bit",
   "language": "python",
   "name": "python3"
  },
  "language_info": {
   "codemirror_mode": {
    "name": "ipython",
    "version": 3
   },
   "file_extension": ".py",
   "mimetype": "text/x-python",
   "name": "python",
   "nbconvert_exporter": "python",
   "pygments_lexer": "ipython3",
   "version": "3.10.2"
  },
  "orig_nbformat": 4
 },
 "nbformat": 4,
 "nbformat_minor": 2
}
