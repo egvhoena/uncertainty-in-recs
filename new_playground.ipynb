{
 "cells": [
  {
   "cell_type": "code",
   "execution_count": 4,
   "metadata": {},
   "outputs": [],
   "source": [
    "from cgi import test\n",
    "import matplotlib.pyplot as plt\n",
    "import numpy as np\n",
    "import pandas as pd\n",
    "import random\n",
    "import copy\n",
    "from sklearn.model_selection import train_test_split\n",
    "from scipy.stats import halfnorm, expon, uniform, chi, norm\n",
    "from keras import callbacks\n",
    "from keras.layers import Dense, Input, Conv2D, MaxPool2D, LSTM, add\n",
    "from keras.layers import Activation, Dropout, Flatten, Embedding\n",
    "from keras.models import Model, Sequential\n",
    "import tensorflow as tf\n",
    "import scipy.stats\n",
    "from IPython.display import display"
   ]
  },
  {
   "cell_type": "markdown",
   "metadata": {},
   "source": [
    "### Exponential distribution generators"
   ]
  },
  {
   "cell_type": "code",
   "execution_count": 5,
   "metadata": {},
   "outputs": [],
   "source": [
    "def generate_exponential(amount): #Generates a popular playlist\n",
    "    data = {}\n",
    "    for i in range(amount):\n",
    "        data[i] = expon.pdf(i, scale=(amount/7)) \n",
    "    return data  "
   ]
  },
  {
   "cell_type": "code",
   "execution_count": 6,
   "metadata": {},
   "outputs": [],
   "source": [
    "def generate_exponential_inv(amount): #Generates a \"niche\" (unpopuar) playlist \n",
    "    data = {}\n",
    "    for i in range(amount):\n",
    "        data[amount - 1 - i] = expon.pdf(i, scale=(amount/7)) \n",
    "    return data"
   ]
  },
  {
   "cell_type": "markdown",
   "metadata": {},
   "source": [
    "### Uniform distribution generator"
   ]
  },
  {
   "cell_type": "code",
   "execution_count": 7,
   "metadata": {},
   "outputs": [],
   "source": [
    "def generate_uniform(amount): #Generates an uniform distribution among the items\n",
    "    data = {}\n",
    "    for i in range(amount):\n",
    "        data[i] = uniform.pdf(i, scale=amount) \n",
    "    return data"
   ]
  },
  {
   "cell_type": "markdown",
   "metadata": {},
   "source": [
    "### Aux functions"
   ]
  },
  {
   "cell_type": "markdown",
   "metadata": {},
   "source": [
    "get_cumulative_prob() GETS THE CUMULATIVE PROBABIITIES OF ITEMS (for later selection)"
   ]
  },
  {
   "cell_type": "code",
   "execution_count": 8,
   "metadata": {},
   "outputs": [],
   "source": [
    "def get_cumulative_prob(y): \n",
    "\n",
    "    cum_prob = {}\n",
    "    cum_prob[0] = y[0]\n",
    "\n",
    "    for i in range(1, 300):\n",
    "        cum_prob[i] = cum_prob[i-1] + y[i]\n",
    "    return cum_prob"
   ]
  },
  {
   "cell_type": "markdown",
   "metadata": {},
   "source": [
    "get_playlist() generates a playlist based on the cumulative probabilities its given (for popualar, normal, and rare)"
   ]
  },
  {
   "cell_type": "code",
   "execution_count": 9,
   "metadata": {},
   "outputs": [],
   "source": [
    "def get_playlists(cum_prob): #CREATES A RANDOM PLAYLLIST\n",
    "\n",
    "    playlist = [] #empty toy playlist\n",
    "\n",
    "    #create random playlist (like this bc they dont add to 1)\n",
    "    while len(playlist) < 20:\n",
    "\n",
    "        prob = np.random.random()\n",
    "        #print(prob)\n",
    "        finished = False\n",
    "        i = 0\n",
    "        while i < 300 and finished == False:\n",
    "            if prob < cum_prob[i] and i not in playlist:\n",
    "                playlist.append(i)\n",
    "                finished = True\n",
    "            i += 1\n",
    "\n",
    "    playlist.sort()\n",
    "    return playlist"
   ]
  },
  {
   "cell_type": "code",
   "execution_count": 10,
   "metadata": {},
   "outputs": [],
   "source": [
    "def get_songs_ordered(songs): #RETURNS A LIST OF SONGS ORDERED BY POPULARITY (AMONG ALL THE PLAYLISTS)\n",
    "    ordered_songs = []\n",
    "    songs_copy = copy.deepcopy(songs)\n",
    "\n",
    "    while songs_copy: \n",
    "        max_value = max(songs_copy, key=songs_copy.get)\n",
    "        ordered_songs.append(max_value)\n",
    "        songs_copy.pop(max_value)\n",
    "    #print(\"Highest used song: \", max_value, \" with \", songs_copy[max_value], \" instances\")\n",
    "    return ordered_songs"
   ]
  },
  {
   "cell_type": "code",
   "execution_count": 11,
   "metadata": {},
   "outputs": [],
   "source": [
    "def create_dataframe(list): \n",
    "    elems = []\n",
    "    pred = []\n",
    "    size = len(list)\n",
    "    for i in range(size - 1):\n",
    "        elems.append(list[i])\n",
    "        pred.append(list[i + 1])\n",
    "    d = {'Song':elems, 'Next':pred}\n",
    "    df = pd.DataFrame(d)\n",
    "    return df"
   ]
  },
  {
   "cell_type": "code",
   "execution_count": 12,
   "metadata": {},
   "outputs": [],
   "source": [
    "def get_prob_dataframe(probs):\n",
    "    songs = []\n",
    "    next = []\n",
    "    for i in range(len(probs)):\n",
    "        songs.append(i)\n",
    "        next.append(probs[i])\n",
    "    for i in range(len(next[299])):\n",
    "        next[299][i] = 0\n",
    "    next[299][298] = 1\n",
    "    dataframe_next = pd.DataFrame(next)\n",
    "    d = {'Song': songs}\n",
    "    df = pd.DataFrame(d)\n",
    "    result = pd.concat([df, dataframe_next], axis=1, join='inner')\n",
    "    return result"
   ]
  },
  {
   "cell_type": "markdown",
   "metadata": {},
   "source": [
    "In case we stop using probabilities use this function not create_dataframe()"
   ]
  },
  {
   "cell_type": "code",
   "execution_count": 13,
   "metadata": {},
   "outputs": [],
   "source": [
    "def create_training_data(pairs):\n",
    "    songs = []\n",
    "    next = []\n",
    "    for i in range(len(pairs)):\n",
    "        #max_num = 0\n",
    "        songs.append(i)\n",
    "        #max_num = max(pairs[i])\n",
    "        pred_song = np.argmax(pairs[i])\n",
    "        next.append(pred_song)\n",
    "    d = {\"Song\":songs, \"Next\":next}\n",
    "    df = pd.DataFrame(d)\n",
    "    return df"
   ]
  },
  {
   "cell_type": "code",
   "execution_count": 14,
   "metadata": {},
   "outputs": [],
   "source": [
    "def split_dataset(dataframe):\n",
    "    X = dataframe['Song']\n",
    "    y = dataframe['Next']\n",
    "\n",
    "    X_train, X_test, y_train, y_test = train_test_split(X, y, test_size=0.2)\n",
    "    train = {'Song':X_train, 'Next': y_train}\n",
    "    test = {'Song':X_test, 'Next': y_test}\n",
    "    return train, test"
   ]
  },
  {
   "cell_type": "code",
   "execution_count": 15,
   "metadata": {},
   "outputs": [],
   "source": [
    "def split_dataset_prob(dataframe):\n",
    "    X = dataframe['Song']\n",
    "    dataframe = dataframe.drop('Song', axis=1)\n",
    "    y = dataframe\n",
    "\n",
    "    X_train, X_test, y_train, y_test = train_test_split(X, y, test_size=0.2)\n",
    "    X_train = X\n",
    "    y_train = y\n",
    "    return X_train, X_test, y_train, y_test"
   ]
  },
  {
   "cell_type": "code",
   "execution_count": 16,
   "metadata": {},
   "outputs": [],
   "source": [
    "def norm_data(data, mean, std):\n",
    "    songs_norm = (data['Song'] - mean) / std\n",
    "    data['Song'] = songs_norm\n",
    "    return data"
   ]
  },
  {
   "cell_type": "markdown",
   "metadata": {},
   "source": [
    "In case we need tensorflow Datasets"
   ]
  },
  {
   "cell_type": "code",
   "execution_count": 17,
   "metadata": {},
   "outputs": [],
   "source": [
    "def get_tf_dataset(train, test):\n",
    "    train_X = tf.data.Dataset.from_tensor_slices(train['Song'])\n",
    "    train_Y = tf.data.Dataset.from_tensor_slices(train['Next'])\n",
    "\n",
    "    train_dataset = tf.data.Dataset.zip((train_X, train_Y))\n",
    "    train_dataset = train_dataset.shuffle(1000).batch(64)\n",
    "    train_dataset = train_dataset.prefetch(buffer_size=tf.data.AUTOTUNE)\n",
    "\n",
    "    test_X = tf.data.Dataset.from_tensor_slices(test['Song'])\n",
    "    test_Y = tf.data.Dataset.from_tensor_slices(test['Next'])\n",
    "\n",
    "    test_dataset = tf.data.Dataset.zip((test_X, test_Y))\n",
    "    test_dataset = test_dataset.shuffle(1000).batch(64)\n",
    "    test_dataset = test_dataset.prefetch(buffer_size=tf.data.AUTOTUNE)\n",
    "\n",
    "    return train_dataset, test_dataset"
   ]
  },
  {
   "cell_type": "markdown",
   "metadata": {},
   "source": [
    "create_pairs() creates pairs of numbers, indicating the number of times one appears after the other in the playlists"
   ]
  },
  {
   "cell_type": "code",
   "execution_count": 18,
   "metadata": {},
   "outputs": [],
   "source": [
    "def create_pairs(playlists): #playlists should be a list of lists, ordered\n",
    "    pairs = np.zeros((300,300))\n",
    "    for playlist in playlists:\n",
    "        for i in range(len(playlist)-1):\n",
    "            pairs[playlist[i]][playlist[i+1]] += 1\n",
    "    return pairs"
   ]
  },
  {
   "cell_type": "code",
   "execution_count": 19,
   "metadata": {},
   "outputs": [],
   "source": [
    "def order_playists(playlists):\n",
    "    for playlist in playlists:\n",
    "        playlist.sort()\n",
    "    return playlists"
   ]
  },
  {
   "cell_type": "code",
   "execution_count": 20,
   "metadata": {},
   "outputs": [],
   "source": [
    "def get_probabilities(pairs): #Gets the probabilities associated to each pair of numbers, which song is more likely\n",
    "    for num in range(len(pairs)): #to go after the other\n",
    "        total = sum(pairs[num])\n",
    "        pairs[num] /= total\n",
    "    return pairs"
   ]
  },
  {
   "cell_type": "code",
   "execution_count": 21,
   "metadata": {},
   "outputs": [],
   "source": [
    "def get_nll(true_song, probs): #true_song has to be in [0,0,0...1,0] format, being the 1 in the correct song index\n",
    "    nll = 0                     #probs is the output of the nn\n",
    "    for i in range(len(true_song)):\n",
    "        nll += true_song[i] * probs[i]\n",
    "    nll = -np.log(nll)\n",
    "    return nll"
   ]
  },
  {
   "cell_type": "code",
   "execution_count": 22,
   "metadata": {},
   "outputs": [],
   "source": [
    "def get_nll_list(expected, idx, predictions): #Returns a list of uncertainties for each prediction\n",
    "    nll_list = []\n",
    "    j = 0\n",
    "    for i in idx:\n",
    "        true_song = get_true_song(expected[i])\n",
    "        nll_list.append(get_nll(true_song, predictions[j]))\n",
    "        j += 1\n",
    "    return nll_list"
   ]
  },
  {
   "cell_type": "code",
   "execution_count": 23,
   "metadata": {},
   "outputs": [],
   "source": [
    "def get_true_song(next_songs): #returns expected song, represented as one_hot\n",
    "    true_song = []\n",
    "    item = np.argmax(next_songs)\n",
    "    for i in range(len(next_songs)):\n",
    "        if i == item:\n",
    "            true_song.append(1)\n",
    "            #print(\"Predicted song: \", item)\n",
    "        else:\n",
    "            true_song.append(0)\n",
    "    return true_song"
   ]
  },
  {
   "cell_type": "code",
   "execution_count": 34,
   "metadata": {},
   "outputs": [],
   "source": [
    "def transform_predictions(pred): #Transforms the predictions into a one_hot of the most likely song\n",
    "    max_index = np.argmax(pred)\n",
    "    new_pred = np.zeros(len(pred))\n",
    "    new_pred[max_index] = 1\n",
    "    return new_pred"
   ]
  },
  {
   "cell_type": "code",
   "execution_count": 39,
   "metadata": {},
   "outputs": [],
   "source": [
    "def get_accuracy(pred, truth):\n",
    "    count = 0\n",
    "    size = len(pred)\n",
    "    for i in range(size):\n",
    "        cont = True\n",
    "        j = 0\n",
    "        while cont and j < size:\n",
    "            if pred[i][j] != truth[i][j]:\n",
    "                cont = False\n",
    "            j += 1\n",
    "        if cont:\n",
    "            count += 1\n",
    "    return count / size"
   ]
  },
  {
   "cell_type": "markdown",
   "metadata": {},
   "source": [
    "### Model creation"
   ]
  },
  {
   "cell_type": "code",
   "execution_count": 24,
   "metadata": {},
   "outputs": [],
   "source": [
    "def create_model():\n",
    "    model = Sequential()\n",
    "    input = Input(shape=(1,))\n",
    "    model.add(input)\n",
    "    model.add(Dense(10, activation='tanh'))\n",
    "    model.add(Dense(20, activation='tanh'))\n",
    "    model.add(Dense(30, activation='tanh'))\n",
    "    model.add(Dense(40, activation='tanh'))\n",
    "    model.add(Dense(50, activation='tanh'))\n",
    "    model.add(Dense(60, activation='tanh'))\n",
    "    model.add(Dense(40, activation='tanh'))\n",
    "    model.add(Dense(70, activation='tanh'))\n",
    "    model.add(Dense(300, activation='sigmoid')) #model.add(Dense(1))\n",
    "    return model"
   ]
  },
  {
   "cell_type": "markdown",
   "metadata": {},
   "source": [
    "### Visualization functions"
   ]
  },
  {
   "cell_type": "code",
   "execution_count": 25,
   "metadata": {},
   "outputs": [],
   "source": [
    "def plot_playists_popularity(playists): #FUNCTION THAT PLOTS AL THE SONGS APPEARANCES OF ALL PLAYLISTS\n",
    "    #playlists is a list of lists\n",
    "\n",
    "    num_appearances = {} #Dictionary to store the number of times a song is in a playlist\n",
    "\n",
    "    for playlist in playists:\n",
    "        for song in playlist:\n",
    "            if song in num_appearances.keys():\n",
    "                num_appearances[song] += 1\n",
    "            else:\n",
    "                num_appearances[song] = 1\n",
    "\n",
    "    id, counts = zip(*num_appearances.items())\n",
    "    plt.scatter(id, counts)\n",
    "    plt.xlabel(\"Song number\")\n",
    "    plt.ylabel(\"Number of appearances\")\n",
    "    plt.show() #BREAK POINT HERE TO SEE THE PLOT\n",
    "    return num_appearances"
   ]
  },
  {
   "cell_type": "code",
   "execution_count": 26,
   "metadata": {},
   "outputs": [],
   "source": [
    "def plot_uncertainty_pop(popuarity, uncertainty):\n",
    "    id, counts = zip(*popuarity.items())\n",
    "    plot_dict = {}\n",
    "    i = 0\n",
    "    for num in counts:\n",
    "        #what if its already a number\n",
    "        plot_dict[num] = uncertainty[i]\n",
    "        i += 1\n",
    "    pop, unc = zip(*plot_dict.items())\n",
    "    print(scipy.stats.pearsonr(pop, unc))\n",
    "    print(scipy.stats.spearmanr(pop, unc))\n",
    "    print(scipy.stats.kendalltau(pop, unc))\n",
    "    plt.scatter(pop, unc)\n",
    "    plt.xlabel(\"Popuarity\")\n",
    "    plt.ylabel(\"Uncertainty\")\n",
    "    plt.show() #BREAK POINT HERE TO SEE THE PLOT"
   ]
  },
  {
   "cell_type": "markdown",
   "metadata": {},
   "source": [
    "## Here it begins"
   ]
  },
  {
   "cell_type": "code",
   "execution_count": 27,
   "metadata": {},
   "outputs": [
    {
     "data": {
      "image/png": "[encoded data removed]",
      "text/plain": [
       "<Figure size 432x288 with 1 Axes>"
      ]
     },
     "metadata": {
      "needs_background": "light"
     },
     "output_type": "display_data"
    }
   ],
   "source": [
    "data = generate_exponential(300)\n",
    "#data = generate_exponential_inv(300)\n",
    "#data = generate_uniform(300)\n",
    "lists = sorted(data.items())\n",
    "x, y = zip(*lists)\n",
    "cum_prob = get_cumulative_prob(y)\n",
    "playlist = get_playlists(cum_prob)\n",
    "plt.plot(x, y)\n",
    "plt.show() "
   ]
  },
  {
   "cell_type": "code",
   "execution_count": 28,
   "metadata": {},
   "outputs": [],
   "source": [
    "random.seed(1234)\n",
    "playlist_list = []\n",
    "data_exp = generate_exponential(300)\n",
    "data_exp_inv = generate_exponential_inv(300)\n",
    "data_uniform = generate_uniform(300)\n",
    "\n",
    "data_exp = sorted(data_exp.items())\n",
    "_, y_exp = zip(*data_exp)\n",
    "\n",
    "data_exp_inv = sorted(data_exp_inv.items())\n",
    "_, y_exp_inv = zip(*data_exp_inv)\n",
    "\n",
    "data_uniform = sorted(data_uniform.items())\n",
    "_, y_uni = zip(*data_uniform)"
   ]
  },
  {
   "cell_type": "code",
   "execution_count": 29,
   "metadata": {},
   "outputs": [],
   "source": [
    "type = random.choices(population=[0,1,2], weights=[0.2307,0.6923,0.077], k=3000) #returns a list of choices\n",
    "\n",
    "cum_prob_exp = get_cumulative_prob(y_exp) #GETS DIFFERENT PROBABIITIES\n",
    "cum_prob_inv = get_cumulative_prob(y_exp_inv)\n",
    "cum_prob_uni = get_cumulative_prob(y_uni)\n",
    "\n",
    "for i in type: #GET A RANDOM PLAYLIST OF A SPECIFIC TYPE\n",
    "    if i == 1:\n",
    "        pl = get_playlists(cum_prob_exp)\n",
    "    elif i == 2:\n",
    "        pl = get_playlists(cum_prob_inv)\n",
    "    else:\n",
    "        pl = get_playlists(cum_prob_uni)\n",
    "    playlist_list.append(pl)"
   ]
  },
  {
   "cell_type": "code",
   "execution_count": 30,
   "metadata": {},
   "outputs": [
    {
     "data": {
      "image/png": "[encoded data removed]",
      "text/plain": [
       "<Figure size 432x288 with 1 Axes>"
      ]
     },
     "metadata": {
      "needs_background": "light"
     },
     "output_type": "display_data"
    },
    {
     "name": "stderr",
     "output_type": "stream",
     "text": [
      "C:\\Users\\danie\\AppData\\Local\\Temp\\ipykernel_13328\\4282934075.py:4: RuntimeWarning: invalid value encountered in true_divide\n",
      "  pairs[num] /= total\n"
     ]
    }
   ],
   "source": [
    "popuarity = plot_playists_popularity(playlist_list) #returns the number of appearances of each song\n",
    "playlists_ordered = order_playists(playlist_list)\n",
    "pairs = create_pairs(playlist_list) #playlists_ordered\n",
    "pairs2 = get_probabilities(pairs)\n",
    "df2 = get_prob_dataframe(pairs2)\n",
    "#df = create_training_data(pairs)"
   ]
  },
  {
   "cell_type": "code",
   "execution_count": 31,
   "metadata": {},
   "outputs": [],
   "source": [
    "#train_data, test_data= split_dataset(df)\n",
    "X_train, X_test, y_train, y_test = split_dataset_prob(df2)\n",
    "#train_dataset, test_dataset = get_tf_dataset(train_data, test_data)"
   ]
  },
  {
   "cell_type": "code",
   "execution_count": 32,
   "metadata": {},
   "outputs": [
    {
     "name": "stdout",
     "output_type": "stream",
     "text": [
      "Epoch 1/200\n",
      "300/300 [==============================] - 1s 1ms/step - loss: 5.7205 - accuracy: 0.0000e+00 - val_loss: 5.6752 - val_accuracy: 0.0000e+00\n",
      "Epoch 2/200\n",
      "300/300 [==============================] - 0s 967us/step - loss: 5.5632 - accuracy: 0.0000e+00 - val_loss: 6.3582 - val_accuracy: 0.0000e+00\n",
      "Epoch 3/200\n",
      "300/300 [==============================] - 0s 1ms/step - loss: 5.2716 - accuracy: 0.0033 - val_loss: 5.0537 - val_accuracy: 0.0000e+00\n",
      "Epoch 4/200\n",
      "300/300 [==============================] - 0s 874us/step - loss: 5.1207 - accuracy: 0.0033 - val_loss: 4.9569 - val_accuracy: 0.0000e+00\n",
      "Epoch 5/200\n",
      "300/300 [==============================] - 0s 907us/step - loss: 5.0618 - accuracy: 0.0000e+00 - val_loss: 5.0418 - val_accuracy: 0.0000e+00\n",
      "Epoch 6/200\n",
      "300/300 [==============================] - 0s 874us/step - loss: 4.9881 - accuracy: 0.0067 - val_loss: 4.8451 - val_accuracy: 0.0167\n",
      "Epoch 7/200\n",
      "300/300 [==============================] - 0s 860us/step - loss: 5.3535 - accuracy: 0.0000e+00 - val_loss: 5.0114 - val_accuracy: 0.0167\n",
      "Epoch 8/200\n",
      "300/300 [==============================] - 0s 911us/step - loss: 4.8055 - accuracy: 0.0133 - val_loss: 4.7953 - val_accuracy: 0.0000e+00\n",
      "Epoch 9/200\n",
      "300/300 [==============================] - 0s 877us/step - loss: 4.8081 - accuracy: 0.0033 - val_loss: 4.7020 - val_accuracy: 0.0167\n",
      "Epoch 10/200\n",
      "300/300 [==============================] - 0s 867us/step - loss: 4.8359 - accuracy: 0.0200 - val_loss: 8.0628 - val_accuracy: 0.0167\n",
      "Epoch 11/200\n",
      "300/300 [==============================] - 0s 887us/step - loss: 5.8361 - accuracy: 0.0000e+00 - val_loss: 5.3125 - val_accuracy: 0.0000e+00\n",
      "Epoch 12/200\n",
      "300/300 [==============================] - 0s 857us/step - loss: 5.0939 - accuracy: 0.0067 - val_loss: 5.0749 - val_accuracy: 0.0167\n",
      "Epoch 13/200\n",
      "300/300 [==============================] - 0s 884us/step - loss: 4.9043 - accuracy: 0.0033 - val_loss: 4.5127 - val_accuracy: 0.0167\n",
      "Epoch 14/200\n",
      "300/300 [==============================] - 0s 867us/step - loss: 4.8107 - accuracy: 0.0067 - val_loss: 4.8378 - val_accuracy: 0.0000e+00\n",
      "Epoch 15/200\n",
      "300/300 [==============================] - 0s 864us/step - loss: 4.7024 - accuracy: 0.0000e+00 - val_loss: 4.4132 - val_accuracy: 0.0167\n",
      "Epoch 16/200\n",
      "300/300 [==============================] - 0s 887us/step - loss: 4.5984 - accuracy: 0.0067 - val_loss: 5.8143 - val_accuracy: 0.0167\n",
      "Epoch 17/200\n",
      "300/300 [==============================] - 0s 880us/step - loss: 4.7711 - accuracy: 0.0100 - val_loss: 4.4380 - val_accuracy: 0.0333\n",
      "Epoch 18/200\n",
      "300/300 [==============================] - 0s 860us/step - loss: 4.7327 - accuracy: 0.0100 - val_loss: 4.3513 - val_accuracy: 0.0667\n",
      "Epoch 19/200\n",
      "300/300 [==============================] - 0s 870us/step - loss: 4.5997 - accuracy: 0.0100 - val_loss: 4.3973 - val_accuracy: 0.0167\n",
      "Epoch 20/200\n",
      "300/300 [==============================] - 0s 867us/step - loss: 4.4436 - accuracy: 0.0133 - val_loss: 4.2864 - val_accuracy: 0.0167\n",
      "Epoch 21/200\n",
      "300/300 [==============================] - 0s 870us/step - loss: 4.6616 - accuracy: 0.0167 - val_loss: 4.6250 - val_accuracy: 0.0167\n",
      "Epoch 22/200\n",
      "300/300 [==============================] - 0s 880us/step - loss: 4.5689 - accuracy: 0.0100 - val_loss: 4.3496 - val_accuracy: 0.0000e+00\n",
      "Epoch 23/200\n",
      "300/300 [==============================] - 0s 874us/step - loss: 4.4529 - accuracy: 0.0167 - val_loss: 4.3519 - val_accuracy: 0.0167\n",
      "Epoch 24/200\n",
      "300/300 [==============================] - 0s 877us/step - loss: 4.6570 - accuracy: 0.0167 - val_loss: 4.2996 - val_accuracy: 0.0500\n",
      "Epoch 25/200\n",
      "300/300 [==============================] - 0s 847us/step - loss: 4.3842 - accuracy: 0.0233 - val_loss: 4.1705 - val_accuracy: 0.0167\n",
      "Epoch 26/200\n",
      "300/300 [==============================] - 0s 887us/step - loss: 4.3359 - accuracy: 0.0167 - val_loss: 4.3306 - val_accuracy: 0.0167\n",
      "Epoch 27/200\n",
      "300/300 [==============================] - 0s 924us/step - loss: 4.4447 - accuracy: 0.0133 - val_loss: 4.3579 - val_accuracy: 0.0000e+00\n",
      "Epoch 28/200\n",
      "300/300 [==============================] - 0s 877us/step - loss: 4.2718 - accuracy: 0.0067 - val_loss: 4.3093 - val_accuracy: 0.0333\n",
      "Epoch 29/200\n",
      "300/300 [==============================] - 0s 961us/step - loss: 4.3437 - accuracy: 0.0167 - val_loss: 4.0634 - val_accuracy: 0.0500\n",
      "Epoch 30/200\n",
      "300/300 [==============================] - 0s 954us/step - loss: 4.2595 - accuracy: 0.0133 - val_loss: 4.0955 - val_accuracy: 0.0333\n",
      "Epoch 31/200\n",
      "300/300 [==============================] - 0s 874us/step - loss: 4.3334 - accuracy: 0.0133 - val_loss: 4.0285 - val_accuracy: 0.0167\n",
      "Epoch 32/200\n",
      "300/300 [==============================] - 0s 860us/step - loss: 4.4502 - accuracy: 0.0167 - val_loss: 7.7052 - val_accuracy: 0.0167\n",
      "Epoch 33/200\n",
      "300/300 [==============================] - 0s 864us/step - loss: 4.6443 - accuracy: 0.0033 - val_loss: 4.3800 - val_accuracy: 0.0167\n",
      "Epoch 34/200\n",
      "300/300 [==============================] - 0s 927us/step - loss: 4.3095 - accuracy: 0.0100 - val_loss: 4.6207 - val_accuracy: 0.0000e+00\n",
      "Epoch 35/200\n",
      "300/300 [==============================] - 0s 874us/step - loss: 4.4637 - accuracy: 0.0033 - val_loss: 4.0979 - val_accuracy: 0.0167\n",
      "Epoch 36/200\n",
      "300/300 [==============================] - 0s 880us/step - loss: 4.2795 - accuracy: 0.0100 - val_loss: 4.0372 - val_accuracy: 0.0667\n",
      "Epoch 37/200\n",
      "300/300 [==============================] - 0s 874us/step - loss: 4.4159 - accuracy: 0.0100 - val_loss: 4.2689 - val_accuracy: 0.0667\n",
      "Epoch 38/200\n",
      "300/300 [==============================] - 0s 877us/step - loss: 4.1792 - accuracy: 0.0133 - val_loss: 4.1555 - val_accuracy: 0.0833\n",
      "Epoch 39/200\n",
      "300/300 [==============================] - 0s 894us/step - loss: 4.3135 - accuracy: 0.0133 - val_loss: 4.1002 - val_accuracy: 0.0333\n",
      "Epoch 40/200\n",
      "300/300 [==============================] - 0s 880us/step - loss: 4.3685 - accuracy: 0.0067 - val_loss: 4.3713 - val_accuracy: 0.0167\n",
      "Epoch 41/200\n",
      "300/300 [==============================] - 0s 870us/step - loss: 4.5067 - accuracy: 0.0100 - val_loss: 4.7906 - val_accuracy: 0.0500\n",
      "Epoch 42/200\n",
      "300/300 [==============================] - 0s 877us/step - loss: 4.2293 - accuracy: 0.0067 - val_loss: 4.0583 - val_accuracy: 0.0667\n",
      "Epoch 43/200\n",
      "300/300 [==============================] - 0s 887us/step - loss: 4.1621 - accuracy: 0.0167 - val_loss: 4.0869 - val_accuracy: 0.0167\n",
      "Epoch 44/200\n",
      "300/300 [==============================] - 0s 880us/step - loss: 4.6345 - accuracy: 0.0100 - val_loss: 4.4042 - val_accuracy: 0.0000e+00\n",
      "Epoch 45/200\n",
      "300/300 [==============================] - 0s 867us/step - loss: 4.2361 - accuracy: 0.0067 - val_loss: 4.0432 - val_accuracy: 0.0500\n",
      "Epoch 46/200\n",
      "300/300 [==============================] - 0s 870us/step - loss: 4.3437 - accuracy: 0.0167 - val_loss: 4.4057 - val_accuracy: 0.0167\n",
      "Epoch 47/200\n",
      "300/300 [==============================] - 0s 884us/step - loss: 4.2270 - accuracy: 0.0200 - val_loss: 4.0727 - val_accuracy: 0.0000e+00\n",
      "Epoch 48/200\n",
      "300/300 [==============================] - 0s 887us/step - loss: 4.6323 - accuracy: 0.0033 - val_loss: 4.2475 - val_accuracy: 0.0333\n",
      "Epoch 49/200\n",
      "300/300 [==============================] - 0s 884us/step - loss: 4.3024 - accuracy: 0.0133 - val_loss: 4.8121 - val_accuracy: 0.0167\n",
      "Epoch 50/200\n",
      "300/300 [==============================] - 0s 988us/step - loss: 4.2577 - accuracy: 0.0100 - val_loss: 4.0200 - val_accuracy: 0.0167\n",
      "Epoch 51/200\n",
      "300/300 [==============================] - 0s 894us/step - loss: 4.2077 - accuracy: 0.0100 - val_loss: 4.0096 - val_accuracy: 0.0333\n",
      "Epoch 52/200\n",
      "300/300 [==============================] - 0s 880us/step - loss: 4.0407 - accuracy: 0.0100 - val_loss: 4.3641 - val_accuracy: 0.0167\n",
      "Epoch 53/200\n",
      "300/300 [==============================] - 0s 870us/step - loss: 4.6078 - accuracy: 0.0033 - val_loss: 4.3107 - val_accuracy: 0.0167\n",
      "Epoch 54/200\n",
      "300/300 [==============================] - 0s 884us/step - loss: 4.1546 - accuracy: 0.0233 - val_loss: 4.0321 - val_accuracy: 0.0333\n",
      "Epoch 55/200\n",
      "300/300 [==============================] - 0s 864us/step - loss: 4.4315 - accuracy: 0.0200 - val_loss: 3.9831 - val_accuracy: 0.0833\n",
      "Epoch 56/200\n",
      "300/300 [==============================] - 0s 877us/step - loss: 4.1601 - accuracy: 0.0267 - val_loss: 4.2336 - val_accuracy: 0.0000e+00\n",
      "Epoch 57/200\n",
      "300/300 [==============================] - 0s 880us/step - loss: 4.0742 - accuracy: 0.0067 - val_loss: 3.9933 - val_accuracy: 0.0667\n",
      "Epoch 58/200\n",
      "300/300 [==============================] - 0s 874us/step - loss: 4.6180 - accuracy: 0.0133 - val_loss: 4.8715 - val_accuracy: 0.0000e+00\n",
      "Epoch 59/200\n",
      "300/300 [==============================] - 0s 867us/step - loss: 4.4833 - accuracy: 0.0100 - val_loss: 4.0834 - val_accuracy: 0.0500\n",
      "Epoch 60/200\n",
      "300/300 [==============================] - 0s 927us/step - loss: 4.5899 - accuracy: 0.0100 - val_loss: 4.3673 - val_accuracy: 0.0000e+00\n",
      "Epoch 61/200\n",
      "300/300 [==============================] - 0s 867us/step - loss: 4.2144 - accuracy: 0.0167 - val_loss: 4.1386 - val_accuracy: 0.0667\n",
      "Epoch 62/200\n",
      "300/300 [==============================] - 0s 887us/step - loss: 4.1063 - accuracy: 0.0200 - val_loss: 4.0792 - val_accuracy: 0.0167\n",
      "Epoch 63/200\n",
      "300/300 [==============================] - 0s 927us/step - loss: 4.2498 - accuracy: 0.0167 - val_loss: 4.3731 - val_accuracy: 0.0167\n",
      "Epoch 64/200\n",
      "300/300 [==============================] - 0s 877us/step - loss: 4.4898 - accuracy: 0.0067 - val_loss: 4.6305 - val_accuracy: 0.0000e+00\n",
      "Epoch 65/200\n",
      "300/300 [==============================] - 0s 924us/step - loss: 4.3173 - accuracy: 0.0267 - val_loss: 4.0463 - val_accuracy: 0.0333\n",
      "Epoch 66/200\n",
      "300/300 [==============================] - 0s 874us/step - loss: 4.3348 - accuracy: 0.0100 - val_loss: 4.1442 - val_accuracy: 0.0500\n",
      "Epoch 67/200\n",
      "300/300 [==============================] - 0s 874us/step - loss: 4.0959 - accuracy: 0.0100 - val_loss: 3.9199 - val_accuracy: 0.0833\n",
      "Epoch 68/200\n",
      "300/300 [==============================] - 0s 874us/step - loss: 4.1450 - accuracy: 0.0200 - val_loss: 4.0016 - val_accuracy: 0.0667\n",
      "Epoch 69/200\n",
      "300/300 [==============================] - 0s 860us/step - loss: 4.0938 - accuracy: 0.0200 - val_loss: 3.9418 - val_accuracy: 0.0000e+00\n",
      "Epoch 70/200\n",
      "300/300 [==============================] - 0s 860us/step - loss: 4.2015 - accuracy: 0.0200 - val_loss: 4.5919 - val_accuracy: 0.0333\n",
      "Epoch 71/200\n",
      "300/300 [==============================] - 0s 860us/step - loss: 6.3547 - accuracy: 0.0000e+00 - val_loss: 5.8394 - val_accuracy: 0.0000e+00\n",
      "Epoch 72/200\n",
      "300/300 [==============================] - 0s 907us/step - loss: 5.8274 - accuracy: 0.0000e+00 - val_loss: 5.7335 - val_accuracy: 0.0167\n",
      "Epoch 73/200\n",
      "300/300 [==============================] - 0s 867us/step - loss: 5.8059 - accuracy: 0.0000e+00 - val_loss: 5.7401 - val_accuracy: 0.0333\n",
      "Epoch 74/200\n",
      "300/300 [==============================] - 0s 921us/step - loss: 5.7982 - accuracy: 0.0000e+00 - val_loss: 5.7301 - val_accuracy: 0.0000e+00\n",
      "Epoch 75/200\n",
      "300/300 [==============================] - 0s 907us/step - loss: 5.7930 - accuracy: 0.0033 - val_loss: 5.7057 - val_accuracy: 0.0000e+00\n",
      "Epoch 76/200\n",
      "300/300 [==============================] - 0s 867us/step - loss: 5.5902 - accuracy: 0.0033 - val_loss: 5.2932 - val_accuracy: 0.0000e+00\n",
      "Epoch 77/200\n",
      "300/300 [==============================] - 0s 860us/step - loss: 5.3882 - accuracy: 0.0033 - val_loss: 5.1878 - val_accuracy: 0.0167\n",
      "Epoch 78/200\n",
      "300/300 [==============================] - 0s 874us/step - loss: 5.1074 - accuracy: 0.0033 - val_loss: 4.9597 - val_accuracy: 0.0167\n",
      "Epoch 79/200\n",
      "300/300 [==============================] - 0s 880us/step - loss: 4.9021 - accuracy: 0.0067 - val_loss: 4.7707 - val_accuracy: 0.0000e+00\n",
      "Epoch 80/200\n",
      "300/300 [==============================] - 0s 857us/step - loss: 5.4281 - accuracy: 0.0033 - val_loss: 4.9236 - val_accuracy: 0.0500\n",
      "Epoch 81/200\n",
      "300/300 [==============================] - 0s 880us/step - loss: 4.9590 - accuracy: 0.0000e+00 - val_loss: 4.7736 - val_accuracy: 0.0333\n",
      "Epoch 82/200\n",
      "300/300 [==============================] - 0s 877us/step - loss: 4.9723 - accuracy: 0.0100 - val_loss: 4.7328 - val_accuracy: 0.0167\n",
      "Epoch 83/200\n",
      "300/300 [==============================] - 0s 844us/step - loss: 4.9018 - accuracy: 0.0067 - val_loss: 4.7561 - val_accuracy: 0.0167\n",
      "Epoch 84/200\n",
      "300/300 [==============================] - 0s 880us/step - loss: 4.8012 - accuracy: 0.0000e+00 - val_loss: 4.8472 - val_accuracy: 0.0000e+00\n",
      "Epoch 85/200\n",
      "300/300 [==============================] - 0s 864us/step - loss: 4.6856 - accuracy: 0.0200 - val_loss: 4.6091 - val_accuracy: 0.0167\n",
      "Epoch 86/200\n",
      "300/300 [==============================] - 0s 874us/step - loss: 4.7639 - accuracy: 0.0067 - val_loss: 4.4969 - val_accuracy: 0.0000e+00\n",
      "Epoch 87/200\n",
      "300/300 [==============================] - 0s 880us/step - loss: 4.8279 - accuracy: 0.0067 - val_loss: 4.8037 - val_accuracy: 0.0167\n",
      "Epoch 88/200\n",
      "300/300 [==============================] - 0s 941us/step - loss: 4.8203 - accuracy: 0.0033 - val_loss: 4.5379 - val_accuracy: 0.0500\n",
      "Epoch 89/200\n",
      "300/300 [==============================] - 0s 917us/step - loss: 4.7110 - accuracy: 0.0133 - val_loss: 4.5425 - val_accuracy: 0.0333\n",
      "Epoch 90/200\n",
      "300/300 [==============================] - 0s 890us/step - loss: 5.9464 - accuracy: 0.0100 - val_loss: 5.6137 - val_accuracy: 0.0000e+00\n",
      "Epoch 91/200\n",
      "300/300 [==============================] - 0s 900us/step - loss: 5.6891 - accuracy: 0.0000e+00 - val_loss: 5.5498 - val_accuracy: 0.0167\n",
      "Epoch 92/200\n",
      "300/300 [==============================] - 0s 917us/step - loss: 5.6130 - accuracy: 0.0067 - val_loss: 5.4925 - val_accuracy: 0.0167\n",
      "Epoch 93/200\n",
      "300/300 [==============================] - 0s 944us/step - loss: 5.5004 - accuracy: 0.0100 - val_loss: 5.2923 - val_accuracy: 0.0167\n",
      "Epoch 94/200\n",
      "300/300 [==============================] - 0s 957us/step - loss: 5.3579 - accuracy: 0.0033 - val_loss: 5.3855 - val_accuracy: 0.0000e+00\n",
      "Epoch 95/200\n",
      "300/300 [==============================] - 0s 887us/step - loss: 5.2989 - accuracy: 0.0000e+00 - val_loss: 5.0040 - val_accuracy: 0.0167\n",
      "Epoch 96/200\n",
      "300/300 [==============================] - 0s 877us/step - loss: 5.1384 - accuracy: 0.0033 - val_loss: 4.8310 - val_accuracy: 0.0500\n",
      "Epoch 97/200\n",
      "300/300 [==============================] - 0s 991us/step - loss: 4.9664 - accuracy: 0.0033 - val_loss: 4.8920 - val_accuracy: 0.0000e+00\n",
      "Epoch 98/200\n",
      "300/300 [==============================] - 0s 1ms/step - loss: 4.9009 - accuracy: 0.0067 - val_loss: 4.9103 - val_accuracy: 0.0333\n",
      "Epoch 99/200\n",
      "300/300 [==============================] - 0s 887us/step - loss: 4.7140 - accuracy: 0.0133 - val_loss: 4.7976 - val_accuracy: 0.0000e+00\n",
      "Epoch 100/200\n",
      "300/300 [==============================] - 0s 867us/step - loss: 4.6331 - accuracy: 0.0067 - val_loss: 4.4299 - val_accuracy: 0.0500\n",
      "Epoch 101/200\n",
      "300/300 [==============================] - 0s 1ms/step - loss: 4.7237 - accuracy: 0.0067 - val_loss: 4.4187 - val_accuracy: 0.0500\n",
      "Epoch 102/200\n",
      "300/300 [==============================] - 0s 941us/step - loss: 4.5454 - accuracy: 0.0133 - val_loss: 4.3782 - val_accuracy: 0.0500\n",
      "Epoch 103/200\n",
      "300/300 [==============================] - 0s 880us/step - loss: 4.4301 - accuracy: 0.0133 - val_loss: 4.2835 - val_accuracy: 0.0333\n",
      "Epoch 104/200\n",
      "300/300 [==============================] - 0s 924us/step - loss: 4.5085 - accuracy: 0.0200 - val_loss: 4.2515 - val_accuracy: 0.1000\n",
      "Epoch 105/200\n",
      "300/300 [==============================] - 0s 924us/step - loss: 4.3759 - accuracy: 0.0167 - val_loss: 4.2159 - val_accuracy: 0.0667\n",
      "Epoch 106/200\n",
      "300/300 [==============================] - 0s 921us/step - loss: 4.6667 - accuracy: 0.0133 - val_loss: 4.7646 - val_accuracy: 0.0667\n",
      "Epoch 107/200\n",
      "300/300 [==============================] - 0s 921us/step - loss: 4.7732 - accuracy: 0.0167 - val_loss: 4.5102 - val_accuracy: 0.0333\n",
      "Epoch 108/200\n",
      "300/300 [==============================] - 0s 874us/step - loss: 4.4121 - accuracy: 0.0000e+00 - val_loss: 4.2315 - val_accuracy: 0.0500\n",
      "Epoch 109/200\n",
      "300/300 [==============================] - 0s 914us/step - loss: 4.3737 - accuracy: 0.0000e+00 - val_loss: 4.2592 - val_accuracy: 0.0500\n",
      "Epoch 110/200\n",
      "300/300 [==============================] - 0s 860us/step - loss: 4.7604 - accuracy: 0.0133 - val_loss: 4.4847 - val_accuracy: 0.0833\n",
      "Epoch 111/200\n",
      "300/300 [==============================] - 0s 904us/step - loss: 4.3083 - accuracy: 0.0067 - val_loss: 4.1869 - val_accuracy: 0.0667\n",
      "Epoch 112/200\n",
      "300/300 [==============================] - 0s 837us/step - loss: 4.8628 - accuracy: 0.0067 - val_loss: 5.4978 - val_accuracy: 0.0000e+00\n",
      "Epoch 113/200\n",
      "300/300 [==============================] - 0s 847us/step - loss: 4.9452 - accuracy: 0.0033 - val_loss: 4.7270 - val_accuracy: 0.0500\n",
      "Epoch 114/200\n",
      "300/300 [==============================] - 0s 837us/step - loss: 4.6770 - accuracy: 0.0033 - val_loss: 4.5330 - val_accuracy: 0.0833\n",
      "Epoch 115/200\n",
      "300/300 [==============================] - 0s 823us/step - loss: 4.6680 - accuracy: 0.0133 - val_loss: 4.7777 - val_accuracy: 0.0333\n",
      "Epoch 116/200\n",
      "300/300 [==============================] - 0s 1ms/step - loss: 4.4472 - accuracy: 0.0033 - val_loss: 4.3883 - val_accuracy: 0.0000e+00\n",
      "Epoch 117/200\n",
      "300/300 [==============================] - 0s 867us/step - loss: 4.3419 - accuracy: 0.0133 - val_loss: 4.2228 - val_accuracy: 0.0500\n",
      "Epoch 118/200\n",
      "300/300 [==============================] - 0s 897us/step - loss: 4.5725 - accuracy: 0.0100 - val_loss: 4.4051 - val_accuracy: 0.0333\n",
      "Epoch 119/200\n",
      "300/300 [==============================] - 0s 927us/step - loss: 4.4031 - accuracy: 0.0100 - val_loss: 4.1036 - val_accuracy: 0.0167\n",
      "Epoch 120/200\n",
      "300/300 [==============================] - 0s 917us/step - loss: 4.4449 - accuracy: 0.0100 - val_loss: 5.0191 - val_accuracy: 0.0167\n",
      "Epoch 121/200\n",
      "300/300 [==============================] - 0s 897us/step - loss: 4.4314 - accuracy: 0.0067 - val_loss: 4.1554 - val_accuracy: 0.0167\n",
      "Epoch 122/200\n",
      "300/300 [==============================] - 0s 877us/step - loss: 4.3116 - accuracy: 0.0167 - val_loss: 4.1201 - val_accuracy: 0.0500\n",
      "Epoch 123/200\n",
      "300/300 [==============================] - 0s 1ms/step - loss: 4.2414 - accuracy: 0.0133 - val_loss: 4.0662 - val_accuracy: 0.0500\n",
      "Epoch 124/200\n",
      "300/300 [==============================] - 0s 870us/step - loss: 4.1662 - accuracy: 0.0133 - val_loss: 4.0285 - val_accuracy: 0.0500\n",
      "Epoch 125/200\n",
      "300/300 [==============================] - 0s 1ms/step - loss: 4.1148 - accuracy: 0.0267 - val_loss: 4.0092 - val_accuracy: 0.1000\n",
      "Epoch 126/200\n",
      "300/300 [==============================] - 0s 981us/step - loss: 4.1583 - accuracy: 0.0033 - val_loss: 4.0502 - val_accuracy: 0.0333\n",
      "Epoch 127/200\n",
      "300/300 [==============================] - 0s 1ms/step - loss: 4.2985 - accuracy: 0.0033 - val_loss: 4.9080 - val_accuracy: 0.0333\n",
      "Epoch 128/200\n",
      "300/300 [==============================] - 0s 1ms/step - loss: 4.2196 - accuracy: 0.0100 - val_loss: 4.0995 - val_accuracy: 0.0167\n",
      "Epoch 129/200\n",
      "300/300 [==============================] - 0s 1ms/step - loss: 4.4882 - accuracy: 0.0167 - val_loss: 4.1205 - val_accuracy: 0.0500\n",
      "Epoch 130/200\n",
      "300/300 [==============================] - 0s 1ms/step - loss: 4.0672 - accuracy: 0.0167 - val_loss: 4.0048 - val_accuracy: 0.0333\n",
      "Epoch 131/200\n",
      "300/300 [==============================] - 0s 954us/step - loss: 4.3741 - accuracy: 0.0033 - val_loss: 4.6064 - val_accuracy: 0.0167\n",
      "Epoch 132/200\n",
      "300/300 [==============================] - 0s 1ms/step - loss: 4.1850 - accuracy: 0.0167 - val_loss: 3.9895 - val_accuracy: 0.0333\n",
      "Epoch 133/200\n",
      "300/300 [==============================] - 0s 984us/step - loss: 4.2124 - accuracy: 0.0100 - val_loss: 4.0140 - val_accuracy: 0.0333\n",
      "Epoch 134/200\n",
      "300/300 [==============================] - 0s 1ms/step - loss: 4.2191 - accuracy: 0.0167 - val_loss: 4.1164 - val_accuracy: 0.0667\n",
      "Epoch 135/200\n",
      "300/300 [==============================] - 0s 1ms/step - loss: 4.0399 - accuracy: 0.0133 - val_loss: 4.2624 - val_accuracy: 0.0000e+00\n",
      "Epoch 136/200\n",
      "300/300 [==============================] - 0s 1ms/step - loss: 4.2438 - accuracy: 0.0167 - val_loss: 4.0010 - val_accuracy: 0.0167\n",
      "Epoch 137/200\n",
      "300/300 [==============================] - 0s 961us/step - loss: 4.4542 - accuracy: 0.0067 - val_loss: 4.1571 - val_accuracy: 0.0667\n",
      "Epoch 138/200\n",
      "300/300 [==============================] - 0s 890us/step - loss: 4.1543 - accuracy: 0.0167 - val_loss: 4.2599 - val_accuracy: 0.0167\n",
      "Epoch 139/200\n",
      "300/300 [==============================] - 0s 884us/step - loss: 4.2813 - accuracy: 0.0233 - val_loss: 5.4515 - val_accuracy: 0.0167\n",
      "Epoch 140/200\n",
      "300/300 [==============================] - 0s 857us/step - loss: 4.2495 - accuracy: 0.0033 - val_loss: 3.9590 - val_accuracy: 0.0667\n",
      "Epoch 141/200\n",
      "300/300 [==============================] - 0s 907us/step - loss: 4.1402 - accuracy: 0.0167 - val_loss: 4.0403 - val_accuracy: 0.0833\n",
      "Epoch 142/200\n",
      "300/300 [==============================] - 0s 860us/step - loss: 4.0979 - accuracy: 0.0100 - val_loss: 3.9982 - val_accuracy: 0.0333\n",
      "Epoch 143/200\n",
      "300/300 [==============================] - 0s 890us/step - loss: 4.2845 - accuracy: 0.0200 - val_loss: 4.2545 - val_accuracy: 0.0000e+00\n",
      "Epoch 144/200\n",
      "300/300 [==============================] - 0s 947us/step - loss: 4.5014 - accuracy: 0.0033 - val_loss: 3.9987 - val_accuracy: 0.0500\n",
      "Epoch 145/200\n",
      "300/300 [==============================] - 0s 904us/step - loss: 4.1639 - accuracy: 0.0200 - val_loss: 3.9565 - val_accuracy: 0.0667\n",
      "Epoch 146/200\n",
      "300/300 [==============================] - 0s 880us/step - loss: 4.1161 - accuracy: 0.0200 - val_loss: 3.8922 - val_accuracy: 0.0167\n",
      "Epoch 147/200\n",
      "300/300 [==============================] - 0s 857us/step - loss: 4.1017 - accuracy: 0.0133 - val_loss: 3.9139 - val_accuracy: 0.0333\n",
      "Epoch 148/200\n",
      "300/300 [==============================] - 0s 847us/step - loss: 4.4042 - accuracy: 0.0167 - val_loss: 3.9798 - val_accuracy: 0.0333\n",
      "Epoch 149/200\n",
      "300/300 [==============================] - 0s 830us/step - loss: 4.4441 - accuracy: 0.0133 - val_loss: 4.0923 - val_accuracy: 0.0667\n",
      "Epoch 150/200\n",
      "300/300 [==============================] - 0s 874us/step - loss: 4.0926 - accuracy: 0.0200 - val_loss: 4.0115 - val_accuracy: 0.0167\n",
      "Epoch 151/200\n",
      "300/300 [==============================] - 0s 850us/step - loss: 4.1744 - accuracy: 0.0067 - val_loss: 4.2408 - val_accuracy: 0.0167\n",
      "Epoch 152/200\n",
      "300/300 [==============================] - 0s 844us/step - loss: 4.3869 - accuracy: 0.0100 - val_loss: 4.0337 - val_accuracy: 0.0333\n",
      "Epoch 153/200\n",
      "300/300 [==============================] - 0s 887us/step - loss: 4.0227 - accuracy: 0.0167 - val_loss: 3.9468 - val_accuracy: 0.0500\n",
      "Epoch 154/200\n",
      "300/300 [==============================] - 0s 867us/step - loss: 4.2620 - accuracy: 0.0133 - val_loss: 4.0392 - val_accuracy: 0.0167\n",
      "Epoch 155/200\n",
      "300/300 [==============================] - 0s 850us/step - loss: 4.1178 - accuracy: 0.0167 - val_loss: 4.0385 - val_accuracy: 0.0333\n",
      "Epoch 156/200\n",
      "300/300 [==============================] - 0s 847us/step - loss: 4.2676 - accuracy: 0.0233 - val_loss: 4.1500 - val_accuracy: 0.0167\n",
      "Epoch 157/200\n",
      "300/300 [==============================] - 0s 834us/step - loss: 4.0913 - accuracy: 0.0133 - val_loss: 4.0983 - val_accuracy: 0.0667\n",
      "Epoch 158/200\n",
      "300/300 [==============================] - 0s 847us/step - loss: 4.1319 - accuracy: 0.0133 - val_loss: 4.3692 - val_accuracy: 0.0333\n",
      "Epoch 159/200\n",
      "300/300 [==============================] - 0s 874us/step - loss: 5.1723 - accuracy: 0.0133 - val_loss: 4.7842 - val_accuracy: 0.0167\n",
      "Epoch 160/200\n",
      "300/300 [==============================] - 0s 874us/step - loss: 4.5880 - accuracy: 0.0200 - val_loss: 4.4469 - val_accuracy: 0.0167\n",
      "Epoch 161/200\n",
      "300/300 [==============================] - 0s 830us/step - loss: 4.4833 - accuracy: 0.0100 - val_loss: 4.3649 - val_accuracy: 0.0167\n",
      "Epoch 162/200\n",
      "300/300 [==============================] - 0s 820us/step - loss: 4.4025 - accuracy: 0.0067 - val_loss: 5.2820 - val_accuracy: 0.0000e+00\n",
      "Epoch 163/200\n",
      "300/300 [==============================] - 0s 830us/step - loss: 4.5210 - accuracy: 0.0033 - val_loss: 4.3359 - val_accuracy: 0.0167\n",
      "Epoch 164/200\n",
      "300/300 [==============================] - 0s 857us/step - loss: 4.2369 - accuracy: 0.0067 - val_loss: 4.1402 - val_accuracy: 0.0500\n",
      "Epoch 165/200\n",
      "300/300 [==============================] - 0s 857us/step - loss: 4.3133 - accuracy: 0.0100 - val_loss: 4.1510 - val_accuracy: 0.0500\n",
      "Epoch 166/200\n",
      "300/300 [==============================] - 0s 867us/step - loss: 4.1503 - accuracy: 0.0067 - val_loss: 4.0680 - val_accuracy: 0.0167\n",
      "Epoch 167/200\n",
      "300/300 [==============================] - 0s 860us/step - loss: 4.1931 - accuracy: 0.0067 - val_loss: 4.1315 - val_accuracy: 0.0167\n",
      "Epoch 168/200\n",
      "300/300 [==============================] - 0s 877us/step - loss: 4.1986 - accuracy: 0.0133 - val_loss: 4.0225 - val_accuracy: 0.0500\n",
      "Epoch 169/200\n",
      "300/300 [==============================] - 0s 864us/step - loss: 4.3003 - accuracy: 0.0267 - val_loss: 4.2503 - val_accuracy: 0.0500\n",
      "Epoch 170/200\n",
      "300/300 [==============================] - 0s 844us/step - loss: 4.4750 - accuracy: 0.0167 - val_loss: 4.1636 - val_accuracy: 0.0833\n",
      "Epoch 171/200\n",
      "300/300 [==============================] - 0s 844us/step - loss: 4.1169 - accuracy: 0.0100 - val_loss: 4.1535 - val_accuracy: 0.0500\n",
      "Epoch 172/200\n",
      "300/300 [==============================] - 0s 894us/step - loss: 4.3586 - accuracy: 0.0133 - val_loss: 4.3960 - val_accuracy: 0.0167\n",
      "Epoch 173/200\n",
      "300/300 [==============================] - 0s 850us/step - loss: 4.2975 - accuracy: 0.0067 - val_loss: 4.0563 - val_accuracy: 0.0333\n",
      "Epoch 174/200\n",
      "300/300 [==============================] - 0s 991us/step - loss: 4.0469 - accuracy: 0.0100 - val_loss: 3.9715 - val_accuracy: 0.0167\n",
      "Epoch 175/200\n",
      "300/300 [==============================] - 0s 931us/step - loss: 4.2026 - accuracy: 0.0267 - val_loss: 4.0186 - val_accuracy: 0.0333\n",
      "Epoch 176/200\n",
      "300/300 [==============================] - 0s 937us/step - loss: 4.4073 - accuracy: 0.0100 - val_loss: 4.5344 - val_accuracy: 0.0167\n",
      "Epoch 177/200\n",
      "300/300 [==============================] - 0s 880us/step - loss: 4.1154 - accuracy: 0.0200 - val_loss: 3.9770 - val_accuracy: 0.0667\n",
      "Epoch 178/200\n",
      "300/300 [==============================] - 0s 998us/step - loss: 4.1261 - accuracy: 0.0133 - val_loss: 4.3466 - val_accuracy: 0.0167\n",
      "Epoch 179/200\n",
      "300/300 [==============================] - 0s 964us/step - loss: 4.4112 - accuracy: 0.0167 - val_loss: 4.0301 - val_accuracy: 0.0167\n",
      "Epoch 180/200\n",
      "300/300 [==============================] - 0s 890us/step - loss: 4.1818 - accuracy: 0.0133 - val_loss: 4.2629 - val_accuracy: 0.0500\n",
      "Epoch 181/200\n",
      "300/300 [==============================] - 0s 894us/step - loss: 4.1278 - accuracy: 0.0133 - val_loss: 3.9691 - val_accuracy: 0.0833\n",
      "Epoch 182/200\n",
      "300/300 [==============================] - 0s 1ms/step - loss: 4.5595 - accuracy: 0.0233 - val_loss: 4.2562 - val_accuracy: 0.0167\n",
      "Epoch 183/200\n",
      "300/300 [==============================] - 0s 887us/step - loss: 4.3617 - accuracy: 0.0100 - val_loss: 4.0585 - val_accuracy: 0.0333\n",
      "Epoch 184/200\n",
      "300/300 [==============================] - 0s 921us/step - loss: 4.1213 - accuracy: 0.0133 - val_loss: 3.9695 - val_accuracy: 0.0500\n",
      "Epoch 185/200\n",
      "300/300 [==============================] - 0s 1ms/step - loss: 4.1456 - accuracy: 0.0133 - val_loss: 4.2715 - val_accuracy: 0.0167\n",
      "Epoch 186/200\n",
      "300/300 [==============================] - 0s 894us/step - loss: 4.0520 - accuracy: 0.0200 - val_loss: 3.9365 - val_accuracy: 0.0833\n",
      "Epoch 187/200\n",
      "300/300 [==============================] - 0s 857us/step - loss: 4.4025 - accuracy: 0.0133 - val_loss: 5.0500 - val_accuracy: 0.0000e+00\n",
      "Epoch 188/200\n",
      "300/300 [==============================] - 0s 854us/step - loss: 5.8655 - accuracy: 0.0100 - val_loss: 5.3181 - val_accuracy: 0.0000e+00\n",
      "Epoch 189/200\n",
      "300/300 [==============================] - 0s 857us/step - loss: 5.3176 - accuracy: 0.0000e+00 - val_loss: 5.0629 - val_accuracy: 0.0167\n",
      "Epoch 190/200\n",
      "300/300 [==============================] - 0s 860us/step - loss: 4.9744 - accuracy: 0.0033 - val_loss: 4.9794 - val_accuracy: 0.0000e+00\n",
      "Epoch 191/200\n",
      "300/300 [==============================] - 0s 827us/step - loss: 4.7623 - accuracy: 0.0000e+00 - val_loss: 4.7061 - val_accuracy: 0.0000e+00\n",
      "Epoch 192/200\n",
      "300/300 [==============================] - 0s 860us/step - loss: 4.6494 - accuracy: 0.0100 - val_loss: 4.6427 - val_accuracy: 0.0000e+00\n",
      "Epoch 193/200\n",
      "300/300 [==============================] - 0s 1ms/step - loss: 4.5572 - accuracy: 0.0133 - val_loss: 4.4656 - val_accuracy: 0.0167\n",
      "Epoch 194/200\n",
      "300/300 [==============================] - 0s 1ms/step - loss: 5.6008 - accuracy: 0.0000e+00 - val_loss: 5.3834 - val_accuracy: 0.0000e+00\n",
      "Epoch 195/200\n",
      "300/300 [==============================] - 0s 927us/step - loss: 5.4166 - accuracy: 0.0033 - val_loss: 5.3380 - val_accuracy: 0.0000e+00\n",
      "Epoch 196/200\n",
      "300/300 [==============================] - 0s 988us/step - loss: 5.4211 - accuracy: 0.0000e+00 - val_loss: 5.0777 - val_accuracy: 0.0000e+00\n",
      "Epoch 197/200\n",
      "300/300 [==============================] - 0s 1ms/step - loss: 4.8215 - accuracy: 0.0033 - val_loss: 4.7855 - val_accuracy: 0.0000e+00\n",
      "Epoch 198/200\n",
      "300/300 [==============================] - 0s 1ms/step - loss: 4.9362 - accuracy: 0.0167 - val_loss: 4.6547 - val_accuracy: 0.0000e+00\n",
      "Epoch 199/200\n",
      "300/300 [==============================] - 0s 954us/step - loss: 4.6251 - accuracy: 0.0100 - val_loss: 4.6409 - val_accuracy: 0.0333\n",
      "Epoch 200/200\n",
      "300/300 [==============================] - 0s 944us/step - loss: 4.4883 - accuracy: 0.0200 - val_loss: 4.4890 - val_accuracy: 0.0167\n"
     ]
    }
   ],
   "source": [
    "model = create_model()\n",
    "callback1 = callbacks.EarlyStopping(monitor='loss', patience=5)\n",
    "model.compile(loss='categorical_crossentropy', optimizer='adam', metrics=['accuracy'])\n",
    "#history = model.fit(train_dataset, epochs=1000, validation_data=test_dataset, verbose=1)\n",
    "history = model.fit(x=X_train, y=y_train, batch_size=1, epochs=200, validation_data=(X_test,y_test))"
   ]
  },
  {
   "cell_type": "code",
   "execution_count": 40,
   "metadata": {},
   "outputs": [
    {
     "name": "stdout",
     "output_type": "stream",
     "text": [
      "0.02\n",
      "(-0.4140759920430069, 7.551237733564955e-09)\n",
      "SpearmanrResult(correlation=-0.42294309495149024, pvalue=3.3230437238226417e-09)\n",
      "KendalltauResult(correlation=-0.28479205462445684, pvalue=1.3779578705084513e-08)\n"
     ]
    },
    {
     "data": {
      "image/png": "[encoded data removed]",
      "text/plain": [
       "<Figure size 432x288 with 1 Axes>"
      ]
     },
     "metadata": {
      "needs_background": "light"
     },
     "output_type": "display_data"
    },
    {
     "name": "stdout",
     "output_type": "stream",
     "text": [
      "[[1.44505858e-01 9.99266028e-01 9.99201059e-01 ... 1.08996570e-01\n",
      "  1.02040827e-01 1.39979780e-01]\n",
      " [1.44436181e-01 9.99265909e-01 9.99200940e-01 ... 1.09008133e-01\n",
      "  1.02051675e-01 1.39996409e-01]\n",
      " [1.44347608e-01 9.99265671e-01 9.99200761e-01 ... 1.09023154e-01\n",
      "  1.02065951e-01 1.40017927e-01]\n",
      " ...\n",
      " [2.97572956e-06 9.56571102e-03 3.01072598e-02 ... 8.98712397e-01\n",
      "  9.22185659e-01 8.95331144e-01]\n",
      " [2.97568135e-06 9.56556201e-03 3.01068723e-02 ... 8.98715138e-01\n",
      "  9.22187805e-01 8.95334303e-01]\n",
      " [2.97564452e-06 9.56544280e-03 3.01066339e-02 ... 8.98717642e-01\n",
      "  9.22190011e-01 8.95337343e-01]]\n"
     ]
    }
   ],
   "source": [
    "nums = list(range(0,300))\n",
    "pred = model.predict(nums)\n",
    "new_pred = []\n",
    "real_values = []\n",
    "i = 0\n",
    "for item in pred:\n",
    "    new_pred.append(transform_predictions(item))\n",
    "    real_values.append(transform_predictions(y_train[i]))\n",
    "    i += 1\n",
    "print(get_accuracy(new_pred, real_values))\n",
    "uncertainty = get_nll_list(y_train, nums, pred)\n",
    "plot_uncertainty_pop(popuarity, uncertainty)\n",
    "print(pred)"
   ]
  }
 ],
 "metadata": {
  "interpreter": {
   "hash": "0f2f6c680cf484319d387fabac80ca4ff4fc33965036e02100b3fe02600f1423"
  },
  "kernelspec": {
   "display_name": "Python 3.10.2 64-bit",
   "language": "python",
   "name": "python3"
  },
  "language_info": {
   "codemirror_mode": {
    "name": "ipython",
    "version": 3
   },
   "file_extension": ".py",
   "mimetype": "text/x-python",
   "name": "python",
   "nbconvert_exporter": "python",
   "pygments_lexer": "ipython3",
   "version": "3.10.2"
  },
  "orig_nbformat": 4
 },
 "nbformat": 4,
 "nbformat_minor": 2
}
