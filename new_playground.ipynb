{
 "cells": [
  {
   "cell_type": "code",
   "execution_count": 2,
   "metadata": {},
   "outputs": [],
   "source": [
    "from cgi import test\n",
    "import matplotlib.pyplot as plt\n",
    "import numpy as np\n",
    "import pandas as pd\n",
    "import random\n",
    "import copy\n",
    "from sklearn.model_selection import train_test_split\n",
    "from scipy.stats import halfnorm, expon, uniform, chi, norm\n",
    "import keras\n",
    "from keras import callbacks\n",
    "from keras.layers import Dense, Input, Conv2D, MaxPool2D, LSTM, add\n",
    "from keras.layers import Activation, Dropout, Flatten, Embedding\n",
    "from keras.models import Model, Sequential\n",
    "from keras import backend as K\n",
    "import tensorflow as tf\n",
    "import tensorflow_probability as tfp\n",
    "import scipy.stats\n",
    "import math\n",
    "import seaborn as sns\n",
    "from IPython.display import display"
   ]
  },
  {
   "cell_type": "markdown",
   "metadata": {},
   "source": [
    "### Exponential distribution generators"
   ]
  },
  {
   "cell_type": "code",
   "execution_count": 3,
   "metadata": {},
   "outputs": [],
   "source": [
    "def generate_exponential(amount): #Generates a popular playlist\n",
    "    data = {}\n",
    "    for i in range(amount):\n",
    "        data[i] = expon.pdf(i, scale=(amount/7)) \n",
    "    return data  "
   ]
  },
  {
   "cell_type": "code",
   "execution_count": 4,
   "metadata": {},
   "outputs": [],
   "source": [
    "def generate_exponential_inv(amount): #Generates a \"niche\" (unpopuar) playlist \n",
    "    data = {}\n",
    "    for i in range(amount):\n",
    "        data[amount - 1 - i] = expon.pdf(i, scale=(amount/7)) \n",
    "    return data"
   ]
  },
  {
   "cell_type": "markdown",
   "metadata": {},
   "source": [
    "### Uniform distribution generator"
   ]
  },
  {
   "cell_type": "code",
   "execution_count": 5,
   "metadata": {},
   "outputs": [],
   "source": [
    "def generate_uniform(amount): #Generates an uniform distribution among the items\n",
    "    data = {}\n",
    "    for i in range(amount):\n",
    "        data[i] = uniform.pdf(i, scale=amount) \n",
    "    return data"
   ]
  },
  {
   "cell_type": "code",
   "execution_count": 6,
   "metadata": {},
   "outputs": [
    {
     "data": {
      "image/png": "[encoded data removed]",
      "text/plain": [
       "<Figure size 432x288 with 1 Axes>"
      ]
     },
     "metadata": {
      "needs_background": "light"
     },
     "output_type": "display_data"
    }
   ],
   "source": [
    "da = generate_uniform(300)\n",
    "lists = sorted(da.items())\n",
    "x, y = zip(*lists)\n",
    "plt.plot(x, y)\n",
    "plt.show() "
   ]
  },
  {
   "cell_type": "markdown",
   "metadata": {},
   "source": [
    "### Aux functions"
   ]
  },
  {
   "cell_type": "markdown",
   "metadata": {},
   "source": [
    "get_cumulative_prob() GETS THE CUMULATIVE PROBABIITIES OF ITEMS (for later selection)"
   ]
  },
  {
   "cell_type": "code",
   "execution_count": 7,
   "metadata": {},
   "outputs": [],
   "source": [
    "def get_cumulative_prob(y): \n",
    "\n",
    "    cum_prob = {}\n",
    "    cum_prob[0] = y[0]\n",
    "\n",
    "    for i in range(1, 300):\n",
    "        cum_prob[i] = cum_prob[i-1] + y[i]\n",
    "    return cum_prob"
   ]
  },
  {
   "cell_type": "markdown",
   "metadata": {},
   "source": [
    "get_playlist() generates a playlist based on the cumulative probabilities its given (for popualar, normal, and rare)"
   ]
  },
  {
   "cell_type": "code",
   "execution_count": 8,
   "metadata": {},
   "outputs": [],
   "source": [
    "def get_playlists(cum_prob): #CREATES A RANDOM PLAYLLIST\n",
    "\n",
    "    playlist = [] #empty toy playlist\n",
    "\n",
    "    #create random playlist (like this bc they dont add to 1)\n",
    "    while len(playlist) < 20:\n",
    "\n",
    "        prob = np.random.random()\n",
    "        #print(prob)\n",
    "        finished = False\n",
    "        i = 0\n",
    "        while i < 300 and finished == False:\n",
    "            if prob < cum_prob[i] and i not in playlist:\n",
    "                playlist.append(i)\n",
    "                finished = True\n",
    "            i += 1\n",
    "\n",
    "    playlist.sort()\n",
    "    return playlist"
   ]
  },
  {
   "cell_type": "code",
   "execution_count": 9,
   "metadata": {},
   "outputs": [],
   "source": [
    "def get_songs_ordered(songs): #RETURNS A LIST OF SONGS ORDERED BY POPULARITY (AMONG ALL THE PLAYLISTS)\n",
    "    ordered_songs = []\n",
    "    songs_copy = copy.deepcopy(songs)\n",
    "\n",
    "    while songs_copy: \n",
    "        max_value = max(songs_copy, key=songs_copy.get)\n",
    "        ordered_songs.append(max_value)\n",
    "        songs_copy.pop(max_value)\n",
    "    #print(\"Highest used song: \", max_value, \" with \", songs_copy[max_value], \" instances\")\n",
    "    return ordered_songs"
   ]
  },
  {
   "cell_type": "code",
   "execution_count": 10,
   "metadata": {},
   "outputs": [],
   "source": [
    "def create_dataframe(list): \n",
    "    elems = []\n",
    "    pred = []\n",
    "    size = len(list)\n",
    "    for i in range(size - 1):\n",
    "        elems.append(list[i])\n",
    "        pred.append(list[i + 1])\n",
    "    d = {'Song':elems, 'Next':pred}\n",
    "    df = pd.DataFrame(d)\n",
    "    return df"
   ]
  },
  {
   "cell_type": "code",
   "execution_count": 11,
   "metadata": {},
   "outputs": [],
   "source": [
    "def get_prob_dataframe(probs):\n",
    "    songs = []\n",
    "    next = []\n",
    "    for i in range(len(probs)):\n",
    "        songs.append(i)\n",
    "        next.append(probs[i])\n",
    "    for i in range(len(next[299])):\n",
    "        next[299][i] = 0\n",
    "    next[299][298] = 1\n",
    "    dataframe_next = pd.DataFrame(next)\n",
    "    d = {'Song': songs}\n",
    "    df = pd.DataFrame(d)\n",
    "    result = pd.concat([df, dataframe_next], axis=1, join='inner')\n",
    "    return result"
   ]
  },
  {
   "cell_type": "markdown",
   "metadata": {},
   "source": [
    "In case we stop using probabilities use this function not create_dataframe()"
   ]
  },
  {
   "cell_type": "code",
   "execution_count": 12,
   "metadata": {},
   "outputs": [],
   "source": [
    "def create_training_data(pairs):\n",
    "    songs = []\n",
    "    next = []\n",
    "    for i in range(len(pairs)):\n",
    "        #max_num = 0\n",
    "        songs.append(i)\n",
    "        #max_num = max(pairs[i])\n",
    "        pred_song = np.argmax(pairs[i])\n",
    "        next.append(pred_song)\n",
    "    d = {\"Song\":songs, \"Next\":next}\n",
    "    df = pd.DataFrame(d)\n",
    "    return df"
   ]
  },
  {
   "cell_type": "code",
   "execution_count": 13,
   "metadata": {},
   "outputs": [],
   "source": [
    "def split_dataset(dataframe):\n",
    "    X = dataframe['Song']\n",
    "    y = dataframe['Next']\n",
    "\n",
    "    X_train, X_test, y_train, y_test = train_test_split(X, y, test_size=0.2)\n",
    "    train = {'Song':X_train, 'Next': y_train}\n",
    "    test = {'Song':X_test, 'Next': y_test}\n",
    "    return train, test"
   ]
  },
  {
   "cell_type": "code",
   "execution_count": 14,
   "metadata": {},
   "outputs": [],
   "source": [
    "def split_dataset2(dataframe):\n",
    "    X = dataframe['Song']\n",
    "    y = dataframe['Next']\n",
    "\n",
    "    X_train, X_test, y_train, y_test = train_test_split(X, y, test_size=0.2)\n",
    "    return X_train, X_test, y_train, y_test"
   ]
  },
  {
   "cell_type": "code",
   "execution_count": 15,
   "metadata": {},
   "outputs": [],
   "source": [
    "def split_dataset_prob(dataframe):\n",
    "    X = dataframe['Song']\n",
    "    dataframe = dataframe.drop('Song', axis=1)\n",
    "    y = dataframe\n",
    "\n",
    "    X_train, X_test, y_train, y_test = train_test_split(X, y, test_size=0.2)\n",
    "    X_train = X\n",
    "    y_train = y\n",
    "    return X_train, X_test, y_train, y_test"
   ]
  },
  {
   "cell_type": "code",
   "execution_count": 16,
   "metadata": {},
   "outputs": [],
   "source": [
    "def norm_data(data, mean, std):\n",
    "    songs_norm = (data['Song'] - mean) / std\n",
    "    data['Song'] = songs_norm\n",
    "    return data"
   ]
  },
  {
   "cell_type": "markdown",
   "metadata": {},
   "source": [
    "In case we need tensorflow Datasets"
   ]
  },
  {
   "cell_type": "code",
   "execution_count": 17,
   "metadata": {},
   "outputs": [],
   "source": [
    "def get_tf_dataset(train, test):\n",
    "    train_X = tf.data.Dataset.from_tensor_slices(train['Song'])\n",
    "    train_Y = tf.data.Dataset.from_tensor_slices(train['Next'])\n",
    "\n",
    "    train_dataset = tf.data.Dataset.zip((train_X, train_Y))\n",
    "    train_dataset = train_dataset.shuffle(1000).batch(64)\n",
    "    train_dataset = train_dataset.prefetch(buffer_size=tf.data.AUTOTUNE)\n",
    "\n",
    "    test_X = tf.data.Dataset.from_tensor_slices(test['Song'])\n",
    "    test_Y = tf.data.Dataset.from_tensor_slices(test['Next'])\n",
    "\n",
    "    test_dataset = tf.data.Dataset.zip((test_X, test_Y))\n",
    "    test_dataset = test_dataset.shuffle(1000).batch(64)\n",
    "    test_dataset = test_dataset.prefetch(buffer_size=tf.data.AUTOTUNE)\n",
    "\n",
    "    return train_dataset, test_dataset"
   ]
  },
  {
   "cell_type": "markdown",
   "metadata": {},
   "source": [
    "create_pairs() creates pairs of numbers, indicating the number of times one appears after the other in the playlists"
   ]
  },
  {
   "cell_type": "code",
   "execution_count": 18,
   "metadata": {},
   "outputs": [],
   "source": [
    "def create_pairs(playlists): #playlists should be a list of lists, ordered\n",
    "    pairs = np.zeros((300,300))\n",
    "    for playlist in playlists:\n",
    "        for i in range(len(playlist)-1):\n",
    "            pairs[playlist[i]][playlist[i+1]] += 1\n",
    "    return pairs"
   ]
  },
  {
   "cell_type": "code",
   "execution_count": 19,
   "metadata": {},
   "outputs": [],
   "source": [
    "def order_playists(playlists):\n",
    "    for playlist in playlists:\n",
    "        playlist.sort()\n",
    "    return playlists"
   ]
  },
  {
   "cell_type": "code",
   "execution_count": 20,
   "metadata": {},
   "outputs": [],
   "source": [
    "def get_probabilities(pairs): #Gets the probabilities associated to each pair of numbers, which song is more likely\n",
    "    for num in range(len(pairs)): #to go after the other\n",
    "        total = sum(pairs[num])\n",
    "        pairs[num] /= total\n",
    "    return pairs"
   ]
  },
  {
   "cell_type": "code",
   "execution_count": 21,
   "metadata": {},
   "outputs": [],
   "source": [
    "def get_nll(true_song, probs): #true_song has to be in [0,0,0...1,0] format, being the 1 in the correct song index\n",
    "    nll = 0                     #probs is the output of the nn\n",
    "    for i in range(len(true_song)):\n",
    "        nll += true_song[i] * probs[i]\n",
    "    nll = -np.log(nll)\n",
    "    return nll"
   ]
  },
  {
   "cell_type": "code",
   "execution_count": 22,
   "metadata": {},
   "outputs": [],
   "source": [
    "def get_nll_list(expected, idx, predictions): #Returns a list of uncertainties for each prediction\n",
    "    nll_list = []\n",
    "    j = 0\n",
    "    for i in idx:\n",
    "        true_song = get_true_song(expected[i])\n",
    "        nll_list.append(get_nll(true_song, predictions[j]))\n",
    "        j += 1\n",
    "    return nll_list"
   ]
  },
  {
   "cell_type": "code",
   "execution_count": 23,
   "metadata": {},
   "outputs": [],
   "source": [
    "def get_true_song(next_songs): #returns expected song, represented as one_hot\n",
    "    true_song = []\n",
    "    item = np.argmax(next_songs)\n",
    "    for i in range(len(next_songs)):\n",
    "        if i == item:\n",
    "            true_song.append(1)\n",
    "            #print(\"Predicted song: \", item)\n",
    "        else:\n",
    "            true_song.append(0)\n",
    "    return true_song"
   ]
  },
  {
   "cell_type": "code",
   "execution_count": 24,
   "metadata": {},
   "outputs": [],
   "source": [
    "def transform_predictions(pred): #Transforms the predictions into a one_hot of the most likely song\n",
    "    max_index = np.argmax(pred)\n",
    "    new_pred = np.zeros(len(pred))\n",
    "    new_pred[max_index] = 1\n",
    "    return new_pred"
   ]
  },
  {
   "cell_type": "markdown",
   "metadata": {},
   "source": [
    "### Visualization functions"
   ]
  },
  {
   "cell_type": "code",
   "execution_count": 27,
   "metadata": {},
   "outputs": [],
   "source": [
    "def plot_playists_popularity(playists): #FUNCTION THAT PLOTS AL THE SONGS APPEARANCES OF ALL PLAYLISTS\n",
    "    #playlists is a list of lists\n",
    "\n",
    "    num_appearances = {} #Dictionary to store the number of times a song is in a playlist\n",
    "\n",
    "    for playlist in playists:\n",
    "        for song in playlist:\n",
    "            if song in num_appearances.keys():\n",
    "                num_appearances[song] += 1\n",
    "            else:\n",
    "                num_appearances[song] = 1\n",
    "\n",
    "    id, counts = zip(*num_appearances.items())\n",
    "    plt.scatter(id, counts)\n",
    "    plt.xlabel(\"Song number\")\n",
    "    plt.ylabel(\"Number of appearances\")\n",
    "    plt.show() #BREAK POINT HERE TO SEE THE PLOT\n",
    "    return num_appearances"
   ]
  },
  {
   "cell_type": "code",
   "execution_count": 28,
   "metadata": {},
   "outputs": [],
   "source": [
    "def plot_uncertainty_pop(popuarity, uncertainty):\n",
    "    id, counts = zip(*popuarity.items())\n",
    "    plot_dict = {}\n",
    "    i = 0\n",
    "    for num in counts:\n",
    "        #what if its already a number\n",
    "        plot_dict[num] = uncertainty[i]\n",
    "        i += 1\n",
    "    pop, unc = zip(*plot_dict.items())\n",
    "    print(scipy.stats.pearsonr(pop, unc))\n",
    "    print(scipy.stats.spearmanr(pop, unc))\n",
    "    print(scipy.stats.kendalltau(pop, unc))\n",
    "    plt.scatter(pop, unc)\n",
    "    plt.xlabel(\"Popuarity\")\n",
    "    plt.ylabel(\"Uncertainty\")\n",
    "    plt.show() #BREAK POINT HERE TO SEE THE PLOT"
   ]
  },
  {
   "cell_type": "markdown",
   "metadata": {},
   "source": [
    "## Here it begins"
   ]
  },
  {
   "cell_type": "code",
   "execution_count": 29,
   "metadata": {},
   "outputs": [
    {
     "data": {
      "image/png": "[encoded data removed]",
      "text/plain": [
       "<Figure size 432x288 with 1 Axes>"
      ]
     },
     "metadata": {
      "needs_background": "light"
     },
     "output_type": "display_data"
    }
   ],
   "source": [
    "data = generate_exponential(300)\n",
    "#data = generate_exponential_inv(300)\n",
    "#data = generate_uniform(300)\n",
    "lists = sorted(data.items())\n",
    "x, y = zip(*lists)\n",
    "cum_prob = get_cumulative_prob(y)\n",
    "playlist = get_playlists(cum_prob)\n",
    "plt.plot(x, y)\n",
    "plt.show() "
   ]
  },
  {
   "cell_type": "code",
   "execution_count": 30,
   "metadata": {},
   "outputs": [],
   "source": [
    "random.seed(1234)\n",
    "tf.random.set_seed(1)\n",
    "playlist_list = []\n",
    "data_exp = generate_exponential(300)\n",
    "data_exp_inv = generate_exponential_inv(300)\n",
    "data_uniform = generate_uniform(300)\n",
    "\n",
    "data_exp = sorted(data_exp.items())\n",
    "_, y_exp = zip(*data_exp)\n",
    "\n",
    "data_exp_inv = sorted(data_exp_inv.items())\n",
    "_, y_exp_inv = zip(*data_exp_inv)\n",
    "\n",
    "data_uniform = sorted(data_uniform.items())\n",
    "_, y_uni = zip(*data_uniform)"
   ]
  },
  {
   "cell_type": "code",
   "execution_count": 31,
   "metadata": {},
   "outputs": [],
   "source": [
    "type = random.choices(population=[0,1,2], weights=[0.2307,0.6923,0.077], k=3000) #returns a list of choices\n",
    "\n",
    "cum_prob_exp = get_cumulative_prob(y_exp) #GETS DIFFERENT PROBABIITIES\n",
    "cum_prob_inv = get_cumulative_prob(y_exp_inv)\n",
    "cum_prob_uni = get_cumulative_prob(y_uni)\n",
    "\n",
    "targets = []\n",
    "\n",
    "for i in type: #GET A RANDOM PLAYLIST OF A SPECIFIC TYPE\n",
    "    if i == 1:\n",
    "        pl = get_playlists(cum_prob_exp)\n",
    "    elif i == 2:\n",
    "        pl = get_playlists(cum_prob_inv)\n",
    "    else:\n",
    "        pl = get_playlists(cum_prob_uni)\n",
    "    playlist_list.append(pl)\n",
    "    targets.append(i)"
   ]
  },
  {
   "cell_type": "code",
   "execution_count": 34,
   "metadata": {},
   "outputs": [
    {
     "data": {
      "image/png": "[encoded data removed]",
      "text/plain": [
       "<Figure size 432x288 with 1 Axes>"
      ]
     },
     "metadata": {
      "needs_background": "light"
     },
     "output_type": "display_data"
    },
    {
     "name": "stderr",
     "output_type": "stream",
     "text": [
      "C:\\Users\\danie\\AppData\\Local\\Temp\\ipykernel_24628\\4282934075.py:4: RuntimeWarning: invalid value encountered in true_divide\n",
      "  pairs[num] /= total\n"
     ]
    }
   ],
   "source": [
    "popuarity = plot_playists_popularity(playlist_list) #returns the number of appearances of each song\n",
    "playlists_ordered = order_playists(playlist_list)\n",
    "pairs = create_pairs(playlist_list) #playlists_ordered\n",
    "pairs2 = get_probabilities(pairs)\n",
    "df2 = get_prob_dataframe(pairs2)\n",
    "df = create_training_data(pairs)"
   ]
  },
  {
   "cell_type": "markdown",
   "metadata": {},
   "source": [
    "# Regression test"
   ]
  },
  {
   "cell_type": "code",
   "execution_count": 59,
   "metadata": {},
   "outputs": [],
   "source": [
    "def num_to_bin(n, length):\n",
    "    num = n\n",
    "    binary = []\n",
    "    while num != 0:\n",
    "        bit = num % 2\n",
    "        binary.insert(0, bit)\n",
    "        num = num // 2\n",
    "    while len(binary) < length:\n",
    "        binary.insert(0, 0)\n",
    "    return np.array(binary)"
   ]
  },
  {
   "cell_type": "code",
   "execution_count": 148,
   "metadata": {},
   "outputs": [
    {
     "data": {
      "text/plain": [
       "array([  0,   1,   2,   3,   4,   5,   6,   7,   8,   9,  10,  11,  12,\n",
       "        13,  14,  15,  16,  17,  18,  19,  20,  21,  22,  23,  24,  25,\n",
       "        26,  27,  28,  29,  30,  31,  32,  33,  34,  35,  36,  37,  38,\n",
       "        39,  40,  41,  42,  43,  44,  45,  46,  47,  48,  49,  50,  51,\n",
       "        52,  53,  54,  55,  56,  57,  58,  59,  60,  61,  62,  63,  64,\n",
       "        65,  66,  67,  68,  69,  70,  71,  72,  73,  74,  75,  76,  77,\n",
       "        78,  79,  80,  81,  82,  83,  84,  85,  86,  87,  88,  89,  90,\n",
       "        91,  92,  93,  94,  95,  96,  97,  98,  99, 100, 101, 102, 103,\n",
       "       104, 105, 106, 107, 108, 109, 110, 111, 112, 113, 114, 115, 116,\n",
       "       117, 118, 119, 120, 121, 122, 123, 124, 125, 126, 127, 128, 129,\n",
       "       130, 131, 132, 133, 134, 135, 136, 137, 138, 139, 140, 141, 142,\n",
       "       143, 144, 145, 146, 147, 148, 149, 150, 151, 152, 153, 154, 155,\n",
       "       156, 157, 158, 159, 160, 161, 162, 163, 164, 165, 166, 167, 168,\n",
       "       169, 170, 171, 172, 173, 174, 175, 176, 177, 178, 179, 180, 181,\n",
       "       182, 183, 184, 185, 186, 187, 188, 189, 190, 191, 192, 193, 194,\n",
       "       195, 196, 197, 198, 199, 200, 201, 202, 203, 204, 205, 206, 207,\n",
       "       208, 209, 210, 211, 212, 213, 214, 215, 216, 217, 218, 219, 220,\n",
       "       221, 222, 223, 224, 225, 226, 227, 228, 229, 230, 231, 232, 233,\n",
       "       234, 235, 236, 237, 238, 239, 240, 241, 242, 243, 244, 245, 246,\n",
       "       247, 248, 249, 250, 251, 252, 253, 254, 255, 256, 257, 258, 259,\n",
       "       260, 261, 262, 263, 264, 265, 266, 267, 268, 269, 270, 271, 272,\n",
       "       273, 274, 275, 276, 277, 278, 279, 280, 281, 282, 283, 284, 285,\n",
       "       286, 287, 288, 289, 290, 291, 292, 293, 294, 295, 296, 297, 298,\n",
       "       299], dtype=int64)"
      ]
     },
     "execution_count": 148,
     "metadata": {},
     "output_type": "execute_result"
    }
   ],
   "source": [
    "#X = np.array([num_to_bin(n, 10) for n in df['Song']])\n",
    "X = df['Song'].to_numpy()\n",
    "#y = np.array(df['Next'])\n",
    "y = df['Next'].to_numpy()\n",
    "X"
   ]
  },
  {
   "cell_type": "code",
   "execution_count": 182,
   "metadata": {},
   "outputs": [],
   "source": [
    "everything = list(zip(X, y))\n",
    "\n",
    "random.shuffle(everything)\n",
    "\n",
    "X_list, y_list = zip(*everything)\n",
    "\n",
    "X_list = np.array(X)\n",
    "y_list = np.array(y)\n",
    "\n"
   ]
  },
  {
   "cell_type": "code",
   "execution_count": 181,
   "metadata": {},
   "outputs": [],
   "source": [
    "X_train, X_test, y_train, y_test = train_test_split(X, y, test_size=0.2, shuffle=True)"
   ]
  },
  {
   "cell_type": "code",
   "execution_count": 64,
   "metadata": {},
   "outputs": [],
   "source": [
    "mean = df['Next'].mean()\n",
    "std = df['Next'].std()"
   ]
  },
  {
   "cell_type": "code",
   "execution_count": 65,
   "metadata": {},
   "outputs": [],
   "source": [
    "def make_model(input_fts):\n",
    "    model = tf.keras.Sequential()\n",
    "    model.add(Dense(2, input_dim=input_fts))\n",
    "    return model"
   ]
  },
  {
   "cell_type": "code",
   "execution_count": 66,
   "metadata": {},
   "outputs": [],
   "source": [
    "def gauss_loss(y_true, y_pred):\n",
    "    \"\"\"Negative log likelihood of y_true, with the likelihood defined by a normal distribution.\"\"\"\n",
    "\n",
    "    y_true = y_true[:, 0]\n",
    "    means = y_pred[:, 0]\n",
    "    # We predict the log of the standard deviation, so exponentiate the prediction here\n",
    "    stds = tf.exp(y_pred[:, 1])\n",
    "    variances = stds * stds\n",
    "\n",
    "    log_p = (-tf.math.log(tf.sqrt(2 * math.pi * variances))\n",
    "             -(y_true - means)*(y_true - means)/(2 * variances))\n",
    "\n",
    "    return -log_p"
   ]
  },
  {
   "cell_type": "code",
   "execution_count": 204,
   "metadata": {},
   "outputs": [],
   "source": [
    "def train_model(X, y, X_test, y_test):\n",
    "    \"\"\"Builds the model, trains it on the given data, and returns the trained model and history.\"\"\"\n",
    "    \n",
    "    # Normalize y to have zero mean and unit variance\n",
    "    y = y - mean\n",
    "    y = y / std\n",
    "    \n",
    "    num_features = 1#len(X[0])\n",
    "    model = make_model(num_features)\n",
    "    \n",
    "    optimizer = tf.keras.optimizers.Adam(learning_rate=1e-2,\n",
    "                                         clipvalue=1,\n",
    "                                         decay=1e-3)\n",
    "\n",
    "    callback = callbacks.EarlyStopping(monitor='val_loss', patience=2)\n",
    "    model.compile(optimizer=optimizer,\n",
    "                  loss='mean_squared_error',\n",
    "                  metrics = [keras.metrics.MeanSquaredError(),\n",
    "                            keras.metrics.RootMeanSquaredError(),\n",
    "                            keras.metrics.MeanAbsoluteError(),\n",
    "                            keras.metrics.MeanAbsolutePercentageError(),\n",
    "                            keras.metrics.MeanSquaredLogarithmicError(),\n",
    "                            keras.metrics.CosineSimilarity(),\n",
    "                            keras.metrics.LogCoshError()])\n",
    "\n",
    "    history = model.fit(X, y,\n",
    "                        epochs=100,\n",
    "                        validation_split = 0.2,\n",
    "                        #validation_data=(X_test, y_test),\n",
    "                        callbacks=[callback],\n",
    "                        verbose=False)\n",
    "    \n",
    "    return model, history"
   ]
  },
  {
   "cell_type": "code",
   "execution_count": 68,
   "metadata": {},
   "outputs": [],
   "source": [
    "def predict(model, X):\n",
    "    \n",
    "    predictions = model.predict(X)\n",
    "    \n",
    "    # Scale up means\n",
    "    means = predictions[:, 0] * std + mean\n",
    "    # Exponentiate and scale up log standard deviation\n",
    "    stds = np.exp(predictions[:, 1]) * std\n",
    "    \n",
    "    return means, stds"
   ]
  },
  {
   "cell_type": "code",
   "execution_count": 205,
   "metadata": {},
   "outputs": [],
   "source": [
    "#reg_model, hist = train_model(X_train, y_train, X_test, y_test)\n",
    "reg_model, hist = train_model(X_list, y_list, X_test, y_test)"
   ]
  },
  {
   "cell_type": "code",
   "execution_count": 224,
   "metadata": {},
   "outputs": [],
   "source": [
    "#reg_model.save('reg_model.h5')"
   ]
  },
  {
   "cell_type": "code",
   "execution_count": null,
   "metadata": {},
   "outputs": [],
   "source": [
    "reg_model = keras.models.load_model('reg_model.h5')"
   ]
  },
  {
   "cell_type": "code",
   "execution_count": 368,
   "metadata": {},
   "outputs": [
    {
     "data": {
      "text/plain": [
       "dict_keys(['loss', 'mean_squared_error', 'root_mean_squared_error', 'mean_absolute_error', 'mean_absolute_percentage_error', 'mean_squared_logarithmic_error', 'cosine_similarity', 'logcosh', 'val_loss', 'val_mean_squared_error', 'val_root_mean_squared_error', 'val_mean_absolute_error', 'val_mean_absolute_percentage_error', 'val_mean_squared_logarithmic_error', 'val_cosine_similarity', 'val_logcosh'])"
      ]
     },
     "execution_count": 368,
     "metadata": {},
     "output_type": "execute_result"
    }
   ],
   "source": [
    "hist.history.keys()"
   ]
  },
  {
   "cell_type": "code",
   "execution_count": 206,
   "metadata": {},
   "outputs": [
    {
     "data": {
      "text/plain": [
       "<matplotlib.legend.Legend at 0x20d1c00c400>"
      ]
     },
     "execution_count": 206,
     "metadata": {},
     "output_type": "execute_result"
    },
    {
     "data": {
      "image/png": "[encoded data removed]",
      "text/plain": [
       "<Figure size 432x288 with 1 Axes>"
      ]
     },
     "metadata": {
      "needs_background": "light"
     },
     "output_type": "display_data"
    }
   ],
   "source": [
    "plt.plot(hist.history['loss'])\n",
    "plt.plot(hist.history['val_loss'])\n",
    "plt.title(\"Mean squared error\")\n",
    "plt.xlabel(\"Epoch\")\n",
    "plt.ylabel(\"MSE\")\n",
    "plt.legend([\"Training set\", \"Validation set\"])"
   ]
  },
  {
   "cell_type": "code",
   "execution_count": 222,
   "metadata": {},
   "outputs": [
    {
     "name": "stdout",
     "output_type": "stream",
     "text": [
      "0.8954516649246216\n",
      "0.9462831020355225\n",
      "0.7279109358787537\n",
      "132.82566833496094\n",
      "0.07655096799135208\n",
      "0.21388961374759674\n",
      "0.3362046182155609\n"
     ]
    }
   ],
   "source": [
    "print(hist.history['loss'][21])\n",
    "print(hist.history['root_mean_squared_error'][21])\n",
    "print(hist.history['mean_absolute_error'][21])\n",
    "print(hist.history['mean_absolute_percentage_error'][21])\n",
    "print(hist.history['mean_squared_logarithmic_error'][21])\n",
    "print(hist.history['cosine_similarity'][21])\n",
    "print(hist.history['logcosh'][21])"
   ]
  },
  {
   "cell_type": "code",
   "execution_count": 223,
   "metadata": {},
   "outputs": [
    {
     "name": "stdout",
     "output_type": "stream",
     "text": [
      "0.8971788883209229\n",
      "0.947195291519165\n",
      "0.915706992149353\n",
      "66.39631652832031\n",
      "0.26142844557762146\n",
      "1.3109898567199707\n",
      "0.3859446942806244\n"
     ]
    }
   ],
   "source": [
    "print(hist.history['val_loss'][21])\n",
    "print(hist.history['val_root_mean_squared_error'][21])\n",
    "print(hist.history['val_mean_absolute_error'][21])\n",
    "print(hist.history['val_mean_absolute_percentage_error'][21])\n",
    "print(hist.history['val_mean_squared_logarithmic_error'][21])\n",
    "print(hist.history['val_cosine_similarity'][21])\n",
    "print(hist.history['val_logcosh'][21])"
   ]
  },
  {
   "cell_type": "code",
   "execution_count": 207,
   "metadata": {},
   "outputs": [
    {
     "data": {
      "text/plain": [
       "<matplotlib.legend.Legend at 0x20d1e0f07c0>"
      ]
     },
     "execution_count": 207,
     "metadata": {},
     "output_type": "execute_result"
    },
    {
     "data": {
      "image/png": "[encoded data removed]",
      "text/plain": [
       "<Figure size 432x288 with 1 Axes>"
      ]
     },
     "metadata": {
      "needs_background": "light"
     },
     "output_type": "display_data"
    }
   ],
   "source": [
    "plt.plot(hist.history['root_mean_squared_error'])\n",
    "plt.plot(hist.history['val_root_mean_squared_error'])\n",
    "plt.title(\"Root mean squared error\")\n",
    "plt.xlabel(\"Epoch\")\n",
    "plt.ylabel(\"RMSE\")\n",
    "plt.legend([\"Training set\", \"Validation set\"])"
   ]
  },
  {
   "cell_type": "code",
   "execution_count": 209,
   "metadata": {},
   "outputs": [
    {
     "data": {
      "text/plain": [
       "22"
      ]
     },
     "execution_count": 209,
     "metadata": {},
     "output_type": "execute_result"
    }
   ],
   "source": [
    "len(hist.history['loss'])"
   ]
  },
  {
   "cell_type": "code",
   "execution_count": 208,
   "metadata": {},
   "outputs": [
    {
     "data": {
      "text/plain": [
       "<matplotlib.legend.Legend at 0x20d1e0e6410>"
      ]
     },
     "execution_count": 208,
     "metadata": {},
     "output_type": "execute_result"
    },
    {
     "data": {
      "image/png": "[encoded data removed]",
      "text/plain": [
       "<Figure size 432x288 with 1 Axes>"
      ]
     },
     "metadata": {
      "needs_background": "light"
     },
     "output_type": "display_data"
    }
   ],
   "source": [
    "plt.plot(hist.history['mean_absolute_error'])\n",
    "plt.plot(hist.history['val_mean_absolute_error'])\n",
    "plt.title(\"Mean absolute error\")\n",
    "plt.xlabel(\"Epoch\")\n",
    "plt.ylabel(\"MAE\")\n",
    "plt.legend([\"Training set\", \"Validation set\"])"
   ]
  },
  {
   "cell_type": "code",
   "execution_count": 210,
   "metadata": {},
   "outputs": [
    {
     "data": {
      "text/plain": [
       "<matplotlib.legend.Legend at 0x20d1e18ead0>"
      ]
     },
     "execution_count": 210,
     "metadata": {},
     "output_type": "execute_result"
    },
    {
     "data": {
      "image/png": "[encoded data removed]",
      "text/plain": [
       "<Figure size 432x288 with 1 Axes>"
      ]
     },
     "metadata": {
      "needs_background": "light"
     },
     "output_type": "display_data"
    }
   ],
   "source": [
    "plt.plot(hist.history['mean_absolute_percentage_error'])\n",
    "plt.plot(hist.history['val_mean_absolute_percentage_error'])\n",
    "plt.title(\"Mean absolute percentage error\")\n",
    "plt.xlabel(\"Epoch\")\n",
    "plt.ylabel(\"MAPE\")\n",
    "plt.legend([\"Training set\", \"Validation set\"])"
   ]
  },
  {
   "cell_type": "code",
   "execution_count": 211,
   "metadata": {},
   "outputs": [
    {
     "data": {
      "text/plain": [
       "<matplotlib.legend.Legend at 0x20d1bd755a0>"
      ]
     },
     "execution_count": 211,
     "metadata": {},
     "output_type": "execute_result"
    },
    {
     "data": {
      "image/png": "[encoded data removed]",
      "text/plain": [
       "<Figure size 432x288 with 1 Axes>"
      ]
     },
     "metadata": {
      "needs_background": "light"
     },
     "output_type": "display_data"
    }
   ],
   "source": [
    "plt.plot(hist.history['mean_squared_logarithmic_error'])\n",
    "plt.plot(hist.history['val_mean_squared_logarithmic_error'])\n",
    "plt.title(\"Mean squared logarithmic error\")\n",
    "plt.xlabel(\"Epoch\")\n",
    "plt.ylabel(\"MSLE\")\n",
    "plt.legend([\"Training set\", \"Validation set\"])"
   ]
  },
  {
   "cell_type": "code",
   "execution_count": 212,
   "metadata": {},
   "outputs": [
    {
     "data": {
      "text/plain": [
       "<matplotlib.legend.Legend at 0x20d1f2d9510>"
      ]
     },
     "execution_count": 212,
     "metadata": {},
     "output_type": "execute_result"
    },
    {
     "data": {
      "image/png": "[encoded data removed]",
      "text/plain": [
       "<Figure size 432x288 with 1 Axes>"
      ]
     },
     "metadata": {
      "needs_background": "light"
     },
     "output_type": "display_data"
    }
   ],
   "source": [
    "plt.plot(hist.history['cosine_similarity'])\n",
    "plt.plot(hist.history['val_cosine_similarity'])\n",
    "plt.title(\"Cosine similarity\")\n",
    "plt.xlabel(\"Epoch\")\n",
    "plt.ylabel(\"Cosine similarity\")\n",
    "plt.legend([\"Training set\", \"Validation set\"])"
   ]
  },
  {
   "cell_type": "code",
   "execution_count": 213,
   "metadata": {},
   "outputs": [
    {
     "data": {
      "text/plain": [
       "<matplotlib.legend.Legend at 0x20d1e249630>"
      ]
     },
     "execution_count": 213,
     "metadata": {},
     "output_type": "execute_result"
    },
    {
     "data": {
      "image/png": "[encoded data removed]",
      "text/plain": [
       "<Figure size 432x288 with 1 Axes>"
      ]
     },
     "metadata": {
      "needs_background": "light"
     },
     "output_type": "display_data"
    }
   ],
   "source": [
    "plt.plot(hist.history['logcosh'])\n",
    "plt.plot(hist.history['val_logcosh'])\n",
    "plt.title(\"Hyperbolic cosine logarithm error\")\n",
    "plt.xlabel(\"Epoch\")\n",
    "plt.ylabel(\"Hyperbolic cosine logarithm error\")\n",
    "plt.legend([\"Training set\", \"Validation set\"])"
   ]
  },
  {
   "cell_type": "code",
   "execution_count": 115,
   "metadata": {},
   "outputs": [],
   "source": [
    "def visualize_prediction(prediction, actual, filename=None, bgcolor=\"#ffffff\"):\n",
    "    \n",
    "    figure = plt.figure()\n",
    "    \n",
    "    means, stds = prediction\n",
    "    prediction_data = pd.DataFrame({\"predicted\": means,\n",
    "                                    \"actual\": actual,\n",
    "                                    \"min\": means - stds,\n",
    "                                    \"max\": means + stds})\n",
    "    \n",
    "    plot = prediction_data[[\"predicted\", \"actual\"]].plot()\n",
    "    \n",
    "    plot.set_facecolor(bgcolor)\n",
    "\n",
    "    plot.fill_between(prediction_data.index,\n",
    "                      prediction_data[\"min\"],\n",
    "                      prediction_data[\"max\"],\n",
    "                      alpha=0.2, color='k')\n",
    "    \n",
    "    #if filename is not None:\n",
    "    #    plt.savefig(filename, bbox_inches=\"tight\", dpi=200)\n",
    "    \n",
    "    return figure, plot"
   ]
  },
  {
   "cell_type": "code",
   "execution_count": 192,
   "metadata": {},
   "outputs": [
    {
     "data": {
      "text/plain": [
       "(<Figure size 432x288 with 0 Axes>, <AxesSubplot:>)"
      ]
     },
     "execution_count": 192,
     "metadata": {},
     "output_type": "execute_result"
    },
    {
     "data": {
      "text/plain": [
       "<Figure size 432x288 with 0 Axes>"
      ]
     },
     "metadata": {},
     "output_type": "display_data"
    },
    {
     "data": {
      "image/png": "[encoded data removed]",
      "text/plain": [
       "<Figure size 432x288 with 1 Axes>"
      ]
     },
     "metadata": {
      "needs_background": "light"
     },
     "output_type": "display_data"
    }
   ],
   "source": [
    "visualize_prediction(predict(reg_model, X), y, \"song_prediction.svg\")"
   ]
  },
  {
   "cell_type": "code",
   "execution_count": 244,
   "metadata": {},
   "outputs": [
    {
     "name": "stdout",
     "output_type": "stream",
     "text": [
      "15.520142\n",
      "476.67322\n"
     ]
    }
   ],
   "source": [
    "reg_y_test = np.array([num_to_bin(n, 10) for n in list(range(300))])\n",
    "means, stds = predict(reg_model, reg_y_test)\n",
    "print(means[6])"
   ]
  },
  {
   "cell_type": "code",
   "execution_count": 201,
   "metadata": {},
   "outputs": [
    {
     "name": "stdout",
     "output_type": "stream",
     "text": [
      "278.18005\n"
     ]
    }
   ],
   "source": [
    "reg_y_test = np.array(list(range(300)))\n",
    "means, stds = predict(reg_model, reg_y_test)\n",
    "print(means[299])"
   ]
  },
  {
   "cell_type": "code",
   "execution_count": 348,
   "metadata": {},
   "outputs": [
    {
     "name": "stdout",
     "output_type": "stream",
     "text": [
      "288.55945\n",
      "437.58606\n"
     ]
    }
   ],
   "source": [
    "print(means[290])\n",
    "print(stds[290])"
   ]
  },
  {
   "cell_type": "code",
   "execution_count": 178,
   "metadata": {},
   "outputs": [],
   "source": [
    "pred_means, pred_stds = predict(reg_model, X_test)"
   ]
  },
  {
   "cell_type": "code",
   "execution_count": 79,
   "metadata": {},
   "outputs": [],
   "source": [
    "def get_mse(y_true, y_pred):\n",
    "    mse = 0\n",
    "    size = len(y_true)\n",
    "    for i in range(size):\n",
    "        mse += math.pow(y_true[i] - y_pred[i], 2)\n",
    "    mse = mse / size\n",
    "    return mse"
   ]
  },
  {
   "cell_type": "code",
   "execution_count": 179,
   "metadata": {},
   "outputs": [
    {
     "name": "stdout",
     "output_type": "stream",
     "text": [
      "364.4815305864613\n"
     ]
    }
   ],
   "source": [
    "mse = get_mse(y_test, pred_means)\n",
    "print(mse)"
   ]
  },
  {
   "cell_type": "code",
   "execution_count": 117,
   "metadata": {},
   "outputs": [],
   "source": [
    "def normpdf(x, mean, sd): #true_y, pred_y (mean), std\n",
    "    var = float(sd)**2\n",
    "    denom = (2*math.pi*var)**.5\n",
    "    num = math.exp(-(float(x)-float(mean))**2/(2*var))\n",
    "    return num/denom"
   ]
  },
  {
   "cell_type": "code",
   "execution_count": 202,
   "metadata": {},
   "outputs": [
    {
     "data": {
      "image/png": "[encoded data removed]",
      "text/plain": [
       "<Figure size 432x288 with 1 Axes>"
      ]
     },
     "metadata": {
      "needs_background": "light"
     },
     "output_type": "display_data"
    }
   ],
   "source": [
    "unc = []\n",
    "for i in range(300):\n",
    "    p = normpdf(df['Song'][i], means[i], stds[i]) \n",
    "    nll = -np.log(p)\n",
    "    unc.append(nll)\n",
    "plt.plot(unc)\n",
    "plt.xlabel('Song number')\n",
    "plt.ylabel('Uncertainty')\n",
    "plt.show()"
   ]
  },
  {
   "cell_type": "code",
   "execution_count": 179,
   "metadata": {},
   "outputs": [
    {
     "data": {
      "text/plain": [
       "2.259119178503426"
      ]
     },
     "execution_count": 179,
     "metadata": {},
     "output_type": "execute_result"
    }
   ],
   "source": [
    "popuarity[3]\n",
    "unc[3]"
   ]
  },
  {
   "cell_type": "code",
   "execution_count": 252,
   "metadata": {},
   "outputs": [
    {
     "name": "stdout",
     "output_type": "stream",
     "text": [
      "(-0.5685207183325689, 4.115866297591095e-16)\n",
      "SpearmanrResult(correlation=-0.6972805720444409, pvalue=2.277848028086052e-26)\n",
      "KendalltauResult(correlation=-0.5086359309125528, pvalue=3.9521381311188385e-23)\n"
     ]
    },
    {
     "data": {
      "image/png": "[encoded data removed]",
      "text/plain": [
       "<Figure size 432x288 with 1 Axes>"
      ]
     },
     "metadata": {
      "needs_background": "light"
     },
     "output_type": "display_data"
    }
   ],
   "source": [
    "plot_uncertainty_pop(popuarity, unc)"
   ]
  },
  {
   "cell_type": "code",
   "execution_count": 203,
   "metadata": {},
   "outputs": [
    {
     "name": "stdout",
     "output_type": "stream",
     "text": [
      "(-0.6113920947271018, 2.0169704725089838e-19)\n",
      "SpearmanrResult(correlation=-0.6580673563724412, pvalue=3.294697939803805e-23)\n",
      "KendalltauResult(correlation=-0.4949350649350649, pvalue=1.8078772861757667e-22)\n"
     ]
    },
    {
     "data": {
      "image/png": "[encoded data removed]",
      "text/plain": [
       "<Figure size 432x288 with 1 Axes>"
      ]
     },
     "metadata": {
      "needs_background": "light"
     },
     "output_type": "display_data"
    }
   ],
   "source": [
    "plot_uncertainty_pop(popuarity, unc)"
   ]
  }
 ],
 "metadata": {
  "interpreter": {
   "hash": "0f2f6c680cf484319d387fabac80ca4ff4fc33965036e02100b3fe02600f1423"
  },
  "kernelspec": {
   "display_name": "Python 3.10.2 64-bit",
   "language": "python",
   "name": "python3"
  },
  "language_info": {
   "codemirror_mode": {
    "name": "ipython",
    "version": 3
   },
   "file_extension": ".py",
   "mimetype": "text/x-python",
   "name": "python",
   "nbconvert_exporter": "python",
   "pygments_lexer": "ipython3",
   "version": "3.10.2"
  },
  "orig_nbformat": 4
 },
 "nbformat": 4,
 "nbformat_minor": 2
}
